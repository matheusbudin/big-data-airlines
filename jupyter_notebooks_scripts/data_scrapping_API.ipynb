{
  "nbformat": 4,
  "nbformat_minor": 0,
  "metadata": {
    "colab": {
      "provenance": []
    },
    "kernelspec": {
      "name": "python3",
      "display_name": "Python 3"
    },
    "language_info": {
      "name": "python"
    }
  },
  "cells": [
    {
      "cell_type": "code",
      "execution_count": 1,
      "metadata": {
        "colab": {
          "base_uri": "https://localhost:8080/"
        },
        "id": "jM0YrZRaZ-tY",
        "outputId": "90caa6af-842c-48da-bbf9-605ac1436d29"
      },
      "outputs": [
        {
          "output_type": "stream",
          "name": "stdout",
          "text": [
            "Collecting pyspark\n",
            "  Downloading pyspark-3.5.0.tar.gz (316.9 MB)\n",
            "\u001b[2K     \u001b[90m━━━━━━━━━━━━━━━━━━━━━━━━━━━━━━━━━━━━━━━━\u001b[0m \u001b[32m316.9/316.9 MB\u001b[0m \u001b[31m4.2 MB/s\u001b[0m eta \u001b[36m0:00:00\u001b[0m\n",
            "\u001b[?25h  Preparing metadata (setup.py) ... \u001b[?25l\u001b[?25hdone\n",
            "Requirement already satisfied: py4j==0.10.9.7 in /usr/local/lib/python3.10/dist-packages (from pyspark) (0.10.9.7)\n",
            "Building wheels for collected packages: pyspark\n",
            "  Building wheel for pyspark (setup.py) ... \u001b[?25l\u001b[?25hdone\n",
            "  Created wheel for pyspark: filename=pyspark-3.5.0-py2.py3-none-any.whl size=317425344 sha256=a8d642d31fa1dc6f91c29515484fb48d45ce11e2a63aab8d4e5eed93b4f968aa\n",
            "  Stored in directory: /root/.cache/pip/wheels/41/4e/10/c2cf2467f71c678cfc8a6b9ac9241e5e44a01940da8fbb17fc\n",
            "Successfully built pyspark\n",
            "Installing collected packages: pyspark\n",
            "Successfully installed pyspark-3.5.0\n"
          ]
        }
      ],
      "source": [
        "!pip install pyspark"
      ]
    },
    {
      "cell_type": "code",
      "source": [
        "!pip install requests"
      ],
      "metadata": {
        "colab": {
          "base_uri": "https://localhost:8080/"
        },
        "id": "V4CkCDo9aGp-",
        "outputId": "408ccf86-df98-4189-f6c3-a60122762458"
      },
      "execution_count": 2,
      "outputs": [
        {
          "output_type": "stream",
          "name": "stdout",
          "text": [
            "Requirement already satisfied: requests in /usr/local/lib/python3.10/dist-packages (2.31.0)\n",
            "Requirement already satisfied: charset-normalizer<4,>=2 in /usr/local/lib/python3.10/dist-packages (from requests) (3.3.0)\n",
            "Requirement already satisfied: idna<4,>=2.5 in /usr/local/lib/python3.10/dist-packages (from requests) (3.4)\n",
            "Requirement already satisfied: urllib3<3,>=1.21.1 in /usr/local/lib/python3.10/dist-packages (from requests) (2.0.6)\n",
            "Requirement already satisfied: certifi>=2017.4.17 in /usr/local/lib/python3.10/dist-packages (from requests) (2023.7.22)\n"
          ]
        }
      ]
    },
    {
      "cell_type": "code",
      "source": [
        "import os\n",
        "import sys\n",
        "import re\n",
        "import json\n",
        "import requests\n",
        "from pyspark.sql import SparkSession\n",
        "from pyspark.sql.types import *\n",
        "from pyspark.sql.functions import *"
      ],
      "metadata": {
        "id": "7TEq_hgca09i"
      },
      "execution_count": 13,
      "outputs": []
    },
    {
      "cell_type": "code",
      "source": [
        "# Initialize a Spark session\n",
        "spark = SparkSession.builder.appName(\"Aerodrome_Info_API\").getOrCreate()"
      ],
      "metadata": {
        "id": "t_C-wx3Ea5CA"
      },
      "execution_count": 14,
      "outputs": []
    },
    {
      "cell_type": "code",
      "source": [
        "# Read VRA data from a Parquet file\n",
        "df_vra = spark.read.parquet(\"/content/VRA\")\n"
      ],
      "metadata": {
        "id": "50lhjG_Ea_EW"
      },
      "execution_count": 15,
      "outputs": []
    },
    {
      "cell_type": "code",
      "source": [
        "df_vra.show(truncate=False)"
      ],
      "metadata": {
        "colab": {
          "base_uri": "https://localhost:8080/"
        },
        "id": "FnmPuNpkcxt0",
        "outputId": "1953aaec-b5a5-438c-9c2a-2ba553383a1a"
      },
      "execution_count": 16,
      "outputs": [
        {
          "output_type": "stream",
          "name": "stdout",
          "text": [
            "+-------------------+-------------------+------------------+--------------------+-----------------+----------------------+---------------------+------------------+----------+-------------------+-------------------+------------+\n",
            "|chegada_prevista   |chegada_real       |codigo_autorizacao|codigo_justificativa|codigo_tipo_linha|icao_aerodromo_destino|icao_aerodromo_origem|icao_empresa_aerea|numero_voo|partida_prevista   |partida_real       |situacao_voo|\n",
            "+-------------------+-------------------+------------------+--------------------+-----------------+----------------------+---------------------+------------------+----------+-------------------+-------------------+------------+\n",
            "|2021-11-12 08:30:00|2021-11-12 08:30:00|0                 |N/A                 |X                |KORD                  |SBGR                 |UAL               |844       |2021-11-11 22:00:00|2021-11-11 22:14:00|REALIZADO   |\n",
            "|2021-11-15 08:30:00|2021-11-15 08:30:00|0                 |N/A                 |X                |KORD                  |SBGR                 |UAL               |844       |2021-11-14 22:00:00|2021-11-14 21:59:00|REALIZADO   |\n",
            "|2021-11-22 08:30:00|2021-11-22 08:30:00|0                 |N/A                 |X                |KORD                  |SBGR                 |UAL               |844       |2021-11-21 22:00:00|2021-11-21 22:00:00|REALIZADO   |\n",
            "|2021-11-19 08:30:00|2021-11-19 08:30:00|0                 |N/A                 |X                |KORD                  |SBGR                 |UAL               |844       |2021-11-18 22:00:00|2021-11-18 22:01:00|REALIZADO   |\n",
            "|2021-11-21 08:30:00|2021-11-21 08:30:00|0                 |N/A                 |X                |KORD                  |SBGR                 |UAL               |844       |2021-11-20 22:00:00|2021-11-20 22:02:00|REALIZADO   |\n",
            "|2021-11-23 08:30:00|2021-11-23 08:30:00|0                 |N/A                 |X                |KORD                  |SBGR                 |UAL               |844       |2021-11-22 22:00:00|2021-11-22 22:09:00|REALIZADO   |\n",
            "|2021-11-24 08:30:00|2021-11-24 08:30:00|0                 |N/A                 |X                |KORD                  |SBGR                 |UAL               |844       |2021-11-23 22:00:00|2021-11-23 22:17:00|REALIZADO   |\n",
            "|2021-11-26 08:30:00|2021-11-26 08:30:00|0                 |N/A                 |X                |KORD                  |SBGR                 |UAL               |844       |2021-11-25 22:00:00|2021-11-25 21:58:00|REALIZADO   |\n",
            "|2021-11-28 08:30:00|2021-11-28 08:30:00|0                 |N/A                 |X                |KORD                  |SBGR                 |UAL               |844       |2021-11-27 22:00:00|2021-11-27 21:54:00|REALIZADO   |\n",
            "|2021-11-30 08:30:00|2021-11-30 08:30:00|0                 |N/A                 |X                |KORD                  |SBGR                 |UAL               |844       |2021-11-29 22:00:00|2021-11-29 22:00:00|REALIZADO   |\n",
            "|2021-12-01 08:30:00|2021-12-01 08:30:00|0                 |N/A                 |X                |KORD                  |SBGR                 |UAL               |844       |2021-11-30 22:00:00|2021-11-30 22:15:00|REALIZADO   |\n",
            "|2021-11-16 08:30:00|2021-11-16 08:30:00|0                 |N/A                 |X                |KORD                  |SBGR                 |UAL               |844       |2021-11-15 22:00:00|2021-11-15 21:56:00|REALIZADO   |\n",
            "|2021-11-17 08:30:00|2021-11-17 08:30:00|0                 |N/A                 |X                |KORD                  |SBGR                 |UAL               |844       |2021-11-16 22:00:00|2021-11-16 22:02:00|REALIZADO   |\n",
            "|2021-11-29 08:30:00|2021-11-29 08:30:00|0                 |N/A                 |X                |KORD                  |SBGR                 |UAL               |844       |2021-11-28 22:00:00|2021-11-28 21:55:00|REALIZADO   |\n",
            "|2021-11-01 10:40:00|2021-11-01 10:40:00|0                 |N/A                 |X                |SBGR                  |KORD                 |UAL               |845       |2021-11-01 00:40:00|2021-11-01 00:31:00|REALIZADO   |\n",
            "|2021-11-02 10:40:00|2021-11-02 10:40:00|0                 |N/A                 |X                |SBGR                  |KORD                 |UAL               |845       |2021-11-02 00:40:00|2021-11-02 00:36:00|REALIZADO   |\n",
            "|2021-11-04 10:40:00|2021-11-04 10:40:00|0                 |N/A                 |X                |SBGR                  |KORD                 |UAL               |845       |2021-11-04 00:40:00|2021-11-04 00:47:00|REALIZADO   |\n",
            "|2021-11-06 10:40:00|2021-11-06 10:40:00|0                 |N/A                 |X                |SBGR                  |KORD                 |UAL               |845       |2021-11-06 00:40:00|2021-11-06 02:27:00|REALIZADO   |\n",
            "|2021-11-08 10:40:00|2021-11-08 10:40:00|0                 |N/A                 |X                |SBGR                  |KORD                 |UAL               |845       |2021-11-08 00:40:00|2021-11-08 00:28:00|REALIZADO   |\n",
            "|2021-11-07 10:40:00|2021-11-07 10:40:00|0                 |N/A                 |X                |SBGR                  |KORD                 |UAL               |845       |2021-11-07 00:40:00|2021-11-07 00:44:00|REALIZADO   |\n",
            "+-------------------+-------------------+------------------+--------------------+-----------------+----------------------+---------------------+------------------+----------+-------------------+-------------------+------------+\n",
            "only showing top 20 rows\n",
            "\n"
          ]
        }
      ]
    },
    {
      "cell_type": "code",
      "source": [
        "df_air_cia = spark.read.parquet(\"/content/AIR_CIA\")"
      ],
      "metadata": {
        "id": "nrg-qmFkdIu_"
      },
      "execution_count": 17,
      "outputs": []
    },
    {
      "cell_type": "code",
      "source": [
        "df_air_cia.show(truncate=False)"
      ],
      "metadata": {
        "colab": {
          "base_uri": "https://localhost:8080/"
        },
        "id": "U91bb3jKdL-k",
        "outputId": "547e1a71-0bd4-43ba-87b3-45605b6551c9"
      },
      "execution_count": 18,
      "outputs": [
        {
          "output_type": "stream",
          "name": "stdout",
          "text": [
            "+------------------------------------------------------------------+----+----+------------------+------------------------------------------------------------------------------------------------+--------------------------------------------------------------------------------------------------------------------------------------------------------------------+---------------------------------------------+-----------------------------------+----------------------------+------------------------+--------------------+\n",
            "|razao_social                                                      |icao|iata|cnpj              |atividades_aereas                                                                               |endereco_sede                                                                                                                                                       |telefone                                     |e_mail                             |decisao_operacional         |data_decisao_operacional|validade_operacional|\n",
            "+------------------------------------------------------------------+----+----+------------------+------------------------------------------------------------------------------------------------+--------------------------------------------------------------------------------------------------------------------------------------------------------------------+---------------------------------------------+-----------------------------------+----------------------------+------------------------+--------------------+\n",
            "|ABSA - AEROLINHAS BRASILEIRAS S.A.                                |LTG |M3  |00.074.635/0001-33|TRANSPORTE AÉREO REGULAR                                                                        |AEROPORTO INTERNACIONAL DE VIRACOPOS, RODOVIA SANTOS DUMONT, KM 66, SISTEMA VIÁRIO PRINCIPAL, S/ Nº, 13.052-970, CAMPINAS-SP                                        |(11) 5582-8055                               |gar@tam.com.br                     |DECISÃO Nº 41               |22/04/2015              |23/04/2025          |\n",
            "|AEROSUL TÁXI AÉREO LTDA (EX.: AUSTEN TÁXI AÉREO LTDA)             |ASO |2S  |27.315.694/0001-02|SERVIÇOS AÉREOS PÚBLICOS, TÁXI-AÉREO, TRANSPORTE AÉREO NÃO REGULAR, TRANSPORTE AÉREO REGULAR    |RODOVIA PR 218, KM 7, JARDIM UNIVERSITÁRIO, AEROPORTO MUNICIPAL ALBERTO BERTELLI , 86.702-670, ARAPONGAS-PR                                                         |(43) 3176-4030                               |operacoes@aerosul.com.br           |DECISÃO Nº 282              |10/02/2021              |                    |\n",
            "|ASTA LINHAS AÉREAS LTDA ( EX - AMÉRICA DO SUL LINHAS AÉREAS LTDA.)|SUL |0A  |12.703.737/0001-50|SERVIÇOS AÉREOS PÚBLICOS, TRANSPORTE AÉREO REGULAR                                              |AV GOVERNADOR JOÃO PONCE DE ARRUDA, S/N, HANGAR AMÉRICA DO SUL ANEXO AO AEROP. MAL RONDON. CAIXA POSTAL N° 156, NO BAIRRO CENTRO-NORTE, 78.110-900, VÁRZEA GRANDE-MT|(65) 3614-2684 / (18) 2104-1000              |                                   |DECISÃO Nº 115              |31/07/2019              |02/08/2024          |\n",
            "|ATA - AEROTÁXI ABAETÉ LTDA.                                       |ABJ |    |14.674.451/0001-19|TÁXI-AÉREO, TRANSPORTE AÉREO NÃO REGULAR, TRANSPORTE AÉREO REGULAR                              | PÇA. GAGO COUTINHO, S/N, AEROPORTO INTERNACIONAL DE SALVADOR DEPUTADO LUÍS EDUARDO MAGALHÃES - HANGAR - AEROPORTO, 41.510-045, SALVADOR-BA                         |(71) 34629600 / (71) 996643563               |guilherme@abaete.com.br            |DECISÃO Nº 36               |05/03/2020              |                    |\n",
            "|AZUL CONECTA LTDA. (EX TWO TAXI AEREO LTDA)                       |ACN |2F  |04.263.318/0001-16|TRANSPORTE AÉREO REGULAR                                                                        |AVENIDA EMILIO ANTONON, 901, BAIRRO CHÁCARA AEROPORTO, 13.212-010, JUNDIAÍ-SP                                                                                       |(11) 45822355/ (11) 987433988                |                                   |Decisão nº 14, de 25/01/2018|25/01/2018              |29/01/2028          |\n",
            "|AZUL LINHAS AÉREAS BRASILEIRAS S/A                                |AZU |AD  |09.296.295/0001-60|TRANSPORTE AÉREO REGULAR                                                                        |AV. MARCOS PENTEADO ULHÔA RODRIGUES,N°939, 9° ANDAR TORRE JATOBÁ, COND. CASTELO BRANCO OFFICE PARK - TAMBORÉ, 06.460-040, BARUERI-SP                                | (55) (11) 4134-9887 | Fax: (55)(11)4134-9890|vanessa.reis@voeazul.com.br        |Decisão nº 178              |20/11/2018              |21/11/2028          |\n",
            "|GOL LINHAS AÉREAS S.A. (EX- VRG LINHAS AÉREAS S.A.)               |GLO |G3  |07.575.651/0001-59|TRANSPORTE AÉREO REGULAR                                                                        |PRAÇA SENADOR SALGADO FILHO, S/N°, AEROPORTO SANTOS DUMONT, TÉRREO, ÁREA PÚBLICA, ENTRE OS EIXOS 46-48/0-P, 20.021-340, RIO DE JANEIRO-RJ                           |(11) 5098-2990 / (11) 5098-7872              |rddfonseca@voegol.com.br           |DECISÃO Nº 156              |05/11/2019              |                    |\n",
            "|MAP TRANSPORTES AÉREOS LTDA.                                      |PAM |7M  |10.483.635/0001-40|TRANSPORTE AÉREO REGULAR                                                                        |AVENIDA SANTOS DUMONT, Nº 1350, AEROPORTO INTERNACIONAL DE MANAUS EDUARDO GOMES - SAGUÃO DE EMBARQUE DO TPS I - HANGAR I, BAIRRO TARUMÃ, 69.041-000, MANAUS-AM      |(92) 36521620                                |contabil@voemap.com.br             |DECISÃO Nº 89               |14/08/2012              |17/08/2022          |\n",
            "|MODERN TRANSPORTE AEREO DE CARGA S.A                              |MWM |WD  |03.887.831/0001-15|TRANSPORTE AÉREO REGULAR                                                                        |AVENIDA PREFEITO LUIZ LATORRE, Nº 9450, CONDOMINIO MASTER BUSINESS PARK, GALPÃO 17, SALA 1, VILA DAS HORTÊNCIAS, 13.209-430, JUNDIAÍ-SP                             |(21) 2272-9272 / (11) 31096750               |juridico@modern.com.br             |DECISÃO Nº 79               |31/05/2017              |02/06/2027          |\n",
            "|PASSAREDO TRANSPORTES AÉREOS S.A.                                 |PTB |2Z  |00.512.777/0001-35|TRANSPORTE AÉREO REGULAR                                                                        |SETOR DE HANGARES. ENTRADA PELA AV. THOMAZ ALBERTO WHATELY S/Nº, LOTES 14,16,20 E 22 AEROPORTO LEITE LOPES - JARDIM AEROPORTO, 14.078-550, RIBEIRÃO PRETO-SP        |(16) 3514-7127 / (16) 3514-7126              |juridico@voepass.com.br            |DECISÃO Nº 105              |09/06/2020              |                    |\n",
            "|SIDERAL LINHAS AÉREAS LTDA.                                       |SID |0S  |10.919.908/0001-57|TRANSPORTE AÉREO NÃO REGULAR, TRANSPORTE AÉREO REGULAR                                          |RODOVIA CONTORNO LESTE BR-116, Nº 9.119, 3º ANDAR, SALA 01, BAIRRO COSTEIRA. CAIXA POSTAL Nº 1054, 83.015-162, SÃO JOSÉ DOS PINHAIS-PR                              |(41) 3116-9000 / (41) 3116-9059              |office@siderallinhasaereas.com.br  |DECISÃO Nº 37               |05/03/2020              |06/03/2025          |\n",
            "|TAM LINHAS AÉREAS S.A.                                            |TAM |JJ  |02.012.862/0001-60|TRANSPORTE AÉREO REGULAR                                                                        |RUA ÁTICA , N° 673, 6ª ANDAR, SALA 62, JARDIM BRASIL, 04.634-042, SÃO PAULO-SP                                                                                      |(11) 5582-8055 / (11) 5582-8050              |gar@tam.com.br                     |DECISÃO Nº 366              |07/07/2021              |09/11/2031          |\n",
            "|TOTAL LINHAS AÉREAS S.A.                                          |TTL |L1  |32.068.363/0001-55|SERVIÇOS AÉREOS PÚBLICOS, TRANSPORTE AÉREO REGULAR                                              |AV. SENADOR SALGADO FILHO, 5397 SALA D - BAIRRO UBERABA, 81.580-000, CURITIBA-PR                                                                                    |(41) 3371-8200 / (31) 3343-8600              |geraldo.antonio@total.com.br       |DECISÃO Nº 260              |12/01/2021              |14/01/2031          |\n",
            "|AEROSUL TÁXI AÉREO LTDA (EX.: AUSTEN TÁXI AÉREO LTDA)             |ASO |2S  |27.315.694/0001-02|SERVIÇOS AÉREOS PÚBLICOS, TÁXI-AÉREO, TRANSPORTE AÉREO NÃO REGULAR, TRANSPORTE AÉREO REGULAR    |RODOVIA PR 218, KM 7, JARDIM UNIVERSITÁRIO, AEROPORTO MUNICIPAL ALBERTO BERTELLI , 86.702-670, ARAPONGAS-PR                                                         |(43) 3176-4030                               |operacoes@aerosul.com.br           |DECISÃO Nº 282              |10/02/2021              |                    |\n",
            "|ATA - AEROTÁXI ABAETÉ LTDA.                                       |ABJ |    |14.674.451/0001-19|TÁXI-AÉREO, TRANSPORTE AÉREO NÃO REGULAR, TRANSPORTE AÉREO REGULAR                              | PÇA. GAGO COUTINHO, S/N, AEROPORTO INTERNACIONAL DE SALVADOR DEPUTADO LUÍS EDUARDO MAGALHÃES - HANGAR - AEROPORTO, 41.510-045, SALVADOR-BA                         |(71) 34629600 / (71) 996643563               |guilherme@abaete.com.br            |DECISÃO Nº 36               |05/03/2020              |                    |\n",
            "|OMNI TÁXI AÉREO S.A.                                              |OMI |O1  |03.670.763/0001-38|AEROFOTOGRAFIA, AEROINSPEÇÃO, SERVIÇOS AÉREOS PÚBLICOS, TÁXI-AÉREO, TRANSPORTE AÉREO NÃO REGULAR|AV. AYRTON SENNA, 2541 RUA F1 LOTE 40 - AEROPORTO DE JACAREPAGUÁ - BARRA DA TIJUCA, 22.775-002, RIO DE JANEIRO-RJ                                                   |(61) 98335-3444                              |lira@plfconsultoria.com.br         |DECISÃO Nº 100              |10/07/2019              |12/07/2024          |\n",
            "|PRIME TÁXI AIR LTDA                                               |    |    |23.568.370/0001-25|TÁXI-AÉREO, TRANSPORTE AÉREO NÃO REGULAR, SERVIÇOS AÉREOS PÚBLICOS                              |AL. RIO NEGRO, 585 - BLOCO A - CJ.95 - SALA E, 06.454-000, BARUERI-SP                                                                                               |(11) 41958307 / (11) 41958308                |mmatta@primefractionclub.com.br    |DECISÃO Nº 237              |17/12/2020              |18/12/2025          |\n",
            "|SIDERAL LINHAS AÉREAS LTDA.                                       |SID |0S  |10.919.908/0001-57|TRANSPORTE AÉREO NÃO REGULAR, TRANSPORTE AÉREO REGULAR                                          |RODOVIA CONTORNO LESTE BR-116, Nº 9.119, 3º ANDAR, SALA 01, BAIRRO COSTEIRA. CAIXA POSTAL Nº 1054, 83.015-162, SÃO JOSÉ DOS PINHAIS-PR                              |(41) 3116-9000 / (41) 3116-9059              |office@siderallinhasaereas.com.br  |DECISÃO Nº 37               |05/03/2020              |06/03/2025          |\n",
            "|RIMA - RIO MADEIRA AEROTÁXI LTDA.                                 |RIM |0R  |04.778.630/0001-42|LIGAÇÃO AÉREA SISTEMÁTICA REGULAR, TÁXI-AÉREO                                                   |AV. LAURO SODRÉ, Nº 6490 - AEROPORTO INTERNACIONAL DE PORTO VELHO - LOJA 04, 76.803-260, PORTO VELHO-RO                                                             |(69) 3225-8000                               |                                   |DECISÃO Nº 116              |26/07/2017              |27/07/2022          |\n",
            "|RTS - ROTA DO SOL TÁXI AÉREO LTDA.                                |CKP |    |01.904.715/0001-31|LIGAÇÃO AÉREA SISTEMÁTICA REGULAR, SERVIÇOS AÉREOS PÚBLICOS, TÁXI-AÉREO                         |PRAÇA EDUARDO GOMES, S/Nº, TERMINAL DE AVIAÇÃO GERAL, SALA 013 - BAIRRO VILA UNIÃO, 60.422-721, FORTALEZA-CE                                                        |(85) 3272-3555                               |quadros@voerotadosol.com           |DECISÃO Nº 21               |13/02/2019              |15/02/2024          |\n",
            "+------------------------------------------------------------------+----+----+------------------+------------------------------------------------------------------------------------------------+--------------------------------------------------------------------------------------------------------------------------------------------------------------------+---------------------------------------------+-----------------------------------+----------------------------+------------------------+--------------------+\n",
            "\n"
          ]
        }
      ]
    },
    {
      "cell_type": "markdown",
      "source": [
        "##Scraping da API"
      ],
      "metadata": {
        "id": "c9HHc8nVdWQ_"
      }
    },
    {
      "cell_type": "code",
      "source": [
        "# Define your RapidAPI key\n",
        "# por segurança essa key deve ser ocultada e passada como variavel de ambiente\n",
        "rapidapi_key = \"a15526b664msh3495e669af65699p1cc753jsn486844326116\""
      ],
      "metadata": {
        "id": "SSk0JmAZdYKd"
      },
      "execution_count": 12,
      "outputs": []
    },
    {
      "cell_type": "code",
      "source": [
        "# Define the API endpoint\n",
        "api_url = \"https://airport-info.p.rapidapi.com/airports\""
      ],
      "metadata": {
        "id": "cYNM7SvYdolw"
      },
      "execution_count": 13,
      "outputs": []
    },
    {
      "cell_type": "code",
      "source": [
        "# Create an empty DataFrame to store aerodrome information and rename it to df_aerodramo\n",
        "df_aerodramo = spark.createDataFrame([], schema=df_vra.schema)"
      ],
      "metadata": {
        "id": "vdOuY-q-d6ME"
      },
      "execution_count": 14,
      "outputs": []
    },
    {
      "cell_type": "code",
      "source": [
        "# Loop through ICAO codes in the df_air_cia DataFrame\n",
        "for row in df_air_cia.rdd.collect():\n",
        "    icao_code = row[\"icao\"]\n",
        "\n",
        "    # Define query parameters for the API\n",
        "    query_params = {\"iata\": icao_code}\n",
        "\n",
        "    # Set headers with your RapidAPI key and host\n",
        "    headers = {\n",
        "        \"X-RapidAPI-Key\": rapidapi_key,\n",
        "        \"X-RapidAPI-Host\": \"airport-info.p.rapidapi.com\"\n",
        "    }\n",
        "\n",
        "    # Make the API request\n",
        "    response = requests.get(api_url, params=query_params, headers=headers)\n",
        "\n",
        "    if response.status_code == 200:\n",
        "        aerodrome_info = response.json()\n",
        "        # Convert the aerodrome_info to a PySpark Row and append it to the DataFrame\n",
        "        aerodrome_info_row = spark.createDataFrame([aerodrome_info], schema=df_air_cia.schema)\n",
        "        df_aerodramo = df_aerodramo.union(aerodrome_info_row)\n",
        "\n"
      ],
      "metadata": {
        "id": "7KNqM_49eEDm"
      },
      "execution_count": 17,
      "outputs": []
    },
    {
      "cell_type": "code",
      "source": [
        "# Show a preview of the df_aerodramo DataFrame\n",
        "df_aerodramo.show()"
      ],
      "metadata": {
        "colab": {
          "base_uri": "https://localhost:8080/"
        },
        "id": "EAj6RlTxeNES",
        "outputId": "7effcf69-c511-451f-c655-f3a52060f0fc"
      },
      "execution_count": 18,
      "outputs": [
        {
          "output_type": "stream",
          "name": "stdout",
          "text": [
            "+----------------+------------+------------------+--------------------+-----------------+----------------------+--------------------+------------------+----------+----------------+------------+------------+\n",
            "|chegada_prevista|chegada_real|codigo_autorizacao|codigo_justificativa|codigo_tipo_linha|icao_aerodromo_destino|icaoaerodromo_origem|icao_empresa_aerea|numero_voo|partida_prevista|partida_real|situacao_voo|\n",
            "+----------------+------------+------------------+--------------------+-----------------+----------------------+--------------------+------------------+----------+----------------+------------+------------+\n",
            "+----------------+------------+------------------+--------------------+-----------------+----------------------+--------------------+------------------+----------+----------------+------------+------------+\n",
            "\n"
          ]
        }
      ]
    },
    {
      "cell_type": "code",
      "source": [],
      "metadata": {
        "id": "Vj3aSWpEeshI"
      },
      "execution_count": null,
      "outputs": []
    },
    {
      "cell_type": "code",
      "source": [],
      "metadata": {
        "id": "CqU-PIkGesOB"
      },
      "execution_count": null,
      "outputs": []
    },
    {
      "cell_type": "markdown",
      "source": [
        "-teste da api\n"
      ],
      "metadata": {
        "id": "6SKndLJKesup"
      }
    },
    {
      "cell_type": "code",
      "source": [],
      "metadata": {
        "colab": {
          "base_uri": "https://localhost:8080/"
        },
        "id": "N0VvVuxxevtB",
        "outputId": "5305f815-c6c9-4612-d955-4a6b7c4dbe43"
      },
      "execution_count": 19,
      "outputs": [
        {
          "output_type": "stream",
          "name": "stdout",
          "text": [
            "Failed to retrieve data from the API. Status code: 404\n"
          ]
        }
      ]
    },
    {
      "cell_type": "code",
      "source": [
        "import http.client\n",
        "conn = http.client.HTTPSConnection(\"airport-info.p.rapidapi.com\")\n",
        "headers = {\n",
        "    'x-rapidapi-key': \"a15526b664msh3495e669af65699p1cc753jsn486844326116\",\n",
        "    'x-rapidapi-host': \"airport-info.p.rapidapi.com\"\n",
        "    }\n",
        "conn.request(\"GET\", \"/airport?icao=KJFK\", headers=headers)\n",
        "res = conn.getresponse()\n",
        "data = res.read()\n",
        "print(data.decode(\"utf-8\"))"
      ],
      "metadata": {
        "colab": {
          "base_uri": "https://localhost:8080/"
        },
        "id": "qwMpYv6He6Ft",
        "outputId": "4137fdab-7fad-4746-fb3d-61cae31807b2"
      },
      "execution_count": 28,
      "outputs": [
        {
          "output_type": "stream",
          "name": "stdout",
          "text": [
            "{\"id\":3406,\"iata\":\"JFK\",\"icao\":\"KJFK\",\"name\":\"John F. Kennedy International Airport\",\"location\":\"New York City, New York, United States\",\"street_number\":\"\",\"street\":\"\",\"city\":\"\",\"county\":\"Queens County\",\"state\":\"New York\",\"country_iso\":\"US\",\"country\":\"United States\",\"postal_code\":\"11430\",\"phone\":\"+1 718-244-4444\",\"latitude\":40.64131,\"longitude\":-73.77814,\"uct\":-240,\"website\":\"https://www.jfkairport.com/\"}\n",
            "\n"
          ]
        }
      ]
    },
    {
      "cell_type": "code",
      "source": [
        "##################### rascunho requests que deu\n",
        "import requests\n",
        "\n",
        "# Replace with your RapidAPI key\n",
        "RAPIDAPI_KEY = 'a15526b664msh3495e669af65699p1cc753jsn486844326116'\n",
        "icao_code = 'KJFK'  # Replace with the desired ICAO code\n",
        "\n",
        "# Set up the API endpoint and headers\n",
        "url = f'https://airport-info.p.rapidapi.com/airport?icao={icao_code}'\n",
        "headers = {\n",
        "    'X-RapidAPI-Host': 'airport-info.p.rapidapi.com',\n",
        "    'X-RapidAPI-Key': RAPIDAPI_KEY\n",
        "}\n",
        "\n",
        "# Make an HTTP GET request to the API\n",
        "response = requests.get(url, headers=headers)\n",
        "\n",
        "if response.status_code == 200:\n",
        "    data = response.json()\n",
        "    print(data)\n",
        "    # Now you can process the data or create a PySpark DataFrame as needed.\n",
        "else:\n",
        "    print(f\"Failed to retrieve data from the API. Status code: {response.status_code}\")"
      ],
      "metadata": {
        "colab": {
          "base_uri": "https://localhost:8080/"
        },
        "id": "1CdT3c0Cg84r",
        "outputId": "79eee7a5-8344-4471-de6d-4f26cc37e7d3"
      },
      "execution_count": 34,
      "outputs": [
        {
          "output_type": "stream",
          "name": "stdout",
          "text": [
            "{'id': 3406, 'iata': 'JFK', 'icao': 'KJFK', 'name': 'John F. Kennedy International Airport', 'location': 'New York City, New York, United States', 'street_number': '', 'street': '', 'city': '', 'county': 'Queens County', 'state': 'New York', 'country_iso': 'US', 'country': 'United States', 'postal_code': '11430', 'phone': '+1 718-244-4444', 'latitude': 40.64131, 'longitude': -73.77814, 'uct': -240, 'website': 'https://www.jfkairport.com/'}\n"
          ]
        }
      ]
    },
    {
      "cell_type": "code",
      "source": [],
      "metadata": {
        "id": "24dHv0iyh1iZ"
      },
      "execution_count": null,
      "outputs": []
    },
    {
      "cell_type": "code",
      "source": [],
      "metadata": {
        "id": "aX7bzTIbh1vk"
      },
      "execution_count": null,
      "outputs": []
    },
    {
      "cell_type": "code",
      "source": [],
      "metadata": {
        "id": "fHL8sxA2h15i"
      },
      "execution_count": null,
      "outputs": []
    },
    {
      "cell_type": "markdown",
      "source": [
        "#Teste dataframe com requests"
      ],
      "metadata": {
        "id": "cGNEG05Mh2nd"
      }
    },
    {
      "cell_type": "code",
      "source": [
        "# Import the necessary libraries\n",
        "from pyspark.sql import SparkSession\n",
        "import requests\n",
        "\n",
        "# Replace with your RapidAPI key\n",
        "RAPIDAPI_KEY = 'a15526b664msh3495e669af65699p1cc753jsn486844326116'\n",
        "\n",
        "# Initialize a Spark session\n",
        "spark = SparkSession.builder.appName(\"AirportInfo\").getOrCreate()\n",
        "\n",
        "# Read your DataFrame from a Parquet file\n",
        "df_vra = spark.read.parquet(\"/content/VRA/\")\n",
        "\n",
        "# Function to retrieve aerodrome data for a specific ICAO code\n",
        "def get_aerodrome_data(icao_code):\n",
        "    url = f'https://airport-info.p.rapidapi.com/airport?icao={icao_code}'\n",
        "    headers = {\n",
        "        'X-RapidAPI-Host': 'airport-info.p.rapidapi.com',\n",
        "        'X-RapidAPI-Key': RAPIDAPI_KEY\n",
        "    }\n",
        "    response = requests.get(url, headers=headers)\n",
        "    if response.status_code == 200:\n",
        "        return response.json()\n",
        "    else:\n",
        "        print(f\"Failed to retrieve data for ICAO: {icao_code}\")\n",
        "        return None\n",
        "\n",
        "# Iterate through distinct ICAO codes and retrieve aerodrome data\n",
        "aerodrome_data = []\n",
        "distinct_icao_codes = df_vra.select(\"icao_aerodromo_origem\").distinct().rdd.flatMap(lambda x: x).collect()\n",
        "\n",
        "for icao_code in distinct_icao_codes:\n",
        "    data = get_aerodrome_data(icao_code)\n",
        "    if data:\n",
        "        aerodrome_data.append(data)\n",
        "\n",
        "# Create a PySpark DataFrame from the obtained aerodrome data\n",
        "aerodrome_df = spark.createDataFrame(aerodrome_data)\n",
        "\n",
        "# Show the aerodrome data DataFrame\n",
        "aerodrome_df.show()\n",
        "\n",
        "# Stop the Spark session\n",
        "#spark.stop()--------> executar novament depois\n"
      ],
      "metadata": {
        "id": "ojFeWHzdh2CC"
      },
      "execution_count": null,
      "outputs": []
    },
    {
      "cell_type": "code",
      "source": [
        "#a15526b664msh3495e669af65699p1cc753jsn486844326116"
      ],
      "metadata": {
        "id": "J9iAYqOYx3mI"
      },
      "execution_count": 21,
      "outputs": []
    },
    {
      "cell_type": "code",
      "source": [
        "import requests\n",
        "from pyspark.sql import SparkSession\n",
        "from pyspark.sql.functions import col\n",
        "from pyspark.sql.types import StructType, StructField, StringType, IntegerType, FloatType\n",
        "\n",
        "# Create a Spark session\n",
        "spark = SparkSession.builder.appName(\"AirportInfo\").getOrCreate()\n",
        "\n",
        "# API URL\n",
        "url = \"https://airport-info.p.rapidapi.com/airport\"\n",
        "\n",
        "# Request headers with your API key\n",
        "headers = {\n",
        "    \"X-RapidAPI-Host\": \"airport-info.p.rapidapi.com\",\n",
        "    \"X-RapidAPI-Key\": \"a15526b664msh3495e669af65699p1cc753jsn486844326116\"\n",
        "}\n",
        "\n",
        "# Make a GET request to the API\n",
        "response = requests.get(url, headers=headers)\n",
        "\n",
        "# Check if the request was successful\n",
        "if response.status_code == 200:\n",
        "    # Parse the JSON response into a list of dictionaries\n",
        "    json_data = [response.json()]\n",
        "\n",
        "    # Define the schema for the DataFrame\n",
        "    schema = StructType([\n",
        "        StructField(\"id\", IntegerType(), True),\n",
        "        StructField(\"iata\", StringType(), True),\n",
        "        StructField(\"icao\", StringType(), True),\n",
        "        StructField(\"name\", StringType(), True),\n",
        "        StructField(\"location\", StringType(), True),\n",
        "        StructField(\"street_number\", StringType(), True),\n",
        "        StructField(\"street\", StringType(), True),\n",
        "        StructField(\"city\", StringType(), True),\n",
        "        StructField(\"county\", StringType(), True),\n",
        "        StructField(\"state\", StringType(), True),\n",
        "        StructField(\"country_iso\", StringType(), True),\n",
        "        StructField(\"country\", StringType(), True),\n",
        "        StructField(\"postal_code\", StringType(), True),\n",
        "        StructField(\"phone\", StringType(), True),\n",
        "        StructField(\"latitude\", FloatType(), True),\n",
        "        StructField(\"longitude\", FloatType(), True),\n",
        "        StructField(\"uct\", IntegerType(), True),\n",
        "        StructField(\"website\", StringType(), True)\n",
        "    ])\n",
        "\n",
        "    # Create the DataFrame from the list of dictionaries\n",
        "    df = spark.createDataFrame(json_data, schema=schema)\n",
        "\n",
        "    # Display the DataFrame\n",
        "    df.show()\n",
        "\n",
        "    # Optionally, you can perform further DataFrame operations, e.g., selecting specific columns\n",
        "    df.select(\"iata\", \"icao\", \"name\", \"location\", \"country\").show()\n",
        "\n",
        "    # Stop the Spark session\n",
        "    spark.stop()\n",
        "else:\n",
        "    print(f\"API request failed with status code {response.status_code}\")\n",
        "\n",
        "# Be sure to replace \"YOUR_RAPIDAPI_KEY_HERE\" with your actual RapidAPI key.\n"
      ],
      "metadata": {
        "colab": {
          "base_uri": "https://localhost:8080/"
        },
        "id": "FyuPq1Chzrus",
        "outputId": "39d7bf6b-d00e-487a-f63d-972b89b6f9b8"
      },
      "execution_count": 22,
      "outputs": [
        {
          "output_type": "stream",
          "name": "stdout",
          "text": [
            "+----+----+----+----+--------+-------------+------+----+------+-----+-----------+-------+-----------+-----+--------+---------+----+-------+\n",
            "|  id|iata|icao|name|location|street_number|street|city|county|state|country_iso|country|postal_code|phone|latitude|longitude| uct|website|\n",
            "+----+----+----+----+--------+-------------+------+----+------+-----+-----------+-------+-----------+-----+--------+---------+----+-------+\n",
            "|NULL|NULL|NULL|NULL|    NULL|         NULL|  NULL|NULL|  NULL| NULL|       NULL|   NULL|       NULL| NULL|    NULL|     NULL|NULL|   NULL|\n",
            "+----+----+----+----+--------+-------------+------+----+------+-----+-----------+-------+-----------+-----+--------+---------+----+-------+\n",
            "\n",
            "+----+----+----+--------+-------+\n",
            "|iata|icao|name|location|country|\n",
            "+----+----+----+--------+-------+\n",
            "|NULL|NULL|NULL|    NULL|   NULL|\n",
            "+----+----+----+--------+-------+\n",
            "\n"
          ]
        }
      ]
    }
  ]
}