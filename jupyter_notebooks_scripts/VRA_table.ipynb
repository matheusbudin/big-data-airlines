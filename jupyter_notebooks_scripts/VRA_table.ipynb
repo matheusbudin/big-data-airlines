{
  "nbformat": 4,
  "nbformat_minor": 0,
  "metadata": {
    "colab": {
      "provenance": []
    },
    "kernelspec": {
      "name": "python3",
      "display_name": "Python 3"
    },
    "language_info": {
      "name": "python"
    }
  },
  "cells": [
    {
      "cell_type": "code",
      "execution_count": 1,
      "metadata": {
        "colab": {
          "base_uri": "https://localhost:8080/"
        },
        "id": "1IuNGb1IE_fP",
        "outputId": "c41bab18-70a9-44a8-e808-3cd8dd0e39b8"
      },
      "outputs": [
        {
          "output_type": "stream",
          "name": "stdout",
          "text": [
            "Requirement already satisfied: pyspark in /usr/local/lib/python3.10/dist-packages (3.5.0)\n",
            "Requirement already satisfied: py4j==0.10.9.7 in /usr/local/lib/python3.10/dist-packages (from pyspark) (0.10.9.7)\n"
          ]
        }
      ],
      "source": [
        "!pip install pyspark"
      ]
    },
    {
      "cell_type": "code",
      "source": [
        "import os\n",
        "import sys\n",
        "import re\n",
        "import json\n",
        "from pyspark.sql import SparkSession\n",
        "from pyspark.sql.types import *\n",
        "from pyspark.sql.functions import *"
      ],
      "metadata": {
        "id": "OV_i26qnFEMN"
      },
      "execution_count": 2,
      "outputs": []
    },
    {
      "cell_type": "code",
      "source": [],
      "metadata": {
        "id": "otgN3T8xHQ0a"
      },
      "execution_count": 2,
      "outputs": []
    },
    {
      "cell_type": "code",
      "source": [
        "spark = SparkSession.builder \\\n",
        "    .appName(\"VRA_Table\") \\\n",
        "    .config(\"spark.sql.parquet.int96RebaseModeInWrite\", \"LEGACY\") \\\n",
        "    .getOrCreate()"
      ],
      "metadata": {
        "id": "0mFh04vcFEce"
      },
      "execution_count": 3,
      "outputs": []
    },
    {
      "cell_type": "code",
      "source": [
        "json_folder_path = \"/content/VRA\"\n",
        "df_vra = spark.read.json(json_folder_path)"
      ],
      "metadata": {
        "id": "OJsrYizNFEqF"
      },
      "execution_count": 4,
      "outputs": []
    },
    {
      "cell_type": "code",
      "source": [
        "df_vra.show()"
      ],
      "metadata": {
        "colab": {
          "base_uri": "https://localhost:8080/"
        },
        "id": "dFgGZAgZIjis",
        "outputId": "2dd140dc-a931-4709-ce66-7f81bc6356e8"
      },
      "execution_count": 5,
      "outputs": [
        {
          "output_type": "stream",
          "name": "stdout",
          "text": [
            "+-------------------+-------------------+-----------------+-------------------+---------------+--------------------+-------------------+----------------+---------+-------------------+-------------------+-----------+\n",
            "|    ChegadaPrevista|        ChegadaReal|CódigoAutorização|CódigoJustificativa|CódigoTipoLinha|ICAOAeródromoDestino|ICAOAeródromoOrigem|ICAOEmpresaAérea|NúmeroVoo|    PartidaPrevista|        PartidaReal|SituaçãoVoo|\n",
            "+-------------------+-------------------+-----------------+-------------------+---------------+--------------------+-------------------+----------------+---------+-------------------+-------------------+-----------+\n",
            "|2021-11-12 08:30:00|2021-11-12 08:24:00|                0|                N/A|              X|                KORD|               SBGR|             UAL|     0844|2021-11-11 22:00:00|2021-11-11 22:14:00|  REALIZADO|\n",
            "|2021-11-15 08:30:00|2021-11-15 08:05:00|                0|                N/A|              X|                KORD|               SBGR|             UAL|     0844|2021-11-14 22:00:00|2021-11-14 21:59:00|  REALIZADO|\n",
            "|2021-11-22 08:30:00|2021-11-22 08:19:00|                0|                N/A|              X|                KORD|               SBGR|             UAL|     0844|2021-11-21 22:00:00|2021-11-21 22:00:00|  REALIZADO|\n",
            "|2021-11-19 08:30:00|2021-11-19 08:17:00|                0|                N/A|              X|                KORD|               SBGR|             UAL|     0844|2021-11-18 22:00:00|2021-11-18 22:01:00|  REALIZADO|\n",
            "|2021-11-21 08:30:00|2021-11-21 08:23:00|                0|                N/A|              X|                KORD|               SBGR|             UAL|     0844|2021-11-20 22:00:00|2021-11-20 22:02:00|  REALIZADO|\n",
            "|2021-11-23 08:30:00|2021-11-23 08:47:00|                0|                N/A|              X|                KORD|               SBGR|             UAL|     0844|2021-11-22 22:00:00|2021-11-22 22:09:00|  REALIZADO|\n",
            "|2021-11-24 08:30:00|2021-11-24 08:11:00|                0|                N/A|              X|                KORD|               SBGR|             UAL|     0844|2021-11-23 22:00:00|2021-11-23 22:17:00|  REALIZADO|\n",
            "|2021-11-26 08:30:00|2021-11-26 08:40:00|                0|                N/A|              X|                KORD|               SBGR|             UAL|     0844|2021-11-25 22:00:00|2021-11-25 21:58:00|  REALIZADO|\n",
            "|2021-11-28 08:30:00|2021-11-28 08:28:00|                0|                N/A|              X|                KORD|               SBGR|             UAL|     0844|2021-11-27 22:00:00|2021-11-27 21:54:00|  REALIZADO|\n",
            "|2021-11-30 08:30:00|2021-11-30 08:21:00|                0|                N/A|              X|                KORD|               SBGR|             UAL|     0844|2021-11-29 22:00:00|2021-11-29 22:00:00|  REALIZADO|\n",
            "|2021-12-01 08:30:00|2021-12-01 08:31:00|                0|                N/A|              X|                KORD|               SBGR|             UAL|     0844|2021-11-30 22:00:00|2021-11-30 22:15:00|  REALIZADO|\n",
            "|2021-11-16 08:30:00|2021-11-16 08:10:00|                0|                N/A|              X|                KORD|               SBGR|             UAL|     0844|2021-11-15 22:00:00|2021-11-15 21:56:00|  REALIZADO|\n",
            "|2021-11-17 08:30:00|2021-11-17 07:56:00|                0|                N/A|              X|                KORD|               SBGR|             UAL|     0844|2021-11-16 22:00:00|2021-11-16 22:02:00|  REALIZADO|\n",
            "|2021-11-29 08:30:00|2021-11-29 08:12:00|                0|                N/A|              X|                KORD|               SBGR|             UAL|     0844|2021-11-28 22:00:00|2021-11-28 21:55:00|  REALIZADO|\n",
            "|2021-11-01 10:40:00|2021-11-01 10:33:00|                0|                N/A|              X|                SBGR|               KORD|             UAL|     0845|2021-11-01 00:40:00|2021-11-01 00:31:00|  REALIZADO|\n",
            "|2021-11-02 10:40:00|2021-11-02 10:36:00|                0|                N/A|              X|                SBGR|               KORD|             UAL|     0845|2021-11-02 00:40:00|2021-11-02 00:36:00|  REALIZADO|\n",
            "|2021-11-04 10:40:00|2021-11-04 10:32:00|                0|                N/A|              X|                SBGR|               KORD|             UAL|     0845|2021-11-04 00:40:00|2021-11-04 00:47:00|  REALIZADO|\n",
            "|2021-11-06 10:40:00|2021-11-06 12:38:00|                0|                N/A|              X|                SBGR|               KORD|             UAL|     0845|2021-11-06 00:40:00|2021-11-06 02:27:00|  REALIZADO|\n",
            "|2021-11-08 10:40:00|2021-11-08 10:23:00|                0|                N/A|              X|                SBGR|               KORD|             UAL|     0845|2021-11-08 00:40:00|2021-11-08 00:28:00|  REALIZADO|\n",
            "|2021-11-07 10:40:00|2021-11-07 10:44:00|                0|                N/A|              X|                SBGR|               KORD|             UAL|     0845|2021-11-07 00:40:00|2021-11-07 00:44:00|  REALIZADO|\n",
            "+-------------------+-------------------+-----------------+-------------------+---------------+--------------------+-------------------+----------------+---------+-------------------+-------------------+-----------+\n",
            "only showing top 20 rows\n",
            "\n"
          ]
        }
      ]
    },
    {
      "cell_type": "code",
      "source": [],
      "metadata": {
        "id": "ryivekdjj2Re"
      },
      "execution_count": 5,
      "outputs": []
    },
    {
      "cell_type": "code",
      "source": [
        "#replace special characters in the columns names\n",
        "for col_name in df_vra.columns:\n",
        "    new_col_name = col_name \\\n",
        "        .replace(\"ã\", \"a\") \\\n",
        "        .replace(\"á\", \"a\") \\\n",
        "        .replace(\"à\", \"a\") \\\n",
        "        .replace(\"é\", \"e\") \\\n",
        "        .replace(\"ê\", \"e\") \\\n",
        "        .replace(\"í\", \"i\") \\\n",
        "        .replace(\"ó\", \"o\") \\\n",
        "        .replace(\"ô\", \"o\") \\\n",
        "        .replace(\"õ\", \"o\") \\\n",
        "        .replace(\"ú\", \"u\") \\\n",
        "        .replace(\"ç\", \"c\") \\\n",
        "        .replace(\"-\", \"_\")\n",
        "\n",
        "    df_vra  = df_vra.withColumnRenamed(col_name, new_col_name)"
      ],
      "metadata": {
        "id": "s9M29f0bIZEp"
      },
      "execution_count": 6,
      "outputs": []
    },
    {
      "cell_type": "code",
      "source": [
        "df_vra.show()"
      ],
      "metadata": {
        "colab": {
          "base_uri": "https://localhost:8080/"
        },
        "id": "-Ki11CGOIakY",
        "outputId": "2515a5f0-5780-469c-a33b-0a4caa615ec0"
      },
      "execution_count": 7,
      "outputs": [
        {
          "output_type": "stream",
          "name": "stdout",
          "text": [
            "+-------------------+-------------------+-----------------+-------------------+---------------+--------------------+-------------------+----------------+---------+-------------------+-------------------+-----------+\n",
            "|    ChegadaPrevista|        ChegadaReal|CodigoAutorizacao|CodigoJustificativa|CodigoTipoLinha|ICAOAerodromoDestino|ICAOAerodromoOrigem|ICAOEmpresaAerea|NumeroVoo|    PartidaPrevista|        PartidaReal|SituacaoVoo|\n",
            "+-------------------+-------------------+-----------------+-------------------+---------------+--------------------+-------------------+----------------+---------+-------------------+-------------------+-----------+\n",
            "|2021-11-12 08:30:00|2021-11-12 08:24:00|                0|                N/A|              X|                KORD|               SBGR|             UAL|     0844|2021-11-11 22:00:00|2021-11-11 22:14:00|  REALIZADO|\n",
            "|2021-11-15 08:30:00|2021-11-15 08:05:00|                0|                N/A|              X|                KORD|               SBGR|             UAL|     0844|2021-11-14 22:00:00|2021-11-14 21:59:00|  REALIZADO|\n",
            "|2021-11-22 08:30:00|2021-11-22 08:19:00|                0|                N/A|              X|                KORD|               SBGR|             UAL|     0844|2021-11-21 22:00:00|2021-11-21 22:00:00|  REALIZADO|\n",
            "|2021-11-19 08:30:00|2021-11-19 08:17:00|                0|                N/A|              X|                KORD|               SBGR|             UAL|     0844|2021-11-18 22:00:00|2021-11-18 22:01:00|  REALIZADO|\n",
            "|2021-11-21 08:30:00|2021-11-21 08:23:00|                0|                N/A|              X|                KORD|               SBGR|             UAL|     0844|2021-11-20 22:00:00|2021-11-20 22:02:00|  REALIZADO|\n",
            "|2021-11-23 08:30:00|2021-11-23 08:47:00|                0|                N/A|              X|                KORD|               SBGR|             UAL|     0844|2021-11-22 22:00:00|2021-11-22 22:09:00|  REALIZADO|\n",
            "|2021-11-24 08:30:00|2021-11-24 08:11:00|                0|                N/A|              X|                KORD|               SBGR|             UAL|     0844|2021-11-23 22:00:00|2021-11-23 22:17:00|  REALIZADO|\n",
            "|2021-11-26 08:30:00|2021-11-26 08:40:00|                0|                N/A|              X|                KORD|               SBGR|             UAL|     0844|2021-11-25 22:00:00|2021-11-25 21:58:00|  REALIZADO|\n",
            "|2021-11-28 08:30:00|2021-11-28 08:28:00|                0|                N/A|              X|                KORD|               SBGR|             UAL|     0844|2021-11-27 22:00:00|2021-11-27 21:54:00|  REALIZADO|\n",
            "|2021-11-30 08:30:00|2021-11-30 08:21:00|                0|                N/A|              X|                KORD|               SBGR|             UAL|     0844|2021-11-29 22:00:00|2021-11-29 22:00:00|  REALIZADO|\n",
            "|2021-12-01 08:30:00|2021-12-01 08:31:00|                0|                N/A|              X|                KORD|               SBGR|             UAL|     0844|2021-11-30 22:00:00|2021-11-30 22:15:00|  REALIZADO|\n",
            "|2021-11-16 08:30:00|2021-11-16 08:10:00|                0|                N/A|              X|                KORD|               SBGR|             UAL|     0844|2021-11-15 22:00:00|2021-11-15 21:56:00|  REALIZADO|\n",
            "|2021-11-17 08:30:00|2021-11-17 07:56:00|                0|                N/A|              X|                KORD|               SBGR|             UAL|     0844|2021-11-16 22:00:00|2021-11-16 22:02:00|  REALIZADO|\n",
            "|2021-11-29 08:30:00|2021-11-29 08:12:00|                0|                N/A|              X|                KORD|               SBGR|             UAL|     0844|2021-11-28 22:00:00|2021-11-28 21:55:00|  REALIZADO|\n",
            "|2021-11-01 10:40:00|2021-11-01 10:33:00|                0|                N/A|              X|                SBGR|               KORD|             UAL|     0845|2021-11-01 00:40:00|2021-11-01 00:31:00|  REALIZADO|\n",
            "|2021-11-02 10:40:00|2021-11-02 10:36:00|                0|                N/A|              X|                SBGR|               KORD|             UAL|     0845|2021-11-02 00:40:00|2021-11-02 00:36:00|  REALIZADO|\n",
            "|2021-11-04 10:40:00|2021-11-04 10:32:00|                0|                N/A|              X|                SBGR|               KORD|             UAL|     0845|2021-11-04 00:40:00|2021-11-04 00:47:00|  REALIZADO|\n",
            "|2021-11-06 10:40:00|2021-11-06 12:38:00|                0|                N/A|              X|                SBGR|               KORD|             UAL|     0845|2021-11-06 00:40:00|2021-11-06 02:27:00|  REALIZADO|\n",
            "|2021-11-08 10:40:00|2021-11-08 10:23:00|                0|                N/A|              X|                SBGR|               KORD|             UAL|     0845|2021-11-08 00:40:00|2021-11-08 00:28:00|  REALIZADO|\n",
            "|2021-11-07 10:40:00|2021-11-07 10:44:00|                0|                N/A|              X|                SBGR|               KORD|             UAL|     0845|2021-11-07 00:40:00|2021-11-07 00:44:00|  REALIZADO|\n",
            "+-------------------+-------------------+-----------------+-------------------+---------------+--------------------+-------------------+----------------+---------+-------------------+-------------------+-----------+\n",
            "only showing top 20 rows\n",
            "\n"
          ]
        }
      ]
    },
    {
      "cell_type": "code",
      "source": [],
      "metadata": {
        "id": "PApNx_z_GmAd"
      },
      "execution_count": 7,
      "outputs": []
    },
    {
      "cell_type": "code",
      "source": [
        "# Define a function to convert kebab case to snake case\n",
        "def kebab_to_snake(column_name):\n",
        "    return re.sub(r'(?<=[a-z])(?=[A-Z0-9])|(?<=[0-9])(?=[A-Z])', '_', column_name).lower()\n",
        "\n",
        "# Get the current column names\n",
        "columns = df_vra.columns\n",
        "\n",
        "# Rename all columns using kebab_to_snake function\n",
        "for column in columns:\n",
        "    new_column_name = kebab_to_snake(column)\n",
        "    df_vra = df_vra.withColumnRenamed(column, new_column_name)\n",
        "\n",
        "# Show the DataFrame to verify the updated column names\n",
        "df_vra.show()"
      ],
      "metadata": {
        "colab": {
          "base_uri": "https://localhost:8080/"
        },
        "id": "EvJQ-45FJSfe",
        "outputId": "35fa414b-9c91-4997-c7d4-af95c12317b3"
      },
      "execution_count": 8,
      "outputs": [
        {
          "output_type": "stream",
          "name": "stdout",
          "text": [
            "+-------------------+-------------------+------------------+--------------------+-----------------+---------------------+--------------------+-----------------+----------+-------------------+-------------------+------------+\n",
            "|   chegada_prevista|       chegada_real|codigo_autorizacao|codigo_justificativa|codigo_tipo_linha|icaoaerodromo_destino|icaoaerodromo_origem|icaoempresa_aerea|numero_voo|   partida_prevista|       partida_real|situacao_voo|\n",
            "+-------------------+-------------------+------------------+--------------------+-----------------+---------------------+--------------------+-----------------+----------+-------------------+-------------------+------------+\n",
            "|2021-11-12 08:30:00|2021-11-12 08:24:00|                 0|                 N/A|                X|                 KORD|                SBGR|              UAL|      0844|2021-11-11 22:00:00|2021-11-11 22:14:00|   REALIZADO|\n",
            "|2021-11-15 08:30:00|2021-11-15 08:05:00|                 0|                 N/A|                X|                 KORD|                SBGR|              UAL|      0844|2021-11-14 22:00:00|2021-11-14 21:59:00|   REALIZADO|\n",
            "|2021-11-22 08:30:00|2021-11-22 08:19:00|                 0|                 N/A|                X|                 KORD|                SBGR|              UAL|      0844|2021-11-21 22:00:00|2021-11-21 22:00:00|   REALIZADO|\n",
            "|2021-11-19 08:30:00|2021-11-19 08:17:00|                 0|                 N/A|                X|                 KORD|                SBGR|              UAL|      0844|2021-11-18 22:00:00|2021-11-18 22:01:00|   REALIZADO|\n",
            "|2021-11-21 08:30:00|2021-11-21 08:23:00|                 0|                 N/A|                X|                 KORD|                SBGR|              UAL|      0844|2021-11-20 22:00:00|2021-11-20 22:02:00|   REALIZADO|\n",
            "|2021-11-23 08:30:00|2021-11-23 08:47:00|                 0|                 N/A|                X|                 KORD|                SBGR|              UAL|      0844|2021-11-22 22:00:00|2021-11-22 22:09:00|   REALIZADO|\n",
            "|2021-11-24 08:30:00|2021-11-24 08:11:00|                 0|                 N/A|                X|                 KORD|                SBGR|              UAL|      0844|2021-11-23 22:00:00|2021-11-23 22:17:00|   REALIZADO|\n",
            "|2021-11-26 08:30:00|2021-11-26 08:40:00|                 0|                 N/A|                X|                 KORD|                SBGR|              UAL|      0844|2021-11-25 22:00:00|2021-11-25 21:58:00|   REALIZADO|\n",
            "|2021-11-28 08:30:00|2021-11-28 08:28:00|                 0|                 N/A|                X|                 KORD|                SBGR|              UAL|      0844|2021-11-27 22:00:00|2021-11-27 21:54:00|   REALIZADO|\n",
            "|2021-11-30 08:30:00|2021-11-30 08:21:00|                 0|                 N/A|                X|                 KORD|                SBGR|              UAL|      0844|2021-11-29 22:00:00|2021-11-29 22:00:00|   REALIZADO|\n",
            "|2021-12-01 08:30:00|2021-12-01 08:31:00|                 0|                 N/A|                X|                 KORD|                SBGR|              UAL|      0844|2021-11-30 22:00:00|2021-11-30 22:15:00|   REALIZADO|\n",
            "|2021-11-16 08:30:00|2021-11-16 08:10:00|                 0|                 N/A|                X|                 KORD|                SBGR|              UAL|      0844|2021-11-15 22:00:00|2021-11-15 21:56:00|   REALIZADO|\n",
            "|2021-11-17 08:30:00|2021-11-17 07:56:00|                 0|                 N/A|                X|                 KORD|                SBGR|              UAL|      0844|2021-11-16 22:00:00|2021-11-16 22:02:00|   REALIZADO|\n",
            "|2021-11-29 08:30:00|2021-11-29 08:12:00|                 0|                 N/A|                X|                 KORD|                SBGR|              UAL|      0844|2021-11-28 22:00:00|2021-11-28 21:55:00|   REALIZADO|\n",
            "|2021-11-01 10:40:00|2021-11-01 10:33:00|                 0|                 N/A|                X|                 SBGR|                KORD|              UAL|      0845|2021-11-01 00:40:00|2021-11-01 00:31:00|   REALIZADO|\n",
            "|2021-11-02 10:40:00|2021-11-02 10:36:00|                 0|                 N/A|                X|                 SBGR|                KORD|              UAL|      0845|2021-11-02 00:40:00|2021-11-02 00:36:00|   REALIZADO|\n",
            "|2021-11-04 10:40:00|2021-11-04 10:32:00|                 0|                 N/A|                X|                 SBGR|                KORD|              UAL|      0845|2021-11-04 00:40:00|2021-11-04 00:47:00|   REALIZADO|\n",
            "|2021-11-06 10:40:00|2021-11-06 12:38:00|                 0|                 N/A|                X|                 SBGR|                KORD|              UAL|      0845|2021-11-06 00:40:00|2021-11-06 02:27:00|   REALIZADO|\n",
            "|2021-11-08 10:40:00|2021-11-08 10:23:00|                 0|                 N/A|                X|                 SBGR|                KORD|              UAL|      0845|2021-11-08 00:40:00|2021-11-08 00:28:00|   REALIZADO|\n",
            "|2021-11-07 10:40:00|2021-11-07 10:44:00|                 0|                 N/A|                X|                 SBGR|                KORD|              UAL|      0845|2021-11-07 00:40:00|2021-11-07 00:44:00|   REALIZADO|\n",
            "+-------------------+-------------------+------------------+--------------------+-----------------+---------------------+--------------------+-----------------+----------+-------------------+-------------------+------------+\n",
            "only showing top 20 rows\n",
            "\n"
          ]
        }
      ]
    },
    {
      "cell_type": "code",
      "source": [
        "#particular cases that needs to be forced:\n",
        "\n",
        "df_vra = df_vra.withColumnRenamed(\"icaoaerodromo_destino\", \"icao_aerodromo_destino\")\n",
        "df_vra = df_vra.withColumnRenamed(\"icaoaerodromo_origem\", \"icao_aerodromo_origem\")\n",
        "df_vra = df_vra.withColumnRenamed(\"icaoempresa_aerea\", \"icao_empresa_aerea\")\n",
        "\n",
        "\n",
        "\n",
        "df_vra.show(truncate=False)"
      ],
      "metadata": {
        "colab": {
          "base_uri": "https://localhost:8080/"
        },
        "id": "qg_Nvi5gKaFc",
        "outputId": "37d2e45b-a30f-40bb-a91a-839223026173"
      },
      "execution_count": 9,
      "outputs": [
        {
          "output_type": "stream",
          "name": "stdout",
          "text": [
            "+-------------------+-------------------+------------------+--------------------+-----------------+----------------------+---------------------+------------------+----------+-------------------+-------------------+------------+\n",
            "|chegada_prevista   |chegada_real       |codigo_autorizacao|codigo_justificativa|codigo_tipo_linha|icao_aerodromo_destino|icao_aerodromo_origem|icao_empresa_aerea|numero_voo|partida_prevista   |partida_real       |situacao_voo|\n",
            "+-------------------+-------------------+------------------+--------------------+-----------------+----------------------+---------------------+------------------+----------+-------------------+-------------------+------------+\n",
            "|2021-11-12 08:30:00|2021-11-12 08:24:00|0                 |N/A                 |X                |KORD                  |SBGR                 |UAL               |0844      |2021-11-11 22:00:00|2021-11-11 22:14:00|REALIZADO   |\n",
            "|2021-11-15 08:30:00|2021-11-15 08:05:00|0                 |N/A                 |X                |KORD                  |SBGR                 |UAL               |0844      |2021-11-14 22:00:00|2021-11-14 21:59:00|REALIZADO   |\n",
            "|2021-11-22 08:30:00|2021-11-22 08:19:00|0                 |N/A                 |X                |KORD                  |SBGR                 |UAL               |0844      |2021-11-21 22:00:00|2021-11-21 22:00:00|REALIZADO   |\n",
            "|2021-11-19 08:30:00|2021-11-19 08:17:00|0                 |N/A                 |X                |KORD                  |SBGR                 |UAL               |0844      |2021-11-18 22:00:00|2021-11-18 22:01:00|REALIZADO   |\n",
            "|2021-11-21 08:30:00|2021-11-21 08:23:00|0                 |N/A                 |X                |KORD                  |SBGR                 |UAL               |0844      |2021-11-20 22:00:00|2021-11-20 22:02:00|REALIZADO   |\n",
            "|2021-11-23 08:30:00|2021-11-23 08:47:00|0                 |N/A                 |X                |KORD                  |SBGR                 |UAL               |0844      |2021-11-22 22:00:00|2021-11-22 22:09:00|REALIZADO   |\n",
            "|2021-11-24 08:30:00|2021-11-24 08:11:00|0                 |N/A                 |X                |KORD                  |SBGR                 |UAL               |0844      |2021-11-23 22:00:00|2021-11-23 22:17:00|REALIZADO   |\n",
            "|2021-11-26 08:30:00|2021-11-26 08:40:00|0                 |N/A                 |X                |KORD                  |SBGR                 |UAL               |0844      |2021-11-25 22:00:00|2021-11-25 21:58:00|REALIZADO   |\n",
            "|2021-11-28 08:30:00|2021-11-28 08:28:00|0                 |N/A                 |X                |KORD                  |SBGR                 |UAL               |0844      |2021-11-27 22:00:00|2021-11-27 21:54:00|REALIZADO   |\n",
            "|2021-11-30 08:30:00|2021-11-30 08:21:00|0                 |N/A                 |X                |KORD                  |SBGR                 |UAL               |0844      |2021-11-29 22:00:00|2021-11-29 22:00:00|REALIZADO   |\n",
            "|2021-12-01 08:30:00|2021-12-01 08:31:00|0                 |N/A                 |X                |KORD                  |SBGR                 |UAL               |0844      |2021-11-30 22:00:00|2021-11-30 22:15:00|REALIZADO   |\n",
            "|2021-11-16 08:30:00|2021-11-16 08:10:00|0                 |N/A                 |X                |KORD                  |SBGR                 |UAL               |0844      |2021-11-15 22:00:00|2021-11-15 21:56:00|REALIZADO   |\n",
            "|2021-11-17 08:30:00|2021-11-17 07:56:00|0                 |N/A                 |X                |KORD                  |SBGR                 |UAL               |0844      |2021-11-16 22:00:00|2021-11-16 22:02:00|REALIZADO   |\n",
            "|2021-11-29 08:30:00|2021-11-29 08:12:00|0                 |N/A                 |X                |KORD                  |SBGR                 |UAL               |0844      |2021-11-28 22:00:00|2021-11-28 21:55:00|REALIZADO   |\n",
            "|2021-11-01 10:40:00|2021-11-01 10:33:00|0                 |N/A                 |X                |SBGR                  |KORD                 |UAL               |0845      |2021-11-01 00:40:00|2021-11-01 00:31:00|REALIZADO   |\n",
            "|2021-11-02 10:40:00|2021-11-02 10:36:00|0                 |N/A                 |X                |SBGR                  |KORD                 |UAL               |0845      |2021-11-02 00:40:00|2021-11-02 00:36:00|REALIZADO   |\n",
            "|2021-11-04 10:40:00|2021-11-04 10:32:00|0                 |N/A                 |X                |SBGR                  |KORD                 |UAL               |0845      |2021-11-04 00:40:00|2021-11-04 00:47:00|REALIZADO   |\n",
            "|2021-11-06 10:40:00|2021-11-06 12:38:00|0                 |N/A                 |X                |SBGR                  |KORD                 |UAL               |0845      |2021-11-06 00:40:00|2021-11-06 02:27:00|REALIZADO   |\n",
            "|2021-11-08 10:40:00|2021-11-08 10:23:00|0                 |N/A                 |X                |SBGR                  |KORD                 |UAL               |0845      |2021-11-08 00:40:00|2021-11-08 00:28:00|REALIZADO   |\n",
            "|2021-11-07 10:40:00|2021-11-07 10:44:00|0                 |N/A                 |X                |SBGR                  |KORD                 |UAL               |0845      |2021-11-07 00:40:00|2021-11-07 00:44:00|REALIZADO   |\n",
            "+-------------------+-------------------+------------------+--------------------+-----------------+----------------------+---------------------+------------------+----------+-------------------+-------------------+------------+\n",
            "only showing top 20 rows\n",
            "\n"
          ]
        }
      ]
    },
    {
      "cell_type": "code",
      "source": [
        "df_vra.printSchema()\n",
        "df_vra.show(truncate=False)"
      ],
      "metadata": {
        "colab": {
          "base_uri": "https://localhost:8080/"
        },
        "id": "8srIAKoYKu4d",
        "outputId": "ea3a0c5d-c847-47f7-a5e7-c0fe5867cc4e"
      },
      "execution_count": 10,
      "outputs": [
        {
          "output_type": "stream",
          "name": "stdout",
          "text": [
            "root\n",
            " |-- chegada_prevista: string (nullable = true)\n",
            " |-- chegada_real: string (nullable = true)\n",
            " |-- codigo_autorizacao: string (nullable = true)\n",
            " |-- codigo_justificativa: string (nullable = true)\n",
            " |-- codigo_tipo_linha: string (nullable = true)\n",
            " |-- icao_aerodromo_destino: string (nullable = true)\n",
            " |-- icao_aerodromo_origem: string (nullable = true)\n",
            " |-- icao_empresa_aerea: string (nullable = true)\n",
            " |-- numero_voo: string (nullable = true)\n",
            " |-- partida_prevista: string (nullable = true)\n",
            " |-- partida_real: string (nullable = true)\n",
            " |-- situacao_voo: string (nullable = true)\n",
            "\n",
            "+-------------------+-------------------+------------------+--------------------+-----------------+----------------------+---------------------+------------------+----------+-------------------+-------------------+------------+\n",
            "|chegada_prevista   |chegada_real       |codigo_autorizacao|codigo_justificativa|codigo_tipo_linha|icao_aerodromo_destino|icao_aerodromo_origem|icao_empresa_aerea|numero_voo|partida_prevista   |partida_real       |situacao_voo|\n",
            "+-------------------+-------------------+------------------+--------------------+-----------------+----------------------+---------------------+------------------+----------+-------------------+-------------------+------------+\n",
            "|2021-11-12 08:30:00|2021-11-12 08:24:00|0                 |N/A                 |X                |KORD                  |SBGR                 |UAL               |0844      |2021-11-11 22:00:00|2021-11-11 22:14:00|REALIZADO   |\n",
            "|2021-11-15 08:30:00|2021-11-15 08:05:00|0                 |N/A                 |X                |KORD                  |SBGR                 |UAL               |0844      |2021-11-14 22:00:00|2021-11-14 21:59:00|REALIZADO   |\n",
            "|2021-11-22 08:30:00|2021-11-22 08:19:00|0                 |N/A                 |X                |KORD                  |SBGR                 |UAL               |0844      |2021-11-21 22:00:00|2021-11-21 22:00:00|REALIZADO   |\n",
            "|2021-11-19 08:30:00|2021-11-19 08:17:00|0                 |N/A                 |X                |KORD                  |SBGR                 |UAL               |0844      |2021-11-18 22:00:00|2021-11-18 22:01:00|REALIZADO   |\n",
            "|2021-11-21 08:30:00|2021-11-21 08:23:00|0                 |N/A                 |X                |KORD                  |SBGR                 |UAL               |0844      |2021-11-20 22:00:00|2021-11-20 22:02:00|REALIZADO   |\n",
            "|2021-11-23 08:30:00|2021-11-23 08:47:00|0                 |N/A                 |X                |KORD                  |SBGR                 |UAL               |0844      |2021-11-22 22:00:00|2021-11-22 22:09:00|REALIZADO   |\n",
            "|2021-11-24 08:30:00|2021-11-24 08:11:00|0                 |N/A                 |X                |KORD                  |SBGR                 |UAL               |0844      |2021-11-23 22:00:00|2021-11-23 22:17:00|REALIZADO   |\n",
            "|2021-11-26 08:30:00|2021-11-26 08:40:00|0                 |N/A                 |X                |KORD                  |SBGR                 |UAL               |0844      |2021-11-25 22:00:00|2021-11-25 21:58:00|REALIZADO   |\n",
            "|2021-11-28 08:30:00|2021-11-28 08:28:00|0                 |N/A                 |X                |KORD                  |SBGR                 |UAL               |0844      |2021-11-27 22:00:00|2021-11-27 21:54:00|REALIZADO   |\n",
            "|2021-11-30 08:30:00|2021-11-30 08:21:00|0                 |N/A                 |X                |KORD                  |SBGR                 |UAL               |0844      |2021-11-29 22:00:00|2021-11-29 22:00:00|REALIZADO   |\n",
            "|2021-12-01 08:30:00|2021-12-01 08:31:00|0                 |N/A                 |X                |KORD                  |SBGR                 |UAL               |0844      |2021-11-30 22:00:00|2021-11-30 22:15:00|REALIZADO   |\n",
            "|2021-11-16 08:30:00|2021-11-16 08:10:00|0                 |N/A                 |X                |KORD                  |SBGR                 |UAL               |0844      |2021-11-15 22:00:00|2021-11-15 21:56:00|REALIZADO   |\n",
            "|2021-11-17 08:30:00|2021-11-17 07:56:00|0                 |N/A                 |X                |KORD                  |SBGR                 |UAL               |0844      |2021-11-16 22:00:00|2021-11-16 22:02:00|REALIZADO   |\n",
            "|2021-11-29 08:30:00|2021-11-29 08:12:00|0                 |N/A                 |X                |KORD                  |SBGR                 |UAL               |0844      |2021-11-28 22:00:00|2021-11-28 21:55:00|REALIZADO   |\n",
            "|2021-11-01 10:40:00|2021-11-01 10:33:00|0                 |N/A                 |X                |SBGR                  |KORD                 |UAL               |0845      |2021-11-01 00:40:00|2021-11-01 00:31:00|REALIZADO   |\n",
            "|2021-11-02 10:40:00|2021-11-02 10:36:00|0                 |N/A                 |X                |SBGR                  |KORD                 |UAL               |0845      |2021-11-02 00:40:00|2021-11-02 00:36:00|REALIZADO   |\n",
            "|2021-11-04 10:40:00|2021-11-04 10:32:00|0                 |N/A                 |X                |SBGR                  |KORD                 |UAL               |0845      |2021-11-04 00:40:00|2021-11-04 00:47:00|REALIZADO   |\n",
            "|2021-11-06 10:40:00|2021-11-06 12:38:00|0                 |N/A                 |X                |SBGR                  |KORD                 |UAL               |0845      |2021-11-06 00:40:00|2021-11-06 02:27:00|REALIZADO   |\n",
            "|2021-11-08 10:40:00|2021-11-08 10:23:00|0                 |N/A                 |X                |SBGR                  |KORD                 |UAL               |0845      |2021-11-08 00:40:00|2021-11-08 00:28:00|REALIZADO   |\n",
            "|2021-11-07 10:40:00|2021-11-07 10:44:00|0                 |N/A                 |X                |SBGR                  |KORD                 |UAL               |0845      |2021-11-07 00:40:00|2021-11-07 00:44:00|REALIZADO   |\n",
            "+-------------------+-------------------+------------------+--------------------+-----------------+----------------------+---------------------+------------------+----------+-------------------+-------------------+------------+\n",
            "only showing top 20 rows\n",
            "\n"
          ]
        }
      ]
    },
    {
      "cell_type": "code",
      "source": [
        "# Convert 'chegada_prevista', 'partida_prevista', 'partida_real' to TimestampType\n",
        "df_vra = df_vra.withColumn(\"chegada_prevista\", col(\"chegada_prevista\").cast(TimestampType()))\n",
        "df_vra = df_vra.withColumn(\"chegada_real\", col(\"chegada_prevista\").cast(TimestampType()))\n",
        "df_vra = df_vra.withColumn(\"partida_prevista\", col(\"partida_prevista\").cast(TimestampType()))\n",
        "df_vra = df_vra.withColumn(\"partida_real\", col(\"partida_real\").cast(TimestampType()))\n",
        "\n",
        "# Convert 'numero_voo' to IntegerType\n",
        "df_vra = df_vra.withColumn(\"numero_voo\", col(\"numero_voo\").cast(IntegerType()))"
      ],
      "metadata": {
        "id": "X0E5GfkFLUIB"
      },
      "execution_count": 11,
      "outputs": []
    },
    {
      "cell_type": "code",
      "source": [
        "df_vra.printSchema()"
      ],
      "metadata": {
        "colab": {
          "base_uri": "https://localhost:8080/"
        },
        "id": "2IBwHAMDLZNu",
        "outputId": "94fd1dbe-d1a4-4da6-dfce-25a4e479a31c"
      },
      "execution_count": 12,
      "outputs": [
        {
          "output_type": "stream",
          "name": "stdout",
          "text": [
            "root\n",
            " |-- chegada_prevista: timestamp (nullable = true)\n",
            " |-- chegada_real: timestamp (nullable = true)\n",
            " |-- codigo_autorizacao: string (nullable = true)\n",
            " |-- codigo_justificativa: string (nullable = true)\n",
            " |-- codigo_tipo_linha: string (nullable = true)\n",
            " |-- icao_aerodromo_destino: string (nullable = true)\n",
            " |-- icao_aerodromo_origem: string (nullable = true)\n",
            " |-- icao_empresa_aerea: string (nullable = true)\n",
            " |-- numero_voo: integer (nullable = true)\n",
            " |-- partida_prevista: timestamp (nullable = true)\n",
            " |-- partida_real: timestamp (nullable = true)\n",
            " |-- situacao_voo: string (nullable = true)\n",
            "\n"
          ]
        }
      ]
    },
    {
      "cell_type": "code",
      "source": [
        "filtered_df = df_vra.filter(df_vra.icao_aerodromo_destino == \"KJFK\")\n",
        "\n",
        "# Show the resulting DataFrame\n",
        "filtered_df.show()"
      ],
      "metadata": {
        "colab": {
          "base_uri": "https://localhost:8080/"
        },
        "id": "iyIpI3ADkPEs",
        "outputId": "74110cac-59db-47f5-92fe-e548b6ff72c7"
      },
      "execution_count": 13,
      "outputs": [
        {
          "output_type": "stream",
          "name": "stdout",
          "text": [
            "+-------------------+-------------------+------------------+--------------------+-----------------+----------------------+---------------------+------------------+----------+-------------------+-------------------+------------+\n",
            "|   chegada_prevista|       chegada_real|codigo_autorizacao|codigo_justificativa|codigo_tipo_linha|icao_aerodromo_destino|icao_aerodromo_origem|icao_empresa_aerea|numero_voo|   partida_prevista|       partida_real|situacao_voo|\n",
            "+-------------------+-------------------+------------------+--------------------+-----------------+----------------------+---------------------+------------------+----------+-------------------+-------------------+------------+\n",
            "|2021-11-13 09:05:00|2021-11-13 09:05:00|                 0|                 N/A|                I|                  KJFK|                 SBGR|               TAM|      8180|2021-11-12 23:05:00|2021-11-12 23:50:00|   REALIZADO|\n",
            "|2021-11-04 08:55:00|2021-11-04 08:55:00|                 0|                 N/A|                I|                  KJFK|                 SBGR|               TAM|      8180|2021-11-03 22:55:00|2021-11-03 22:42:00|   REALIZADO|\n",
            "|2021-11-06 08:55:00|2021-11-06 08:55:00|                 0|                 N/A|                I|                  KJFK|                 SBGR|               TAM|      8180|2021-11-05 23:05:00|2021-11-05 23:09:00|   REALIZADO|\n",
            "|2021-11-08 12:00:00|2021-11-08 12:00:00|                 0|                 N/A|                I|                  KJFK|                 SBGR|               TAM|      8180|2021-11-08 02:05:00|               NULL|   CANCELADO|\n",
            "|2021-11-11 09:00:00|2021-11-11 09:00:00|                 0|                 N/A|                I|                  KJFK|                 SBGR|               TAM|      8180|2021-11-10 22:55:00|2021-11-10 22:58:00|   REALIZADO|\n",
            "|2021-11-22 08:55:00|2021-11-22 08:55:00|                 0|                 N/A|                I|                  KJFK|                 SBGR|               TAM|      8180|2021-11-21 22:55:00|2021-11-21 22:53:00|   REALIZADO|\n",
            "|2021-11-18 08:55:00|2021-11-18 08:55:00|                 0|                 N/A|                I|                  KJFK|                 SBGR|               TAM|      8180|2021-11-17 23:00:00|2021-11-17 23:01:00|   REALIZADO|\n",
            "|2021-11-20 09:05:00|2021-11-20 09:05:00|                 0|                 N/A|                I|                  KJFK|                 SBGR|               TAM|      8180|2021-11-19 23:05:00|2021-11-19 23:41:00|   REALIZADO|\n",
            "|2021-11-27 09:05:00|2021-11-27 09:05:00|                 0|                 N/A|                I|                  KJFK|                 SBGR|               TAM|      8180|2021-11-26 23:05:00|2021-11-26 23:22:00|   REALIZADO|\n",
            "|2021-11-29 08:55:00|2021-11-29 08:55:00|                 0|                 N/A|                I|                  KJFK|                 SBGR|               TAM|      8180|2021-11-28 22:55:00|2021-11-28 23:02:00|   REALIZADO|\n",
            "|2021-11-25 08:55:00|2021-11-25 08:55:00|                 0|                 N/A|                I|                  KJFK|                 SBGR|               TAM|      8180|2021-11-24 23:00:00|2021-11-24 22:52:00|   REALIZADO|\n",
            "|2021-11-15 08:55:00|2021-11-15 08:55:00|                 0|                 N/A|                I|                  KJFK|                 SBGR|               TAM|      8180|2021-11-14 22:55:00|2021-11-14 23:03:00|   REALIZADO|\n",
            "|2021-11-26 09:05:00|2021-11-26 09:05:00|                 0|                 N/A|                I|                  KJFK|                 SBGR|               AAL|       950|2021-11-25 23:20:00|               NULL|   CANCELADO|\n",
            "|2021-11-02 08:15:00|2021-11-02 08:15:00|                 0|                 N/A|                X|                  KJFK|                 SBGR|               AAL|       950|2021-11-01 22:30:00|2021-11-01 23:12:00|   REALIZADO|\n",
            "|2021-11-03 08:15:00|2021-11-03 08:15:00|                 0|                 N/A|                X|                  KJFK|                 SBGR|               AAL|       950|2021-11-02 22:30:00|2021-11-02 23:19:00|   REALIZADO|\n",
            "|2021-11-04 08:15:00|2021-11-04 08:15:00|                 0|                 N/A|                X|                  KJFK|                 SBGR|               AAL|       950|2021-11-03 22:30:00|2021-11-03 22:16:00|   REALIZADO|\n",
            "|2021-11-05 08:15:00|2021-11-05 08:15:00|                 0|                 N/A|                X|                  KJFK|                 SBGR|               AAL|       950|2021-11-04 22:30:00|2021-11-04 22:20:00|   REALIZADO|\n",
            "|2021-11-06 09:05:00|2021-11-06 09:05:00|                 0|                 N/A|                X|                  KJFK|                 SBGR|               AAL|       950|2021-11-05 23:20:00|2021-11-05 22:22:00|   REALIZADO|\n",
            "|2021-11-07 09:05:00|2021-11-07 09:05:00|                 0|                 N/A|                X|                  KJFK|                 SBGR|               AAL|       950|2021-11-06 23:20:00|2021-11-07 09:22:00|   REALIZADO|\n",
            "|2021-11-08 09:05:00|2021-11-08 09:05:00|                 0|                 N/A|                X|                  KJFK|                 SBGR|               AAL|       950|2021-11-07 23:20:00|2021-11-07 23:23:00|   REALIZADO|\n",
            "+-------------------+-------------------+------------------+--------------------+-----------------+----------------------+---------------------+------------------+----------+-------------------+-------------------+------------+\n",
            "only showing top 20 rows\n",
            "\n"
          ]
        }
      ]
    },
    {
      "cell_type": "code",
      "source": [
        "#saving the files\n",
        "\n",
        "# Coalesce the DataFrame to a single partition for efficient writing\n",
        "df_vra = df_vra.coalesce(1)"
      ],
      "metadata": {
        "id": "XuiUUc8yLrk0"
      },
      "execution_count": 14,
      "outputs": []
    },
    {
      "cell_type": "code",
      "source": [
        "# Save as Parquet\n",
        "df_vra.write.option(\"encoding\", \"UTF-8\").parquet(\"/content/parquet/enconded\", mode=\"overwrite\")"
      ],
      "metadata": {
        "id": "HdqxO_T2LvYZ"
      },
      "execution_count": 15,
      "outputs": []
    },
    {
      "cell_type": "code",
      "source": [
        "# Save as JSON\n",
        "df_vra.write.json(\"/content/json\", mode=\"overwrite\",encoding=\"UTF-8\")"
      ],
      "metadata": {
        "id": "2lpGPl-KLwpp"
      },
      "execution_count": 16,
      "outputs": []
    }
  ]
}