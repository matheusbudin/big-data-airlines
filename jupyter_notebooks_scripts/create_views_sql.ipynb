{
  "nbformat": 4,
  "nbformat_minor": 0,
  "metadata": {
    "colab": {
      "provenance": []
    },
    "kernelspec": {
      "name": "python3",
      "display_name": "Python 3"
    },
    "language_info": {
      "name": "python"
    }
  },
  "cells": [
    {
      "cell_type": "code",
      "execution_count": 2,
      "metadata": {
        "colab": {
          "base_uri": "https://localhost:8080/"
        },
        "id": "SNGLEh3h1-VK",
        "outputId": "c6eb04c9-5a3b-4da7-c488-4952d97a65e4"
      },
      "outputs": [
        {
          "output_type": "stream",
          "name": "stdout",
          "text": [
            "Collecting pyspark\n",
            "  Downloading pyspark-3.5.0.tar.gz (316.9 MB)\n",
            "\u001b[2K     \u001b[90m━━━━━━━━━━━━━━━━━━━━━━━━━━━━━━━━━━━━━━━━\u001b[0m \u001b[32m316.9/316.9 MB\u001b[0m \u001b[31m4.5 MB/s\u001b[0m eta \u001b[36m0:00:00\u001b[0m\n",
            "\u001b[?25h  Preparing metadata (setup.py) ... \u001b[?25l\u001b[?25hdone\n",
            "Requirement already satisfied: py4j==0.10.9.7 in /usr/local/lib/python3.10/dist-packages (from pyspark) (0.10.9.7)\n",
            "Building wheels for collected packages: pyspark\n",
            "  Building wheel for pyspark (setup.py) ... \u001b[?25l\u001b[?25hdone\n",
            "  Created wheel for pyspark: filename=pyspark-3.5.0-py2.py3-none-any.whl size=317425344 sha256=619ac023212a6eb7ba7b4edb3e590c5123164c725852baa9f54326de1b8d97b5\n",
            "  Stored in directory: /root/.cache/pip/wheels/41/4e/10/c2cf2467f71c678cfc8a6b9ac9241e5e44a01940da8fbb17fc\n",
            "Successfully built pyspark\n",
            "Installing collected packages: pyspark\n",
            "Successfully installed pyspark-3.5.0\n"
          ]
        }
      ],
      "source": [
        "!pip install pyspark"
      ]
    },
    {
      "cell_type": "code",
      "source": [
        "import os\n",
        "import sys\n",
        "import re\n",
        "import json\n",
        "from pyspark.sql import SparkSession\n",
        "from pyspark.sql.types import *\n",
        "from pyspark.sql.functions import *\n",
        "from pyspark.sql.window import Window"
      ],
      "metadata": {
        "id": "2tSbHmUq2lNL"
      },
      "execution_count": 35,
      "outputs": []
    },
    {
      "cell_type": "code",
      "source": [
        "# Inicializa SparkSession\n",
        "spark = SparkSession.builder.appName(\"create_temp_views\").getOrCreate()\n",
        "\n",
        "# Leitura dos parquets que sao resultados das tasks anteriores\n",
        "df_vra = spark.read.parquet(\"/content/VRA\")\n",
        "df_air_cia = spark.read.parquet(\"/content/AIR_CIA\")\n",
        "df_api = spark.read.parquet(\"/content/API\")"
      ],
      "metadata": {
        "id": "MPrTJhHH3Fq-"
      },
      "execution_count": 4,
      "outputs": []
    },
    {
      "cell_type": "code",
      "source": [
        "#Vizualizacao dos Schemas\n",
        "#pode ajudar em momentos de \"type mismatch\"\n",
        "print(\"Schema do dataframe VRA: \")\n",
        "df_vra.printSchema()\n",
        "print(\"\\n Schema do dataframe AIR_CIA: \")\n",
        "df_air_cia.printSchema()\n",
        "print(\"\\n Schema do dataframe que possui dados extraidos da API: \")\n",
        "df_api.printSchema()"
      ],
      "metadata": {
        "colab": {
          "base_uri": "https://localhost:8080/"
        },
        "id": "n59iXWHM3F2T",
        "outputId": "12306f46-e868-4b70-a6c2-2c5d524ccd1e"
      },
      "execution_count": 5,
      "outputs": [
        {
          "output_type": "stream",
          "name": "stdout",
          "text": [
            "Schema do dataframe VRA: \n",
            "root\n",
            " |-- chegada_prevista: timestamp (nullable = true)\n",
            " |-- chegada_real: timestamp (nullable = true)\n",
            " |-- codigo_autorizacao: string (nullable = true)\n",
            " |-- codigo_justificativa: string (nullable = true)\n",
            " |-- codigo_tipo_linha: string (nullable = true)\n",
            " |-- icao_aerodromo_destino: string (nullable = true)\n",
            " |-- icao_aerodromo_origem: string (nullable = true)\n",
            " |-- icao_empresa_aerea: string (nullable = true)\n",
            " |-- numero_voo: integer (nullable = true)\n",
            " |-- partida_prevista: timestamp (nullable = true)\n",
            " |-- partida_real: timestamp (nullable = true)\n",
            " |-- situacao_voo: string (nullable = true)\n",
            "\n",
            "\n",
            " Schema do dataframe AIR_CIA: \n",
            "root\n",
            " |-- razao_social: string (nullable = true)\n",
            " |-- icao: string (nullable = true)\n",
            " |-- iata: string (nullable = true)\n",
            " |-- cnpj: string (nullable = true)\n",
            " |-- atividades_aereas: string (nullable = true)\n",
            " |-- endereco_sede: string (nullable = true)\n",
            " |-- telefone: string (nullable = true)\n",
            " |-- e_mail: string (nullable = true)\n",
            " |-- decisao_operacional: string (nullable = true)\n",
            " |-- data_decisao_operacional: string (nullable = true)\n",
            " |-- validade_operacional: string (nullable = true)\n",
            "\n",
            "\n",
            " Schema do dataframe que possui dados extraidos da API: \n",
            "root\n",
            " |-- id: integer (nullable = true)\n",
            " |-- iata: string (nullable = true)\n",
            " |-- icao: string (nullable = true)\n",
            " |-- name: string (nullable = true)\n",
            " |-- location: string (nullable = true)\n",
            " |-- street_number: string (nullable = true)\n",
            " |-- street: string (nullable = true)\n",
            " |-- city: string (nullable = true)\n",
            " |-- county: string (nullable = true)\n",
            " |-- state: string (nullable = true)\n",
            " |-- country_iso: string (nullable = true)\n",
            " |-- country: string (nullable = true)\n",
            " |-- postal_code: string (nullable = true)\n",
            " |-- phone: string (nullable = true)\n",
            " |-- latitude: double (nullable = true)\n",
            " |-- longitude: double (nullable = true)\n",
            " |-- uct: integer (nullable = true)\n",
            " |-- website: string (nullable = true)\n",
            " |-- icao_code_source: string (nullable = true)\n",
            "\n"
          ]
        }
      ]
    },
    {
      "cell_type": "code",
      "source": [
        "# vizualizacao dos preview dataframes para ver se precisamos de algum tratamento previo\n",
        "print(\"Preview do dataframe VRA: \")\n",
        "df_vra.show(5)\n",
        "print(\"\\n Preview do dataframe AIR_CIA: \")\n",
        "df_air_cia.show(5)\n",
        "print(\"\\n Preview do dataframe que possui dados extraidos da API: \")\n",
        "df_api.show(5)"
      ],
      "metadata": {
        "colab": {
          "base_uri": "https://localhost:8080/"
        },
        "id": "WLV6Lp5Y3F_b",
        "outputId": "f6969fe2-85dc-4226-b1c0-4cc193ada1c8"
      },
      "execution_count": 6,
      "outputs": [
        {
          "output_type": "stream",
          "name": "stdout",
          "text": [
            "Preview do dataframe VRA: \n",
            "+-------------------+-------------------+------------------+--------------------+-----------------+----------------------+---------------------+------------------+----------+-------------------+-------------------+------------+\n",
            "|   chegada_prevista|       chegada_real|codigo_autorizacao|codigo_justificativa|codigo_tipo_linha|icao_aerodromo_destino|icao_aerodromo_origem|icao_empresa_aerea|numero_voo|   partida_prevista|       partida_real|situacao_voo|\n",
            "+-------------------+-------------------+------------------+--------------------+-----------------+----------------------+---------------------+------------------+----------+-------------------+-------------------+------------+\n",
            "|2021-11-12 08:30:00|2021-11-12 08:30:00|                 0|                 N/A|                X|                  KORD|                 SBGR|               UAL|       844|2021-11-11 22:00:00|2021-11-11 22:14:00|   REALIZADO|\n",
            "|2021-11-15 08:30:00|2021-11-15 08:30:00|                 0|                 N/A|                X|                  KORD|                 SBGR|               UAL|       844|2021-11-14 22:00:00|2021-11-14 21:59:00|   REALIZADO|\n",
            "|2021-11-22 08:30:00|2021-11-22 08:30:00|                 0|                 N/A|                X|                  KORD|                 SBGR|               UAL|       844|2021-11-21 22:00:00|2021-11-21 22:00:00|   REALIZADO|\n",
            "|2021-11-19 08:30:00|2021-11-19 08:30:00|                 0|                 N/A|                X|                  KORD|                 SBGR|               UAL|       844|2021-11-18 22:00:00|2021-11-18 22:01:00|   REALIZADO|\n",
            "|2021-11-21 08:30:00|2021-11-21 08:30:00|                 0|                 N/A|                X|                  KORD|                 SBGR|               UAL|       844|2021-11-20 22:00:00|2021-11-20 22:02:00|   REALIZADO|\n",
            "+-------------------+-------------------+------------------+--------------------+-----------------+----------------------+---------------------+------------------+----------+-------------------+-------------------+------------+\n",
            "only showing top 5 rows\n",
            "\n",
            "\n",
            " Preview do dataframe AIR_CIA: \n",
            "+--------------------+----+----+------------------+--------------------+--------------------+--------------------+--------------------+--------------------+------------------------+--------------------+\n",
            "|        razao_social|icao|iata|              cnpj|   atividades_aereas|       endereco_sede|            telefone|              e_mail| decisao_operacional|data_decisao_operacional|validade_operacional|\n",
            "+--------------------+----+----+------------------+--------------------+--------------------+--------------------+--------------------+--------------------+------------------------+--------------------+\n",
            "|ABSA - AEROLINHAS...| LTG|  M3|00.074.635/0001-33|TRANSPORTE AÉREO ...|AEROPORTO INTERNA...|      (11) 5582-8055|      gar@tam.com.br|       DECISÃO Nº 41|              22/04/2015|          23/04/2025|\n",
            "|AEROSUL TÁXI AÉRE...| ASO|  2S|27.315.694/0001-02|SERVIÇOS AÉREOS P...|RODOVIA PR 218, K...|      (43) 3176-4030|operacoes@aerosul...|      DECISÃO Nº 282|              10/02/2021|                    |\n",
            "|ASTA LINHAS AÉREA...| SUL|  0A|12.703.737/0001-50|SERVIÇOS AÉREOS P...|AV GOVERNADOR JOÃ...|(65) 3614-2684 / ...|                    |      DECISÃO Nº 115|              31/07/2019|          02/08/2024|\n",
            "|ATA - AEROTÁXI AB...| ABJ|    |14.674.451/0001-19|TÁXI-AÉREO, TRANS...| PÇA. GAGO COUTIN...|(71) 34629600 / (...|guilherme@abaete....|       DECISÃO Nº 36|              05/03/2020|                    |\n",
            "|AZUL CONECTA LTDA...| ACN|  2F|04.263.318/0001-16|TRANSPORTE AÉREO ...|AVENIDA EMILIO AN...|(11) 45822355/ (1...|                    |Decisão nº 14, de...|              25/01/2018|          29/01/2028|\n",
            "+--------------------+----+----+------------------+--------------------+--------------------+--------------------+--------------------+--------------------+------------------------+--------------------+\n",
            "only showing top 5 rows\n",
            "\n",
            "\n",
            " Preview do dataframe que possui dados extraidos da API: \n",
            "+----+----+----+--------------------+--------------------+-------------+--------------------+----------------+------------+-------------------+-----------+-------------+-----------+-----------------+----------+----------+----+--------------------+----------------+\n",
            "|  id|iata|icao|                name|            location|street_number|              street|            city|      county|              state|country_iso|      country|postal_code|            phone|  latitude| longitude| uct|             website|icao_code_source|\n",
            "+----+----+----+--------------------+--------------------+-------------+--------------------+----------------+------------+-------------------+-----------+-------------+-----------+-----------------+----------+----------+----+--------------------+----------------+\n",
            "|1213| CDG|LFPG|Charles de Gaulle...|Paris, Île-de-Fra...|             |                    |Roissy-en-France|            |      Île-de-France|         FR|       France|      95700|+33 1 70 36 39 50|  49.00969| 2.5479245| 120|http://www.parisa...|       icao_code|\n",
            "| 908| BPS|SBPS|Porto Seguro Airport|Porto Seguro, Bah...|           68|Rua Primeiro de Maio|                |Porto Seguro|              Bahia|         BR|       Brazil|  45810-000| +55 73 3288-1880|-16.439308|-39.081562|-180|http://www.aeropo...|       icao_code|\n",
            "| 410| ATL|KATL|Hartsfield–Jackso...|Atlanta, Georgia,...|         6000|North Terminal Pa...|         Atlanta|            |            Georgia|         US|United States|      30320|  +1 800-897-1910| 33.640728|-84.427704|-240| http://www.atl.com/|       icao_code|\n",
            "|3301| ITB|SBIH|    Itaituba Airport|Itaituba, Pará, B...|             |                    |                |    Itaituba|      State of Pará|         BR|       Brazil|           |                 | -4.245743|-56.006847|-180|                    |       icao_code|\n",
            "|1284| CGN|EDDK|Cologne Bonn Airport|Cologne / Bonn, N...|             |       Kennedystraße|            Köln|        Köln|Nordrhein-Westfalen|         DE|      Germany|      51147|  +49 2203 404001| 50.870716|  7.140734| 120|https://www.koeln...|       icao_code|\n",
            "+----+----+----+--------------------+--------------------+-------------+--------------------+----------------+------------+-------------------+-----------+-------------+-----------+-----------------+----------+----------+----+--------------------+----------------+\n",
            "only showing top 5 rows\n",
            "\n"
          ]
        }
      ]
    },
    {
      "cell_type": "markdown",
      "source": [
        "# Notar que as colunas icao e iata oriundas da df_air_cia podem conter erros,\n",
        "# desde a origem antes do split, \"icao\" tem apenas 3 caracteres isso pode\n",
        "# interferir na hora de montar as querys"
      ],
      "metadata": {
        "id": "p9zr-Fus4VxG"
      }
    },
    {
      "cell_type": "code",
      "source": [
        "#Criacao das TempViews:\n",
        "\n",
        "df_vra.createOrReplaceTempView(\"vra\")\n",
        "df_air_cia.createOrReplaceTempView(\"air_cia\")\n",
        "df_api.createOrReplaceTempView(\"api\")"
      ],
      "metadata": {
        "id": "RzLeyFSD4j9o"
      },
      "execution_count": 7,
      "outputs": []
    },
    {
      "cell_type": "code",
      "source": [
        "# caso alguma linha ainda tenha subido com valor NULL:\n",
        "\n",
        "df_vra = df_vra.fillna('')\n",
        "df_air_cia = df_air_cia.fillna('')\n",
        "df_api = df_api.fillna('')\n"
      ],
      "metadata": {
        "id": "QDIURF3T5l5J"
      },
      "execution_count": 60,
      "outputs": []
    },
    {
      "cell_type": "markdown",
      "source": [
        "#Perguntas área de negócios:"
      ],
      "metadata": {
        "id": "9KC0J17AHT3b"
      }
    },
    {
      "cell_type": "markdown",
      "source": [
        "##1. Para cada companhia aérea trazer a rota mais utilizada com as seguintes informações:\n",
        "\n",
        "-Razão social da companhia aérea;\n",
        "\n",
        "-Nome Aeroporto de Origem;\n",
        "\n",
        "-ICAO do aeroporto de origem;\n",
        "\n",
        "-Estado/UF do aeroporto de origem;\n",
        "\n",
        "-Nome do Aeroporto de Destino;\n",
        "\n",
        "-ICAO do Aeroporto de destino;\n",
        "\n",
        "-Estado/UF do aeroporto de destino."
      ],
      "metadata": {
        "id": "SZW35Svt5qAS"
      }
    },
    {
      "cell_type": "code",
      "source": [
        "#Esta query retorna a lista porem sem código 'icao_empresa' unico no dataframe\n",
        "#ou seja nao trás o rankeamento que foi feito na query seguinte\n",
        "\n",
        "df_rota_mais_utilizada = spark.sql(\"\"\"\n",
        "\n",
        "WITH RotasMaisUtilizadas AS (\n",
        "        SELECT\n",
        "            vo.icao_empresa_aerea AS icao_empresa_aerea,\n",
        "            vo.icao_aerodromo_origem AS icao_origem,\n",
        "            vo.icao_aerodromo_destino AS icao_destino,\n",
        "            COUNT(*) AS total_rotas\n",
        "        FROM vra vo\n",
        "        GROUP BY vo.icao_empresa_aerea, vo.icao_aerodromo_origem, vo.icao_aerodromo_destino\n",
        "    ),\n",
        "    RotasMaisUtilizadasRank AS (\n",
        "        SELECT\n",
        "            icao_empresa_aerea,\n",
        "            icao_origem,\n",
        "            icao_destino,\n",
        "            total_rotas,\n",
        "            ROW_NUMBER() OVER (PARTITION BY icao_empresa_aerea ORDER BY total_rotas DESC) AS rank\n",
        "        FROM RotasMaisUtilizadas\n",
        "    )\n",
        "    SELECT\n",
        "        ac.razao_social AS razao_social_companhia,\n",
        "        r.icao_empresa_aerea,\n",
        "        vo.icao_aerodromo_origem AS icao_origem,\n",
        "        ap_origem.state AS estado_origem,\n",
        "        vo.icao_aerodromo_destino AS icao_destino,\n",
        "        ap_destino.state AS estado_destino,\n",
        "        ap_origem.name AS nome_aeroporto_origem,\n",
        "        ap_destino.name AS nome_aeroporto_destino\n",
        "    FROM RotasMaisUtilizadasRank r\n",
        "    JOIN vra vo ON r.icao_empresa_aerea = vo.icao_empresa_aerea\n",
        "    JOIN air_cia ac ON r.icao_empresa_aerea = ac.icao\n",
        "    JOIN api ap_origem ON r.icao_origem = ap_origem.icao\n",
        "    JOIN api ap_destino ON r.icao_destino = ap_destino.icao\n",
        "    WHERE r.rank = 1\n",
        "\n",
        "\"\"\")\n",
        "df_rota_mais_utilizada.createOrReplaceTempView(\"rota_mais_utilizada\")"
      ],
      "metadata": {
        "id": "JyCI6F7z5waf"
      },
      "execution_count": 61,
      "outputs": []
    },
    {
      "cell_type": "code",
      "source": [
        "df_rota_mais_utilizada.distinct().show(truncate=False)"
      ],
      "metadata": {
        "colab": {
          "base_uri": "https://localhost:8080/"
        },
        "id": "pYPCvd0l7anB",
        "outputId": "a2b453b7-b675-4272-9725-2571bd89c037"
      },
      "execution_count": 62,
      "outputs": [
        {
          "output_type": "stream",
          "name": "stdout",
          "text": [
            "+---------------------------------------------------+------------------+-----------+--------------+------------+----------------+-----------------------------------------+-----------------------------------------------------------------------+\n",
            "|razao_social_companhia                             |icao_empresa_aerea|icao_origem|estado_origem |icao_destino|estado_destino  |nome_aeroporto_origem                    |nome_aeroporto_destino                                                 |\n",
            "+---------------------------------------------------+------------------+-----------+--------------+------------+----------------+-----------------------------------------+-----------------------------------------------------------------------+\n",
            "|TAM LINHAS AÉREAS S.A.                             |TAM               |SBGO       |São Paulo     |SBBR        |Rio de Janeiro  |São Paulo–Congonhas Airport              |Santos Dumont Airport                                                  |\n",
            "|TAM LINHAS AÉREAS S.A.                             |TAM               |SBSL       |São Paulo     |SBGR        |Rio de Janeiro  |São Paulo–Congonhas Airport              |Santos Dumont Airport                                                  |\n",
            "|AZUL LINHAS AÉREAS BRASILEIRAS S/A                 |AZU               |SBRJ       |São Paulo     |SBCP        |Rio de Janeiro  |Viracopos/Campinas International Airport |Santos Dumont Airport                                                  |\n",
            "|MODERN TRANSPORTE AEREO DE CARGA S.A               |MWM               |SBCF       |São Paulo     |SBGL        |Distrito Federal|Viracopos/Campinas International Airport |Brasília International Airport (Presidente J. Kubitschek Int'l Airport)|\n",
            "|SIDERAL LINHAS AÉREAS LTDA.                        |SID               |SBKP       |São Paulo     |SBPA        |Pernambuco      |São Paulo–Guarulhos International Airport|Recife/Guararapes–Gilberto Freyre International Airport                |\n",
            "|SIDERAL LINHAS AÉREAS LTDA.                        |SID               |SBPA       |São Paulo     |SBEG        |Pernambuco      |São Paulo–Guarulhos International Airport|Recife/Guararapes–Gilberto Freyre International Airport                |\n",
            "|TAM LINHAS AÉREAS S.A.                             |TAM               |SBGR       |São Paulo     |SBGO        |Rio de Janeiro  |São Paulo–Congonhas Airport              |Santos Dumont Airport                                                  |\n",
            "|TAM LINHAS AÉREAS S.A.                             |TAM               |SBGR       |São Paulo     |SBSG        |Rio de Janeiro  |São Paulo–Congonhas Airport              |Santos Dumont Airport                                                  |\n",
            "|TAM LINHAS AÉREAS S.A.                             |TAM               |SBIL       |São Paulo     |SBSP        |Rio de Janeiro  |São Paulo–Congonhas Airport              |Santos Dumont Airport                                                  |\n",
            "|TAM LINHAS AÉREAS S.A.                             |TAM               |KORD       |São Paulo     |SBGR        |Rio de Janeiro  |São Paulo–Congonhas Airport              |Santos Dumont Airport                                                  |\n",
            "|TAM LINHAS AÉREAS S.A.                             |TAM               |KMIA       |São Paulo     |SBKP        |Rio de Janeiro  |São Paulo–Congonhas Airport              |Santos Dumont Airport                                                  |\n",
            "|GOL LINHAS AÉREAS S.A. (EX- VRG LINHAS AÉREAS S.A.)|GLO               |SBGL       |Rio de Janeiro|SBGR        |São Paulo       |Santos Dumont Airport                    |São Paulo–Congonhas Airport                                            |\n",
            "|GOL LINHAS AÉREAS S.A. (EX- VRG LINHAS AÉREAS S.A.)|GLO               |SBRJ       |Rio de Janeiro|SBPA        |São Paulo       |Santos Dumont Airport                    |São Paulo–Congonhas Airport                                            |\n",
            "|AZUL LINHAS AÉREAS BRASILEIRAS S/A                 |AZU               |SBGR       |São Paulo     |SBCH        |Rio de Janeiro  |Viracopos/Campinas International Airport |Santos Dumont Airport                                                  |\n",
            "|AZUL LINHAS AÉREAS BRASILEIRAS S/A                 |AZU               |SBRJ       |São Paulo     |SBNF        |Rio de Janeiro  |Viracopos/Campinas International Airport |Santos Dumont Airport                                                  |\n",
            "|AZUL LINHAS AÉREAS BRASILEIRAS S/A                 |AZU               |SBKP       |São Paulo     |SBBV        |Rio de Janeiro  |Viracopos/Campinas International Airport |Santos Dumont Airport                                                  |\n",
            "|TAM LINHAS AÉREAS S.A.                             |TAM               |SBFZ       |São Paulo     |SBBE        |Rio de Janeiro  |São Paulo–Congonhas Airport              |Santos Dumont Airport                                                  |\n",
            "|PASSAREDO TRANSPORTES AÉREOS S.A.                  |PTB               |SBRP       |Bahia         |SBSP        |Bahia           |Porto Seguro Airport                     |Deputado Luís Eduardo Magalhães International Airport                  |\n",
            "|AZUL LINHAS AÉREAS BRASILEIRAS S/A                 |AZU               |EBBR       |São Paulo     |SBGR        |Rio de Janeiro  |Viracopos/Campinas International Airport |Santos Dumont Airport                                                  |\n",
            "|GOL LINHAS AÉREAS S.A. (EX- VRG LINHAS AÉREAS S.A.)|GLO               |SBSP       |Rio de Janeiro|SBGL        |São Paulo       |Santos Dumont Airport                    |São Paulo–Congonhas Airport                                            |\n",
            "+---------------------------------------------------+------------------+-----------+--------------+------------+----------------+-----------------------------------------+-----------------------------------------------------------------------+\n",
            "only showing top 20 rows\n",
            "\n"
          ]
        }
      ]
    },
    {
      "cell_type": "markdown",
      "source": [
        "#Agrupando para ter a rota mais frequente por icao_empresa sem repetir a empresa:"
      ],
      "metadata": {
        "id": "eyco1p7OBxee"
      }
    },
    {
      "cell_type": "code",
      "source": [
        "\n",
        "# Consulta para trazer o registro mais frequente por \"icao_empresa_aerea\" com código distinto\n",
        "df_rota_mais_utilizada_por_empresa = spark.sql( \"\"\"\n",
        "    WITH RotasMaisUtilizadas AS (\n",
        "        SELECT\n",
        "            vo.icao_empresa_aerea AS icao_empresa_aerea,\n",
        "            vo.icao_aerodromo_origem AS icao_origem,\n",
        "            vo.icao_aerodromo_destino AS icao_destino,\n",
        "            COUNT(*) AS total_rotas\n",
        "        FROM vra vo\n",
        "        GROUP BY vo.icao_empresa_aerea, vo.icao_aerodromo_origem, vo.icao_aerodromo_destino\n",
        "    ),\n",
        "    RotasMaisUtilizadasRank AS (\n",
        "        SELECT\n",
        "            r.*,\n",
        "            ROW_NUMBER() OVER (PARTITION BY r.icao_empresa_aerea ORDER BY r.total_rotas DESC) AS rank\n",
        "        FROM RotasMaisUtilizadas r\n",
        "    )\n",
        "    SELECT DISTINCT\n",
        "        ac.razao_social AS razao_social_companhia,\n",
        "        r.icao_empresa_aerea,\n",
        "        r.icao_origem,\n",
        "        ap_origem.state AS estado_origem,\n",
        "        r.icao_destino,\n",
        "        ap_destino.state AS estado_destino,\n",
        "        ap_origem.name AS nome_aeroporto_origem,\n",
        "        ap_destino.name AS nome_aeroporto_destino\n",
        "    FROM RotasMaisUtilizadasRank r\n",
        "    JOIN rota_mais_utilizada rota ON r.icao_empresa_aerea = rota.icao_empresa_aerea\n",
        "    JOIN air_cia ac ON r.icao_empresa_aerea = ac.icao\n",
        "    JOIN api ap_origem ON r.icao_origem = ap_origem.icao\n",
        "    JOIN api ap_destino ON r.icao_destino = ap_destino.icao\n",
        "    WHERE r.rank = 1\n",
        "\"\"\")\n",
        "\n",
        "# Exibir o resultado\n",
        "df_rota_mais_utilizada_por_empresa.show(truncate=False)"
      ],
      "metadata": {
        "colab": {
          "base_uri": "https://localhost:8080/"
        },
        "id": "gwSIBwbU8hnD",
        "outputId": "2e180a52-fc20-478b-a747-1401716b477f"
      },
      "execution_count": 63,
      "outputs": [
        {
          "output_type": "stream",
          "name": "stdout",
          "text": [
            "+------------------------------------------------------------------+------------------+-----------+-----------------+------------+--------------------+-----------------------------------------+-----------------------------------------------------------------------+\n",
            "|razao_social_companhia                                            |icao_empresa_aerea|icao_origem|estado_origem    |icao_destino|estado_destino      |nome_aeroporto_origem                    |nome_aeroporto_destino                                                 |\n",
            "+------------------------------------------------------------------+------------------+-----------+-----------------+------------+--------------------+-----------------------------------------+-----------------------------------------------------------------------+\n",
            "|AZUL CONECTA LTDA. (EX TWO TAXI AEREO LTDA)                       |ACN               |SWKO       |State of Amazonas|SBEG        |Amazonas            |Coari Airport                            |Eduardo Gomes International Airport                                    |\n",
            "|AEROSUL TÁXI AÉREO LTDA (EX.: AUSTEN TÁXI AÉREO LTDA)             |ASO               |SBFL       |Santa Catarina   |SBCD        |Santa Catarina      |Hercílio Luz International Airport       |Caçador Airport                                                        |\n",
            "|AZUL LINHAS AÉREAS BRASILEIRAS S/A                                |AZU               |SBKP       |São Paulo        |SBRJ        |Rio de Janeiro      |Viracopos/Campinas International Airport |Santos Dumont Airport                                                  |\n",
            "|GOL LINHAS AÉREAS S.A. (EX- VRG LINHAS AÉREAS S.A.)               |GLO               |SBRJ       |Rio de Janeiro   |SBSP        |São Paulo           |Santos Dumont Airport                    |São Paulo–Congonhas Airport                                            |\n",
            "|ABSA - AEROLINHAS BRASILEIRAS S.A.                                |LTG               |SEQM       |Pichincha        |KMIA        |Florida             |Mariscal Sucre International Airport     |Miami International Airport                                            |\n",
            "|MODERN TRANSPORTE AEREO DE CARGA S.A                              |MWM               |SBKP       |São Paulo        |SBBR        |Distrito Federal    |Viracopos/Campinas International Airport |Brasília International Airport (Presidente J. Kubitschek Int'l Airport)|\n",
            "|OMNI TÁXI AÉREO S.A.                                              |OMI               |SBAR       |California       |SBGL        |Rio de Janeiro      |Santa Maria Airport                      |Rio de Janeiro–Galeão International Airport                            |\n",
            "|PASSAREDO TRANSPORTES AÉREOS S.A.                                 |PTB               |SBPS       |Bahia            |SBSV        |Bahia               |Porto Seguro Airport                     |Deputado Luís Eduardo Magalhães International Airport                  |\n",
            "|SIDERAL LINHAS AÉREAS LTDA.                                       |SID               |SBGR       |São Paulo        |SBRF        |Pernambuco          |São Paulo–Guarulhos International Airport|Recife/Guararapes–Gilberto Freyre International Airport                |\n",
            "|ASTA LINHAS AÉREAS LTDA ( EX - AMÉRICA DO SUL LINHAS AÉREAS LTDA.)|SUL               |SBCY       |Mato Grosso      |SWJN        |State of Mato Grosso|Marechal Rondon International Airport    |Juína Airport                                                          |\n",
            "|TAM LINHAS AÉREAS S.A.                                            |TAM               |SBSP       |São Paulo        |SBRJ        |Rio de Janeiro      |São Paulo–Congonhas Airport              |Santos Dumont Airport                                                  |\n",
            "|TOTAL LINHAS AÉREAS S.A.                                          |TTL               |SBCT       |Paraná           |SBGR        |São Paulo           |Afonso Pena International Airport        |São Paulo–Guarulhos International Airport                              |\n",
            "+------------------------------------------------------------------+------------------+-----------+-----------------+------------+--------------------+-----------------------------------------+-----------------------------------------------------------------------+\n",
            "\n"
          ]
        }
      ]
    },
    {
      "cell_type": "markdown",
      "source": [
        "#2. Para cada aeroporto trazer a companhia aérea com maior atuação no ano com as seguintes informações:\n",
        "-Nome do Aeroporto;\n",
        "\n",
        "-ICAO do Aeroporto;\n",
        "\n",
        "-Razão social da Companhia Aérea;\n",
        "\n",
        "-Quantidade de Rotas à partir daquele aeroporto;\n",
        "\n",
        "-Quantidade de Rotas com destino àquele aeroporto;\n",
        "\n",
        "-Quantidade total de pousos e decolagens naquele aeroporto."
      ],
      "metadata": {
        "id": "QK4yFxkuCIS1"
      }
    },
    {
      "cell_type": "code",
      "source": [
        "# CTE para calcular o numero de rotas por linha área de cada aeroporto\n",
        "df_rotas_saindo = spark.sql(\"\"\"\n",
        "    WITH RotasSaindo AS (\n",
        "        SELECT\n",
        "            ap.icao AS icao_aeroporto,\n",
        "            vo.icao_empresa_aerea AS icao_empresa_aerea,\n",
        "            COUNT(*) AS qtd_rotas_saindo\n",
        "        FROM vra vo\n",
        "        INNER JOIN api ap ON vo.icao_aerodromo_origem = ap.icao\n",
        "        GROUP BY ap.icao, vo.icao_empresa_aerea\n",
        "    )\n",
        "    SELECT\n",
        "        *,\n",
        "        ROW_NUMBER() OVER (PARTITION BY icao_aeroporto ORDER BY qtd_rotas_saindo DESC) AS rank_saindo\n",
        "    FROM RotasSaindo\n",
        "\"\"\")\n",
        "df_rotas_saindo.createOrReplaceTempView(\"rotas_saindo\")\n",
        "\n",
        "# CTE para calcular o numero de rotas para cada companhia aera\n",
        "# chegando em cada aeroporto\n",
        "\n",
        "df_rotas_chegando = spark.sql(\"\"\"\n",
        "    WITH RotasChegando AS (\n",
        "        SELECT\n",
        "            ap.icao AS icao_aeroporto,\n",
        "            vo.icao_empresa_aerea AS icao_empresa_aerea,\n",
        "            COUNT(*) AS qtd_rotas_chegando\n",
        "        FROM vra vo\n",
        "        INNER JOIN api ap ON vo.icao_aerodromo_destino = ap.icao\n",
        "        GROUP BY ap.icao, vo.icao_empresa_aerea\n",
        "    )\n",
        "    SELECT\n",
        "        *,\n",
        "        ROW_NUMBER() OVER (PARTITION BY icao_aeroporto ORDER BY qtd_rotas_chegando DESC) AS rank_chegando\n",
        "    FROM RotasChegando\n",
        "\"\"\")\n",
        "df_rotas_chegando.createOrReplaceTempView(\"rotas_chegando\")\n",
        "\n",
        "# CTE para calcular o total de pousos e decolagens por aeroporto\n",
        "\n",
        "df_pousos_decolagens = spark.sql(\"\"\"\n",
        "    WITH PousosDecolagens AS (\n",
        "        SELECT\n",
        "            ap.icao AS icao_aeroporto,\n",
        "            COUNT(*) AS qtd_pousos_decolagens\n",
        "        FROM vra vo\n",
        "        INNER JOIN api ap ON vo.icao_aerodromo_destino = ap.icao OR vo.icao_aerodromo_origem = ap.icao\n",
        "        GROUP BY ap.icao\n",
        "    ),\n",
        "    RotasSaindo AS (\n",
        "        SELECT\n",
        "            ap_saida.icao AS icao_aeroporto,\n",
        "            COUNT(DISTINCT vo_saida.numero_voo) AS qtd_rotas_saindo\n",
        "        FROM vra vo_saida\n",
        "        INNER JOIN api ap_saida ON vo_saida.icao_aerodromo_origem = ap_saida.icao\n",
        "        GROUP BY ap_saida.icao\n",
        "    ),\n",
        "    RotasEntrando AS (\n",
        "        SELECT\n",
        "            ap_entrada.icao AS icao_aeroporto,\n",
        "            COUNT(DISTINCT vo_entrada.numero_voo) AS qtd_rotas_entrando\n",
        "        FROM vra vo_entrada\n",
        "        INNER JOIN api ap_entrada ON vo_entrada.icao_aerodromo_destino = ap_entrada.icao\n",
        "        GROUP BY ap_entrada.icao\n",
        "    )\n",
        "    SELECT\n",
        "        pd.icao_aeroporto,\n",
        "        pd.qtd_pousos_decolagens,\n",
        "        COALESCE(rs.qtd_rotas_saindo, 0) AS qtd_rotas_saindo,\n",
        "        COALESCE(re.qtd_rotas_entrando, 0) AS qtd_rotas_entrando\n",
        "    FROM PousosDecolagens pd\n",
        "    LEFT JOIN RotasSaindo rs ON pd.icao_aeroporto = rs.icao_aeroporto\n",
        "    LEFT JOIN RotasEntrando re ON pd.icao_aeroporto = re.icao_aeroporto\n",
        "    ORDER BY pd.qtd_pousos_decolagens DESC\n",
        "\"\"\")\n",
        "df_pousos_decolagens.createOrReplaceTempView(\"pousos_decolagens\")\n",
        "\n",
        "\n",
        "\n",
        "# Combinando as CTE's para responder as perguntas de negócio da task 2:\n",
        "df_resultado = spark.sql(\"\"\"\n",
        "    SELECT DISTINCT\n",
        "        ap.name AS nome_aeroporto,\n",
        "        ap.icao AS icao_aeroporto,\n",
        "        rs.icao_empresa_aerea AS icao_empresa_aerea,\n",
        "        rs.qtd_rotas_saindo AS qtd_rotas_saindo,\n",
        "        rc.qtd_rotas_chegando AS qtd_rotas_chegando,\n",
        "        pd.qtd_pousos_decolagens AS qtd_pousos_decolagens\n",
        "    FROM api ap\n",
        "    LEFT JOIN rotas_saindo rs ON ap.icao = rs.icao_aeroporto AND rs.rank_saindo = 1\n",
        "    LEFT JOIN rotas_chegando rc ON ap.icao = rc.icao_aeroporto AND rc.rank_chegando = 1\n",
        "    LEFT JOIN pousos_decolagens pd ON ap.icao = pd.icao_aeroporto\n",
        "\"\"\")\n",
        "df_resultado.createOrReplaceTempView(\"resultado\")\n",
        "\n",
        "# Display do preview do resultado\n",
        "df_resultado.show(truncate=False)\n"
      ],
      "metadata": {
        "colab": {
          "base_uri": "https://localhost:8080/"
        },
        "id": "f7JnEBPDCSpr",
        "outputId": "0e673d5f-3a9e-4ff6-8f17-e60fb8ed843c"
      },
      "execution_count": 66,
      "outputs": [
        {
          "output_type": "stream",
          "name": "stdout",
          "text": [
            "+----------------------------------------------------------------------+--------------+------------------+----------------+------------------+---------------------+\n",
            "|nome_aeroporto                                                        |icao_aeroporto|icao_empresa_aerea|qtd_rotas_saindo|qtd_rotas_chegando|qtd_pousos_decolagens|\n",
            "+----------------------------------------------------------------------+--------------+------------------+----------------+------------------+---------------------+\n",
            "|Charles de Gaulle Airport (Roissy Airport)                            |LFPG          |AFR               |551             |539               |1236                 |\n",
            "|Porto Seguro Airport                                                  |SBPS          |AZU               |1943            |1940              |10653                |\n",
            "|Hartsfield–Jackson Atlanta International Airport                      |KATL          |DAL               |333             |336               |671                  |\n",
            "|Itaituba Airport                                                      |SBIH          |PAM               |262             |262               |602                  |\n",
            "|Professor Urbano Ernesto Stumpf Airport                               |SBSJ          |OWT               |8               |9                 |22                   |\n",
            "|Hamad International Airport                                           |OTHH          |QTR               |774             |775               |1550                 |\n",
            "|Serafin Enoss Bertaso Airport                                         |SBCH          |AZU               |824             |823               |3125                 |\n",
            "|El Loa Airport                                                        |SCCF          |LAE               |3               |3                 |8                    |\n",
            "|Hosea Kutako International Airport                                    |FYWH          |PVV               |1               |1                 |2                    |\n",
            "|Corumbá International Airport                                         |SBCR          |AZU               |175             |176               |351                  |\n",
            "|Alenquer Airport                                                      |SDWQ          |OWT               |18              |18                |36                   |\n",
            "|Ted Stevens Anchorage International Airport                           |PANC          |KAL               |132             |132               |264                  |\n",
            "|Rubem Berta International Airport                                     |SBUG          |AZU               |172             |172               |344                  |\n",
            "|Abu Dhabi International Airport                                       |OMAA          |ETD               |6               |6                 |16                   |\n",
            "|São Gonçalo do Amarante–Governador Aluízio Alves International Airport|SBSG          |TAM               |2036            |2034              |12186                |\n",
            "|Hélio Wasum Airport                                                   |SSOE          |ASO               |18              |16                |34                   |\n",
            "|Agadir–Al Massira Airport                                             |GMAD          |MEM               |1               |1                 |2                    |\n",
            "|Fernando de Noronha Airport (Gov. Carlos Wilson Airport)              |SBFN          |AZU               |800             |801               |2295                 |\n",
            "|Londrina–Governador José Richa Airport                                |SBLO          |AZU               |1436            |1435              |4373                 |\n",
            "|Istanbul Atatürk Airport                                              |LTBA          |THY               |84              |93                |178                  |\n",
            "+----------------------------------------------------------------------+--------------+------------------+----------------+------------------+---------------------+\n",
            "only showing top 20 rows\n",
            "\n"
          ]
        }
      ]
    },
    {
      "cell_type": "code",
      "source": [],
      "metadata": {
        "id": "3Z30_D4_Iihd"
      },
      "execution_count": null,
      "outputs": []
    },
    {
      "cell_type": "markdown",
      "source": [
        "##Exportacao das TempView para formato .parquet de maneira que se a área de negóicos quiser ela pode consumir tanto em consultas AD-HOC em um GCP Big Query; Quanto carregar em uma ferramenta de BI (PowerBi, Looker, Tableau)"
      ],
      "metadata": {
        "id": "TaDLn0MrIjNI"
      }
    },
    {
      "cell_type": "code",
      "source": [
        "# task 1:\n",
        "df_rota_mais_utilizada_por_empresa.coalesce(1).write.mode('overwrite').parquet('task1/parquet')\n",
        "\n",
        "df_rota_mais_utilizada_por_empresa.coalesce(1).write.mode('overwrite').json('task1/json')\n"
      ],
      "metadata": {
        "id": "UqGzagtkIzrz"
      },
      "execution_count": 67,
      "outputs": []
    },
    {
      "cell_type": "code",
      "source": [
        "# task 2:\n",
        "\n",
        "# exportacao formato '.parquet'\n",
        "df_resultado.coalesce(1).write.mode('overwrite').parquet(\"task2/parquet\")\n",
        "\n",
        "# Exportacao formato 'json'\n",
        "df_resultado.coalesce(1).write.mode('overwrite').json(\"task2/json\")\n"
      ],
      "metadata": {
        "id": "HgJ-js8HJim2"
      },
      "execution_count": 68,
      "outputs": []
    }
  ]
}