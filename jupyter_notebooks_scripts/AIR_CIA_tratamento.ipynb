{
  "nbformat": 4,
  "nbformat_minor": 0,
  "metadata": {
    "colab": {
      "provenance": []
    },
    "kernelspec": {
      "name": "python3",
      "display_name": "Python 3"
    },
    "language_info": {
      "name": "python"
    }
  },
  "cells": [
    {
      "cell_type": "code",
      "source": [
        "!pip install pyspark"
      ],
      "metadata": {
        "colab": {
          "base_uri": "https://localhost:8080/"
        },
        "id": "Jk2YkzAX1vRv",
        "outputId": "8cee81c2-880f-4a23-dd9c-2c3197a0d041"
      },
      "execution_count": 38,
      "outputs": [
        {
          "output_type": "stream",
          "name": "stdout",
          "text": [
            "Requirement already satisfied: pyspark in /usr/local/lib/python3.10/dist-packages (3.5.0)\n",
            "Requirement already satisfied: py4j==0.10.9.7 in /usr/local/lib/python3.10/dist-packages (from pyspark) (0.10.9.7)\n"
          ]
        }
      ]
    },
    {
      "cell_type": "code",
      "source": [
        "import os\n",
        "import sys\n",
        "import re\n",
        "import json\n",
        "from pyspark.sql import SparkSession\n",
        "from pyspark.sql.types import *\n",
        "from pyspark.sql.functions import *\n"
      ],
      "metadata": {
        "id": "XUVXochd13Ry"
      },
      "execution_count": 39,
      "outputs": []
    },
    {
      "cell_type": "code",
      "source": [
        "# criar e inicializar a spark session\n",
        "spark = SparkSession.builder.appName(\"AIR_CIA\").getOrCreate()"
      ],
      "metadata": {
        "id": "IUMVvpaT13UV"
      },
      "execution_count": 40,
      "outputs": []
    },
    {
      "cell_type": "code",
      "source": [],
      "metadata": {
        "id": "dkzV4RiMWD1P"
      },
      "execution_count": 41,
      "outputs": []
    },
    {
      "cell_type": "code",
      "source": [
        "\n",
        "#leitura dos CSVs utilizando UTF-8 como encoding\n",
        "df_air_cia = spark.read.option(\"delimiter\", \";\").option(\"encoding\", \"UTF-8\").csv('/content/AIR_CIA/', header=True)\n",
        "\n",
        "#verificacao de schema pois csv infere tudo como 'string'\n",
        "df_air_cia.printSchema()\n"
      ],
      "metadata": {
        "colab": {
          "base_uri": "https://localhost:8080/"
        },
        "id": "mr_O0-zV13XK",
        "outputId": "f1f83b86-49ab-4af7-bfeb-14950edec595"
      },
      "execution_count": 42,
      "outputs": [
        {
          "output_type": "stream",
          "name": "stdout",
          "text": [
            "root\n",
            " |-- Razão Social: string (nullable = true)\n",
            " |-- ICAO IATA: string (nullable = true)\n",
            " |-- CNPJ: string (nullable = true)\n",
            " |-- Atividades Aéreas: string (nullable = true)\n",
            " |-- Endereço Sede: string (nullable = true)\n",
            " |-- Telefone: string (nullable = true)\n",
            " |-- E-Mail: string (nullable = true)\n",
            " |-- Decisão Operacional: string (nullable = true)\n",
            " |-- Data Decisão Operacional: string (nullable = true)\n",
            " |-- Validade Operacional: string (nullable = true)\n",
            "\n"
          ]
        }
      ]
    },
    {
      "cell_type": "code",
      "source": [],
      "metadata": {
        "id": "v78bkCPD3Kl8"
      },
      "execution_count": 42,
      "outputs": []
    },
    {
      "cell_type": "markdown",
      "source": [
        "# passando para snake case as colunas:"
      ],
      "metadata": {
        "id": "vLErCp4kP0tR"
      }
    },
    {
      "cell_type": "code",
      "source": [
        "# conversao para snake case\n",
        "for column in df_air_cia.columns:\n",
        "    new_column_name = column.lower().replace(\" \", \"_\").replace(\"-\", \"_\")\n",
        "    df_air_cia = df_air_cia.withColumnRenamed(column, new_column_name)"
      ],
      "metadata": {
        "id": "T55_xHVQWaYR"
      },
      "execution_count": 43,
      "outputs": []
    },
    {
      "cell_type": "code",
      "source": [
        "df_air_cia.show(7)"
      ],
      "metadata": {
        "colab": {
          "base_uri": "https://localhost:8080/"
        },
        "id": "DZsogNeMWnJf",
        "outputId": "dc92fc98-e3fa-493a-9cba-9e6bed090646"
      },
      "execution_count": 44,
      "outputs": [
        {
          "output_type": "stream",
          "name": "stdout",
          "text": [
            "+--------------------+---------+------------------+--------------------+--------------------+--------------------+--------------------+--------------------+------------------------+--------------------+\n",
            "|        razão_social|icao_iata|              cnpj|   atividades_aéreas|       endereço_sede|            telefone|              e_mail| decisão_operacional|data_decisão_operacional|validade_operacional|\n",
            "+--------------------+---------+------------------+--------------------+--------------------+--------------------+--------------------+--------------------+------------------------+--------------------+\n",
            "|ABSA - AEROLINHAS...|   LTG M3|00.074.635/0001-33|TRANSPORTE AÉREO ...|AEROPORTO INTERNA...|      (11) 5582-8055|      gar@tam.com.br|       DECISÃO Nº 41|              22/04/2015|          23/04/2025|\n",
            "|AEROSUL TÁXI AÉRE...|   ASO 2S|27.315.694/0001-02|SERVIÇOS AÉREOS P...|RODOVIA PR 218, K...|      (43) 3176-4030|operacoes@aerosul...|      DECISÃO Nº 282|              10/02/2021|                NULL|\n",
            "|ASTA LINHAS AÉREA...|   SUL 0A|12.703.737/0001-50|SERVIÇOS AÉREOS P...|AV GOVERNADOR JOÃ...|(65) 3614-2684 / ...|                NULL|      DECISÃO Nº 115|              31/07/2019|          02/08/2024|\n",
            "|ATA - AEROTÁXI AB...|      ABJ|14.674.451/0001-19|TÁXI-AÉREO, TRANS...| PÇA. GAGO COUTIN...|(71) 34629600 / (...|guilherme@abaete....|       DECISÃO Nº 36|              05/03/2020|                NULL|\n",
            "|AZUL CONECTA LTDA...|   ACN 2F|04.263.318/0001-16|TRANSPORTE AÉREO ...|AVENIDA EMILIO AN...|(11) 45822355/ (1...|                NULL|Decisão nº 14, de...|              25/01/2018|          29/01/2028|\n",
            "|AZUL LINHAS AÉREA...|   AZU AD|09.296.295/0001-60|TRANSPORTE AÉREO ...|AV. MARCOS PENTEA...| (55) (11) 4134-9...|vanessa.reis@voea...|      Decisão nº 178|              20/11/2018|          21/11/2028|\n",
            "|GOL LINHAS AÉREAS...|   GLO G3|07.575.651/0001-59|TRANSPORTE AÉREO ...|PRAÇA SENADOR SAL...|(11) 5098-2990 / ...|rddfonseca@voegol...|      DECISÃO Nº 156|              05/11/2019|                NULL|\n",
            "+--------------------+---------+------------------+--------------------+--------------------+--------------------+--------------------+--------------------+------------------------+--------------------+\n",
            "only showing top 7 rows\n",
            "\n"
          ]
        }
      ]
    },
    {
      "cell_type": "code",
      "source": [
        "# retirar os caracteres especiais das colunas\n",
        "for col_name in df_air_cia.columns:\n",
        "    new_col_name = col_name \\\n",
        "        .replace(\"ã\", \"a\") \\\n",
        "        .replace(\"á\", \"a\") \\\n",
        "        .replace(\"à\", \"a\") \\\n",
        "        .replace(\"é\", \"e\") \\\n",
        "        .replace(\"ê\", \"e\") \\\n",
        "        .replace(\"í\", \"i\") \\\n",
        "        .replace(\"ó\", \"o\") \\\n",
        "        .replace(\"ô\", \"o\") \\\n",
        "        .replace(\"õ\", \"o\") \\\n",
        "        .replace(\"ú\", \"u\") \\\n",
        "        .replace(\"ç\", \"c\") \\\n",
        "        .replace(\"-\", \"_\")\n",
        "\n",
        "    df_air_cia = df_air_cia.withColumnRenamed(col_name, new_col_name)"
      ],
      "metadata": {
        "id": "MCAW-QeJ9H70"
      },
      "execution_count": 45,
      "outputs": []
    },
    {
      "cell_type": "code",
      "source": [
        "df_air_cia.show(truncate=False)"
      ],
      "metadata": {
        "colab": {
          "base_uri": "https://localhost:8080/"
        },
        "id": "DCdKRDiD3OvF",
        "outputId": "590353ee-0546-4829-cc9d-bbcb3159f12a"
      },
      "execution_count": 46,
      "outputs": [
        {
          "output_type": "stream",
          "name": "stdout",
          "text": [
            "+------------------------------------------------------------------+---------+------------------+------------------------------------------------------------------------------------------------+--------------------------------------------------------------------------------------------------------------------------------------------------------------------+---------------------------------------------+-----------------------------------+----------------------------+------------------------+--------------------+\n",
            "|razao_social                                                      |icao_iata|cnpj              |atividades_aereas                                                                               |endereco_sede                                                                                                                                                       |telefone                                     |e_mail                             |decisao_operacional         |data_decisao_operacional|validade_operacional|\n",
            "+------------------------------------------------------------------+---------+------------------+------------------------------------------------------------------------------------------------+--------------------------------------------------------------------------------------------------------------------------------------------------------------------+---------------------------------------------+-----------------------------------+----------------------------+------------------------+--------------------+\n",
            "|ABSA - AEROLINHAS BRASILEIRAS S.A.                                |LTG M3   |00.074.635/0001-33|TRANSPORTE AÉREO REGULAR                                                                        |AEROPORTO INTERNACIONAL DE VIRACOPOS, RODOVIA SANTOS DUMONT, KM 66, SISTEMA VIÁRIO PRINCIPAL, S/ Nº, 13.052-970, CAMPINAS-SP                                        |(11) 5582-8055                               |gar@tam.com.br                     |DECISÃO Nº 41               |22/04/2015              |23/04/2025          |\n",
            "|AEROSUL TÁXI AÉREO LTDA (EX.: AUSTEN TÁXI AÉREO LTDA)             |ASO 2S   |27.315.694/0001-02|SERVIÇOS AÉREOS PÚBLICOS, TÁXI-AÉREO, TRANSPORTE AÉREO NÃO REGULAR, TRANSPORTE AÉREO REGULAR    |RODOVIA PR 218, KM 7, JARDIM UNIVERSITÁRIO, AEROPORTO MUNICIPAL ALBERTO BERTELLI , 86.702-670, ARAPONGAS-PR                                                         |(43) 3176-4030                               |operacoes@aerosul.com.br           |DECISÃO Nº 282              |10/02/2021              |NULL                |\n",
            "|ASTA LINHAS AÉREAS LTDA ( EX - AMÉRICA DO SUL LINHAS AÉREAS LTDA.)|SUL 0A   |12.703.737/0001-50|SERVIÇOS AÉREOS PÚBLICOS, TRANSPORTE AÉREO REGULAR                                              |AV GOVERNADOR JOÃO PONCE DE ARRUDA, S/N, HANGAR AMÉRICA DO SUL ANEXO AO AEROP. MAL RONDON. CAIXA POSTAL N° 156, NO BAIRRO CENTRO-NORTE, 78.110-900, VÁRZEA GRANDE-MT|(65) 3614-2684 / (18) 2104-1000              |NULL                               |DECISÃO Nº 115              |31/07/2019              |02/08/2024          |\n",
            "|ATA - AEROTÁXI ABAETÉ LTDA.                                       |ABJ      |14.674.451/0001-19|TÁXI-AÉREO, TRANSPORTE AÉREO NÃO REGULAR, TRANSPORTE AÉREO REGULAR                              | PÇA. GAGO COUTINHO, S/N, AEROPORTO INTERNACIONAL DE SALVADOR DEPUTADO LUÍS EDUARDO MAGALHÃES - HANGAR - AEROPORTO, 41.510-045, SALVADOR-BA                         |(71) 34629600 / (71) 996643563               |guilherme@abaete.com.br            |DECISÃO Nº 36               |05/03/2020              |NULL                |\n",
            "|AZUL CONECTA LTDA. (EX TWO TAXI AEREO LTDA)                       |ACN 2F   |04.263.318/0001-16|TRANSPORTE AÉREO REGULAR                                                                        |AVENIDA EMILIO ANTONON, 901, BAIRRO CHÁCARA AEROPORTO, 13.212-010, JUNDIAÍ-SP                                                                                       |(11) 45822355/ (11) 987433988                |NULL                               |Decisão nº 14, de 25/01/2018|25/01/2018              |29/01/2028          |\n",
            "|AZUL LINHAS AÉREAS BRASILEIRAS S/A                                |AZU AD   |09.296.295/0001-60|TRANSPORTE AÉREO REGULAR                                                                        |AV. MARCOS PENTEADO ULHÔA RODRIGUES,N°939, 9° ANDAR TORRE JATOBÁ, COND. CASTELO BRANCO OFFICE PARK - TAMBORÉ, 06.460-040, BARUERI-SP                                | (55) (11) 4134-9887 | Fax: (55)(11)4134-9890|vanessa.reis@voeazul.com.br        |Decisão nº 178              |20/11/2018              |21/11/2028          |\n",
            "|GOL LINHAS AÉREAS S.A. (EX- VRG LINHAS AÉREAS S.A.)               |GLO G3   |07.575.651/0001-59|TRANSPORTE AÉREO REGULAR                                                                        |PRAÇA SENADOR SALGADO FILHO, S/N°, AEROPORTO SANTOS DUMONT, TÉRREO, ÁREA PÚBLICA, ENTRE OS EIXOS 46-48/0-P, 20.021-340, RIO DE JANEIRO-RJ                           |(11) 5098-2990 / (11) 5098-7872              |rddfonseca@voegol.com.br           |DECISÃO Nº 156              |05/11/2019              |NULL                |\n",
            "|MAP TRANSPORTES AÉREOS LTDA.                                      |PAM 7M   |10.483.635/0001-40|TRANSPORTE AÉREO REGULAR                                                                        |AVENIDA SANTOS DUMONT, Nº 1350, AEROPORTO INTERNACIONAL DE MANAUS EDUARDO GOMES - SAGUÃO DE EMBARQUE DO TPS I - HANGAR I, BAIRRO TARUMÃ, 69.041-000, MANAUS-AM      |(92) 36521620                                |contabil@voemap.com.br             |DECISÃO Nº 89               |14/08/2012              |17/08/2022          |\n",
            "|MODERN TRANSPORTE AEREO DE CARGA S.A                              |MWM WD   |03.887.831/0001-15|TRANSPORTE AÉREO REGULAR                                                                        |AVENIDA PREFEITO LUIZ LATORRE, Nº 9450, CONDOMINIO MASTER BUSINESS PARK, GALPÃO 17, SALA 1, VILA DAS HORTÊNCIAS, 13.209-430, JUNDIAÍ-SP                             |(21) 2272-9272 / (11) 31096750               |juridico@modern.com.br             |DECISÃO Nº 79               |31/05/2017              |02/06/2027          |\n",
            "|PASSAREDO TRANSPORTES AÉREOS S.A.                                 |PTB 2Z   |00.512.777/0001-35|TRANSPORTE AÉREO REGULAR                                                                        |SETOR DE HANGARES. ENTRADA PELA AV. THOMAZ ALBERTO WHATELY S/Nº, LOTES 14,16,20 E 22 AEROPORTO LEITE LOPES - JARDIM AEROPORTO, 14.078-550, RIBEIRÃO PRETO-SP        |(16) 3514-7127 / (16) 3514-7126              |juridico@voepass.com.br            |DECISÃO Nº 105              |09/06/2020              |NULL                |\n",
            "|SIDERAL LINHAS AÉREAS LTDA.                                       |SID 0S   |10.919.908/0001-57|TRANSPORTE AÉREO NÃO REGULAR, TRANSPORTE AÉREO REGULAR                                          |RODOVIA CONTORNO LESTE BR-116, Nº 9.119, 3º ANDAR, SALA 01, BAIRRO COSTEIRA. CAIXA POSTAL Nº 1054, 83.015-162, SÃO JOSÉ DOS PINHAIS-PR                              |(41) 3116-9000 / (41) 3116-9059              |office@siderallinhasaereas.com.br  |DECISÃO Nº 37               |05/03/2020              |06/03/2025          |\n",
            "|TAM LINHAS AÉREAS S.A.                                            |TAM JJ   |02.012.862/0001-60|TRANSPORTE AÉREO REGULAR                                                                        |RUA ÁTICA , N° 673, 6ª ANDAR, SALA 62, JARDIM BRASIL, 04.634-042, SÃO PAULO-SP                                                                                      |(11) 5582-8055 / (11) 5582-8050              |gar@tam.com.br                     |DECISÃO Nº 366              |07/07/2021              |09/11/2031          |\n",
            "|TOTAL LINHAS AÉREAS S.A.                                          |TTL L1   |32.068.363/0001-55|SERVIÇOS AÉREOS PÚBLICOS, TRANSPORTE AÉREO REGULAR                                              |AV. SENADOR SALGADO FILHO, 5397 SALA D - BAIRRO UBERABA, 81.580-000, CURITIBA-PR                                                                                    |(41) 3371-8200 / (31) 3343-8600              |geraldo.antonio@total.com.br       |DECISÃO Nº 260              |12/01/2021              |14/01/2031          |\n",
            "|AEROSUL TÁXI AÉREO LTDA (EX.: AUSTEN TÁXI AÉREO LTDA)             |ASO 2S   |27.315.694/0001-02|SERVIÇOS AÉREOS PÚBLICOS, TÁXI-AÉREO, TRANSPORTE AÉREO NÃO REGULAR, TRANSPORTE AÉREO REGULAR    |RODOVIA PR 218, KM 7, JARDIM UNIVERSITÁRIO, AEROPORTO MUNICIPAL ALBERTO BERTELLI , 86.702-670, ARAPONGAS-PR                                                         |(43) 3176-4030                               |operacoes@aerosul.com.br           |DECISÃO Nº 282              |10/02/2021              |NULL                |\n",
            "|ATA - AEROTÁXI ABAETÉ LTDA.                                       |ABJ      |14.674.451/0001-19|TÁXI-AÉREO, TRANSPORTE AÉREO NÃO REGULAR, TRANSPORTE AÉREO REGULAR                              | PÇA. GAGO COUTINHO, S/N, AEROPORTO INTERNACIONAL DE SALVADOR DEPUTADO LUÍS EDUARDO MAGALHÃES - HANGAR - AEROPORTO, 41.510-045, SALVADOR-BA                         |(71) 34629600 / (71) 996643563               |guilherme@abaete.com.br            |DECISÃO Nº 36               |05/03/2020              |NULL                |\n",
            "|OMNI TÁXI AÉREO S.A.                                              |OMI O1   |03.670.763/0001-38|AEROFOTOGRAFIA, AEROINSPEÇÃO, SERVIÇOS AÉREOS PÚBLICOS, TÁXI-AÉREO, TRANSPORTE AÉREO NÃO REGULAR|AV. AYRTON SENNA, 2541 RUA F1 LOTE 40 - AEROPORTO DE JACAREPAGUÁ - BARRA DA TIJUCA, 22.775-002, RIO DE JANEIRO-RJ                                                   |(61) 98335-3444                              |lira@plfconsultoria.com.br         |DECISÃO Nº 100              |10/07/2019              |12/07/2024          |\n",
            "|PRIME TÁXI AIR LTDA                                               |NULL     |23.568.370/0001-25|TÁXI-AÉREO, TRANSPORTE AÉREO NÃO REGULAR, SERVIÇOS AÉREOS PÚBLICOS                              |AL. RIO NEGRO, 585 - BLOCO A - CJ.95 - SALA E, 06.454-000, BARUERI-SP                                                                                               |(11) 41958307 / (11) 41958308                |mmatta@primefractionclub.com.br    |DECISÃO Nº 237              |17/12/2020              |18/12/2025          |\n",
            "|SIDERAL LINHAS AÉREAS LTDA.                                       |SID 0S   |10.919.908/0001-57|TRANSPORTE AÉREO NÃO REGULAR, TRANSPORTE AÉREO REGULAR                                          |RODOVIA CONTORNO LESTE BR-116, Nº 9.119, 3º ANDAR, SALA 01, BAIRRO COSTEIRA. CAIXA POSTAL Nº 1054, 83.015-162, SÃO JOSÉ DOS PINHAIS-PR                              |(41) 3116-9000 / (41) 3116-9059              |office@siderallinhasaereas.com.br  |DECISÃO Nº 37               |05/03/2020              |06/03/2025          |\n",
            "|RIMA - RIO MADEIRA AEROTÁXI LTDA.                                 |RIM 0R   |04.778.630/0001-42|LIGAÇÃO AÉREA SISTEMÁTICA REGULAR, TÁXI-AÉREO                                                   |AV. LAURO SODRÉ, Nº 6490 - AEROPORTO INTERNACIONAL DE PORTO VELHO - LOJA 04, 76.803-260, PORTO VELHO-RO                                                             |(69) 3225-8000                               |NULL                               |DECISÃO Nº 116              |26/07/2017              |27/07/2022          |\n",
            "|RTS - ROTA DO SOL TÁXI AÉREO LTDA.                                |CKP      |01.904.715/0001-31|LIGAÇÃO AÉREA SISTEMÁTICA REGULAR, SERVIÇOS AÉREOS PÚBLICOS, TÁXI-AÉREO                         |PRAÇA EDUARDO GOMES, S/Nº, TERMINAL DE AVIAÇÃO GERAL, SALA 013 - BAIRRO VILA UNIÃO, 60.422-721, FORTALEZA-CE                                                        |(85) 3272-3555                               |quadros@voerotadosol.com           |DECISÃO Nº 21               |13/02/2019              |15/02/2024          |\n",
            "+------------------------------------------------------------------+---------+------------------+------------------------------------------------------------------------------------------------+--------------------------------------------------------------------------------------------------------------------------------------------------------------------+---------------------------------------------+-----------------------------------+----------------------------+------------------------+--------------------+\n",
            "\n"
          ]
        }
      ]
    },
    {
      "cell_type": "code",
      "source": [],
      "metadata": {
        "id": "58m2OqI6Xf7t"
      },
      "execution_count": 46,
      "outputs": []
    },
    {
      "cell_type": "markdown",
      "source": [
        "# Operacao de slice da coluna 'icao_iata' para 'icao' e 'iata':"
      ],
      "metadata": {
        "id": "ebItDO-nQD-3"
      }
    },
    {
      "cell_type": "code",
      "source": [
        "# Operacao de slice da coluna 'icao_iata' para 'icao' e 'iata'\n",
        "df_air_cia = df_air_cia.withColumn(\"icao_iata\", split(\"icao_iata\", \" \"))\n",
        "df_air_cia = df_air_cia.withColumn(\"icao\", df_air_cia[\"icao_iata\"].getItem(0))\n",
        "df_air_cia = df_air_cia.withColumn(\"iata\", when(df_air_cia[\"icao_iata\"].getItem(1).isNotNull(), df_air_cia[\"icao_iata\"].getItem(1)))"
      ],
      "metadata": {
        "id": "IkIqRBdwXf3J"
      },
      "execution_count": 47,
      "outputs": []
    },
    {
      "cell_type": "code",
      "source": [],
      "metadata": {
        "id": "DqxIU-04XfyK"
      },
      "execution_count": 47,
      "outputs": []
    },
    {
      "cell_type": "code",
      "source": [
        "# trazendo as colunas 'icao' e 'iata' obedecendo a ordem do dataframe original\n",
        "df_air_cia = df_air_cia.select(\"razao_social\", \"icao\", \"iata\", \"cnpj\", \"atividades_aereas\", \"endereco_sede\", \"telefone\", \"e_mail\", \"decisao_operacional\", \"data_decisao_operacional\", \"validade_operacional\")\n",
        "# substitui os valores nulos por uma string vazia\n",
        "df_air_cia = df_air_cia.na.fill(' ')\n",
        "# preview final do data frame antes de exporta-lo\n",
        "df_air_cia.show(truncate=False)"
      ],
      "metadata": {
        "colab": {
          "base_uri": "https://localhost:8080/"
        },
        "id": "lB8QKd8CXfpu",
        "outputId": "8b511f34-2469-4dad-a758-b9db8beead56"
      },
      "execution_count": 48,
      "outputs": [
        {
          "output_type": "stream",
          "name": "stdout",
          "text": [
            "+------------------------------------------------------------------+----+----+------------------+------------------------------------------------------------------------------------------------+--------------------------------------------------------------------------------------------------------------------------------------------------------------------+---------------------------------------------+-----------------------------------+----------------------------+------------------------+--------------------+\n",
            "|razao_social                                                      |icao|iata|cnpj              |atividades_aereas                                                                               |endereco_sede                                                                                                                                                       |telefone                                     |e_mail                             |decisao_operacional         |data_decisao_operacional|validade_operacional|\n",
            "+------------------------------------------------------------------+----+----+------------------+------------------------------------------------------------------------------------------------+--------------------------------------------------------------------------------------------------------------------------------------------------------------------+---------------------------------------------+-----------------------------------+----------------------------+------------------------+--------------------+\n",
            "|ABSA - AEROLINHAS BRASILEIRAS S.A.                                |LTG |M3  |00.074.635/0001-33|TRANSPORTE AÉREO REGULAR                                                                        |AEROPORTO INTERNACIONAL DE VIRACOPOS, RODOVIA SANTOS DUMONT, KM 66, SISTEMA VIÁRIO PRINCIPAL, S/ Nº, 13.052-970, CAMPINAS-SP                                        |(11) 5582-8055                               |gar@tam.com.br                     |DECISÃO Nº 41               |22/04/2015              |23/04/2025          |\n",
            "|AEROSUL TÁXI AÉREO LTDA (EX.: AUSTEN TÁXI AÉREO LTDA)             |ASO |2S  |27.315.694/0001-02|SERVIÇOS AÉREOS PÚBLICOS, TÁXI-AÉREO, TRANSPORTE AÉREO NÃO REGULAR, TRANSPORTE AÉREO REGULAR    |RODOVIA PR 218, KM 7, JARDIM UNIVERSITÁRIO, AEROPORTO MUNICIPAL ALBERTO BERTELLI , 86.702-670, ARAPONGAS-PR                                                         |(43) 3176-4030                               |operacoes@aerosul.com.br           |DECISÃO Nº 282              |10/02/2021              |                    |\n",
            "|ASTA LINHAS AÉREAS LTDA ( EX - AMÉRICA DO SUL LINHAS AÉREAS LTDA.)|SUL |0A  |12.703.737/0001-50|SERVIÇOS AÉREOS PÚBLICOS, TRANSPORTE AÉREO REGULAR                                              |AV GOVERNADOR JOÃO PONCE DE ARRUDA, S/N, HANGAR AMÉRICA DO SUL ANEXO AO AEROP. MAL RONDON. CAIXA POSTAL N° 156, NO BAIRRO CENTRO-NORTE, 78.110-900, VÁRZEA GRANDE-MT|(65) 3614-2684 / (18) 2104-1000              |                                   |DECISÃO Nº 115              |31/07/2019              |02/08/2024          |\n",
            "|ATA - AEROTÁXI ABAETÉ LTDA.                                       |ABJ |    |14.674.451/0001-19|TÁXI-AÉREO, TRANSPORTE AÉREO NÃO REGULAR, TRANSPORTE AÉREO REGULAR                              | PÇA. GAGO COUTINHO, S/N, AEROPORTO INTERNACIONAL DE SALVADOR DEPUTADO LUÍS EDUARDO MAGALHÃES - HANGAR - AEROPORTO, 41.510-045, SALVADOR-BA                         |(71) 34629600 / (71) 996643563               |guilherme@abaete.com.br            |DECISÃO Nº 36               |05/03/2020              |                    |\n",
            "|AZUL CONECTA LTDA. (EX TWO TAXI AEREO LTDA)                       |ACN |2F  |04.263.318/0001-16|TRANSPORTE AÉREO REGULAR                                                                        |AVENIDA EMILIO ANTONON, 901, BAIRRO CHÁCARA AEROPORTO, 13.212-010, JUNDIAÍ-SP                                                                                       |(11) 45822355/ (11) 987433988                |                                   |Decisão nº 14, de 25/01/2018|25/01/2018              |29/01/2028          |\n",
            "|AZUL LINHAS AÉREAS BRASILEIRAS S/A                                |AZU |AD  |09.296.295/0001-60|TRANSPORTE AÉREO REGULAR                                                                        |AV. MARCOS PENTEADO ULHÔA RODRIGUES,N°939, 9° ANDAR TORRE JATOBÁ, COND. CASTELO BRANCO OFFICE PARK - TAMBORÉ, 06.460-040, BARUERI-SP                                | (55) (11) 4134-9887 | Fax: (55)(11)4134-9890|vanessa.reis@voeazul.com.br        |Decisão nº 178              |20/11/2018              |21/11/2028          |\n",
            "|GOL LINHAS AÉREAS S.A. (EX- VRG LINHAS AÉREAS S.A.)               |GLO |G3  |07.575.651/0001-59|TRANSPORTE AÉREO REGULAR                                                                        |PRAÇA SENADOR SALGADO FILHO, S/N°, AEROPORTO SANTOS DUMONT, TÉRREO, ÁREA PÚBLICA, ENTRE OS EIXOS 46-48/0-P, 20.021-340, RIO DE JANEIRO-RJ                           |(11) 5098-2990 / (11) 5098-7872              |rddfonseca@voegol.com.br           |DECISÃO Nº 156              |05/11/2019              |                    |\n",
            "|MAP TRANSPORTES AÉREOS LTDA.                                      |PAM |7M  |10.483.635/0001-40|TRANSPORTE AÉREO REGULAR                                                                        |AVENIDA SANTOS DUMONT, Nº 1350, AEROPORTO INTERNACIONAL DE MANAUS EDUARDO GOMES - SAGUÃO DE EMBARQUE DO TPS I - HANGAR I, BAIRRO TARUMÃ, 69.041-000, MANAUS-AM      |(92) 36521620                                |contabil@voemap.com.br             |DECISÃO Nº 89               |14/08/2012              |17/08/2022          |\n",
            "|MODERN TRANSPORTE AEREO DE CARGA S.A                              |MWM |WD  |03.887.831/0001-15|TRANSPORTE AÉREO REGULAR                                                                        |AVENIDA PREFEITO LUIZ LATORRE, Nº 9450, CONDOMINIO MASTER BUSINESS PARK, GALPÃO 17, SALA 1, VILA DAS HORTÊNCIAS, 13.209-430, JUNDIAÍ-SP                             |(21) 2272-9272 / (11) 31096750               |juridico@modern.com.br             |DECISÃO Nº 79               |31/05/2017              |02/06/2027          |\n",
            "|PASSAREDO TRANSPORTES AÉREOS S.A.                                 |PTB |2Z  |00.512.777/0001-35|TRANSPORTE AÉREO REGULAR                                                                        |SETOR DE HANGARES. ENTRADA PELA AV. THOMAZ ALBERTO WHATELY S/Nº, LOTES 14,16,20 E 22 AEROPORTO LEITE LOPES - JARDIM AEROPORTO, 14.078-550, RIBEIRÃO PRETO-SP        |(16) 3514-7127 / (16) 3514-7126              |juridico@voepass.com.br            |DECISÃO Nº 105              |09/06/2020              |                    |\n",
            "|SIDERAL LINHAS AÉREAS LTDA.                                       |SID |0S  |10.919.908/0001-57|TRANSPORTE AÉREO NÃO REGULAR, TRANSPORTE AÉREO REGULAR                                          |RODOVIA CONTORNO LESTE BR-116, Nº 9.119, 3º ANDAR, SALA 01, BAIRRO COSTEIRA. CAIXA POSTAL Nº 1054, 83.015-162, SÃO JOSÉ DOS PINHAIS-PR                              |(41) 3116-9000 / (41) 3116-9059              |office@siderallinhasaereas.com.br  |DECISÃO Nº 37               |05/03/2020              |06/03/2025          |\n",
            "|TAM LINHAS AÉREAS S.A.                                            |TAM |JJ  |02.012.862/0001-60|TRANSPORTE AÉREO REGULAR                                                                        |RUA ÁTICA , N° 673, 6ª ANDAR, SALA 62, JARDIM BRASIL, 04.634-042, SÃO PAULO-SP                                                                                      |(11) 5582-8055 / (11) 5582-8050              |gar@tam.com.br                     |DECISÃO Nº 366              |07/07/2021              |09/11/2031          |\n",
            "|TOTAL LINHAS AÉREAS S.A.                                          |TTL |L1  |32.068.363/0001-55|SERVIÇOS AÉREOS PÚBLICOS, TRANSPORTE AÉREO REGULAR                                              |AV. SENADOR SALGADO FILHO, 5397 SALA D - BAIRRO UBERABA, 81.580-000, CURITIBA-PR                                                                                    |(41) 3371-8200 / (31) 3343-8600              |geraldo.antonio@total.com.br       |DECISÃO Nº 260              |12/01/2021              |14/01/2031          |\n",
            "|AEROSUL TÁXI AÉREO LTDA (EX.: AUSTEN TÁXI AÉREO LTDA)             |ASO |2S  |27.315.694/0001-02|SERVIÇOS AÉREOS PÚBLICOS, TÁXI-AÉREO, TRANSPORTE AÉREO NÃO REGULAR, TRANSPORTE AÉREO REGULAR    |RODOVIA PR 218, KM 7, JARDIM UNIVERSITÁRIO, AEROPORTO MUNICIPAL ALBERTO BERTELLI , 86.702-670, ARAPONGAS-PR                                                         |(43) 3176-4030                               |operacoes@aerosul.com.br           |DECISÃO Nº 282              |10/02/2021              |                    |\n",
            "|ATA - AEROTÁXI ABAETÉ LTDA.                                       |ABJ |    |14.674.451/0001-19|TÁXI-AÉREO, TRANSPORTE AÉREO NÃO REGULAR, TRANSPORTE AÉREO REGULAR                              | PÇA. GAGO COUTINHO, S/N, AEROPORTO INTERNACIONAL DE SALVADOR DEPUTADO LUÍS EDUARDO MAGALHÃES - HANGAR - AEROPORTO, 41.510-045, SALVADOR-BA                         |(71) 34629600 / (71) 996643563               |guilherme@abaete.com.br            |DECISÃO Nº 36               |05/03/2020              |                    |\n",
            "|OMNI TÁXI AÉREO S.A.                                              |OMI |O1  |03.670.763/0001-38|AEROFOTOGRAFIA, AEROINSPEÇÃO, SERVIÇOS AÉREOS PÚBLICOS, TÁXI-AÉREO, TRANSPORTE AÉREO NÃO REGULAR|AV. AYRTON SENNA, 2541 RUA F1 LOTE 40 - AEROPORTO DE JACAREPAGUÁ - BARRA DA TIJUCA, 22.775-002, RIO DE JANEIRO-RJ                                                   |(61) 98335-3444                              |lira@plfconsultoria.com.br         |DECISÃO Nº 100              |10/07/2019              |12/07/2024          |\n",
            "|PRIME TÁXI AIR LTDA                                               |    |    |23.568.370/0001-25|TÁXI-AÉREO, TRANSPORTE AÉREO NÃO REGULAR, SERVIÇOS AÉREOS PÚBLICOS                              |AL. RIO NEGRO, 585 - BLOCO A - CJ.95 - SALA E, 06.454-000, BARUERI-SP                                                                                               |(11) 41958307 / (11) 41958308                |mmatta@primefractionclub.com.br    |DECISÃO Nº 237              |17/12/2020              |18/12/2025          |\n",
            "|SIDERAL LINHAS AÉREAS LTDA.                                       |SID |0S  |10.919.908/0001-57|TRANSPORTE AÉREO NÃO REGULAR, TRANSPORTE AÉREO REGULAR                                          |RODOVIA CONTORNO LESTE BR-116, Nº 9.119, 3º ANDAR, SALA 01, BAIRRO COSTEIRA. CAIXA POSTAL Nº 1054, 83.015-162, SÃO JOSÉ DOS PINHAIS-PR                              |(41) 3116-9000 / (41) 3116-9059              |office@siderallinhasaereas.com.br  |DECISÃO Nº 37               |05/03/2020              |06/03/2025          |\n",
            "|RIMA - RIO MADEIRA AEROTÁXI LTDA.                                 |RIM |0R  |04.778.630/0001-42|LIGAÇÃO AÉREA SISTEMÁTICA REGULAR, TÁXI-AÉREO                                                   |AV. LAURO SODRÉ, Nº 6490 - AEROPORTO INTERNACIONAL DE PORTO VELHO - LOJA 04, 76.803-260, PORTO VELHO-RO                                                             |(69) 3225-8000                               |                                   |DECISÃO Nº 116              |26/07/2017              |27/07/2022          |\n",
            "|RTS - ROTA DO SOL TÁXI AÉREO LTDA.                                |CKP |    |01.904.715/0001-31|LIGAÇÃO AÉREA SISTEMÁTICA REGULAR, SERVIÇOS AÉREOS PÚBLICOS, TÁXI-AÉREO                         |PRAÇA EDUARDO GOMES, S/Nº, TERMINAL DE AVIAÇÃO GERAL, SALA 013 - BAIRRO VILA UNIÃO, 60.422-721, FORTALEZA-CE                                                        |(85) 3272-3555                               |quadros@voerotadosol.com           |DECISÃO Nº 21               |13/02/2019              |15/02/2024          |\n",
            "+------------------------------------------------------------------+----+----+------------------+------------------------------------------------------------------------------------------------+--------------------------------------------------------------------------------------------------------------------------------------------------------------------+---------------------------------------------+-----------------------------------+----------------------------+------------------------+--------------------+\n",
            "\n"
          ]
        }
      ]
    },
    {
      "cell_type": "code",
      "source": [
        "# como nesse caso o arquivo é pequeno vamos compactar em um, para salva-lo\n",
        "df_air_cia = df_air_cia.coalesce(1)"
      ],
      "metadata": {
        "id": "Vmq3sEU6-F7F"
      },
      "execution_count": 49,
      "outputs": []
    },
    {
      "cell_type": "code",
      "source": [
        "# exportacao do arquivo assegurando 'encoding = UTF-8'\n",
        "df_air_cia.write.option(\"encoding\", \"UTF-8\").parquet(\"/content/AIR_CIA.parquet\", mode=\"overwrite\")"
      ],
      "metadata": {
        "id": "SpK9NKjN7QAu"
      },
      "execution_count": 51,
      "outputs": []
    },
    {
      "cell_type": "code",
      "source": [],
      "metadata": {
        "id": "YS4Uy_WH73uT"
      },
      "execution_count": 50,
      "outputs": []
    },
    {
      "cell_type": "code",
      "source": [],
      "metadata": {
        "id": "1lVKRfhQ-nwh"
      },
      "execution_count": 50,
      "outputs": []
    }
  ]
}