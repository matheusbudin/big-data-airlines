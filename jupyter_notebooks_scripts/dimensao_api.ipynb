{
  "cells": [
    {
      "cell_type": "code",
      "execution_count": 5,
      "metadata": {
        "colab": {
          "base_uri": "https://localhost:8080/"
        },
        "id": "FFxkPmwevwlc",
        "outputId": "a9c4d30c-eaa1-4907-e17c-6cd9048bc073"
      },
      "outputs": [
        {
          "name": "stdout",
          "output_type": "stream",
          "text": [
            "{'id': 3406, 'iata': 'JFK', 'icao': 'KJFK', 'name': 'John F. Kennedy International Airport', 'location': 'New York City, New York, United States', 'street_number': '', 'street': '', 'city': '', 'county': 'Queens County', 'state': 'New York', 'country_iso': 'US', 'country': 'United States', 'postal_code': '11430', 'phone': '+1 718-244-4444', 'latitude': 40.64131, 'longitude': -73.77814, 'uct': -240, 'website': 'https://www.jfkairport.com/'}\n"
          ]
        }
      ],
      "source": [
        "##################### rascunho requests que deu\n",
        "import requests\n",
        "\n",
        "# Replace with your RapidAPI key\n",
        "RAPIDAPI_KEY = api_key\n",
        "icao_code = 'KJFK'  # Replace with the desired ICAO code\n",
        "\n",
        "# Set up the API endpoint and headers\n",
        "url = f'https://airport-info.p.rapidapi.com/airport?icao={icao_code}'\n",
        "headers = {\n",
        "    'X-RapidAPI-Host': 'airport-info.p.rapidapi.com',\n",
        "    'X-RapidAPI-Key': RAPIDAPI_KEY\n",
        "}\n",
        "\n",
        "# Make an HTTP GET request to the API\n",
        "response = requests.get(url, headers=headers)\n",
        "\n",
        "if response.status_code == 200:\n",
        "    data = response.json()\n",
        "    print(data)\n",
        "    # Now you can process the data or create a PySpark DataFrame as needed.\n",
        "else:\n",
        "    print(f\"Failed to retrieve data from the API. Status code: {response.status_code}\")"
      ]
    },
    {
      "cell_type": "code",
      "execution_count": 4,
      "metadata": {
        "colab": {
          "base_uri": "https://localhost:8080/"
        },
        "id": "hlHq4Ah2ASvT",
        "outputId": "2fc9c1c4-c851-423d-ed84-bdeb3be1d3f6"
      },
      "outputs": [
        {
          "name": "stdout",
          "output_type": "stream",
          "text": [
            "{\"id\":3406,\"iata\":\"JFK\",\"icao\":\"KJFK\",\"name\":\"John F. Kennedy International Airport\",\"location\":\"New York City, New York, United States\",\"street_number\":\"\",\"street\":\"\",\"city\":\"\",\"county\":\"Queens County\",\"state\":\"New York\",\"country_iso\":\"US\",\"country\":\"United States\",\"postal_code\":\"11430\",\"phone\":\"+1 718-244-4444\",\"latitude\":40.64131,\"longitude\":-73.77814,\"uct\":-240,\"website\":\"https://www.jfkairport.com/\"}\n",
            "\n"
          ]
        }
      ],
      "source": [
        "import http.client\n",
        "conn = http.client.HTTPSConnection(\"airport-info.p.rapidapi.com\")\n",
        "headers = {\n",
        "    'x-rapidapi-key': api_key,\n",
        "    'x-rapidapi-host': \"airport-info.p.rapidapi.com\"\n",
        "    }\n",
        "conn.request(\"GET\", \"/airport?icao=KJFK\", headers=headers)\n",
        "res = conn.getresponse()\n",
        "data = res.read()\n",
        "print(data.decode(\"utf-8\"))"
      ]
    },
    {
      "cell_type": "code",
      "execution_count": null,
      "metadata": {
        "id": "VtFvz7o2Av4b"
      },
      "outputs": [],
      "source": []
    },
    {
      "cell_type": "markdown",
      "metadata": {
        "id": "U4R6xSCCB-yp"
      },
      "source": [
        "tentativa com tabela dimensao"
      ]
    },
    {
      "cell_type": "code",
      "execution_count": 6,
      "metadata": {
        "colab": {
          "base_uri": "https://localhost:8080/"
        },
        "id": "v2MORYSeCEY6",
        "outputId": "b50a019a-2099-476b-b19b-75e0c8477b7a"
      },
      "outputs": [
        {
          "name": "stdout",
          "output_type": "stream",
          "text": [
            "Collecting pyspark\n",
            "  Downloading pyspark-3.5.0.tar.gz (316.9 MB)\n",
            "\u001b[2K     \u001b[90m━━━━━━━━━━━━━━━━━━━━━━━━━━━━━━━━━━━━━━━━\u001b[0m \u001b[32m316.9/316.9 MB\u001b[0m \u001b[31m4.5 MB/s\u001b[0m eta \u001b[36m0:00:00\u001b[0m\n",
            "\u001b[?25h  Preparing metadata (setup.py) ... \u001b[?25l\u001b[?25hdone\n",
            "Requirement already satisfied: py4j==0.10.9.7 in /usr/local/lib/python3.10/dist-packages (from pyspark) (0.10.9.7)\n",
            "Building wheels for collected packages: pyspark\n",
            "  Building wheel for pyspark (setup.py) ... \u001b[?25l\u001b[?25hdone\n",
            "  Created wheel for pyspark: filename=pyspark-3.5.0-py2.py3-none-any.whl size=317425344 sha256=32f0d78bf12a8d87e9c3c5b89492a1d9517b88882b5300cb05a0af2c54e09858\n",
            "  Stored in directory: /root/.cache/pip/wheels/41/4e/10/c2cf2467f71c678cfc8a6b9ac9241e5e44a01940da8fbb17fc\n",
            "Successfully built pyspark\n",
            "Installing collected packages: pyspark\n",
            "Successfully installed pyspark-3.5.0\n"
          ]
        }
      ],
      "source": [
        "!pip install pyspark"
      ]
    },
    {
      "cell_type": "code",
      "execution_count": null,
      "metadata": {},
      "outputs": [],
      "source": [
        "!pip install python-dotenv\n"
      ]
    },
    {
      "cell_type": "code",
      "execution_count": null,
      "metadata": {},
      "outputs": [],
      "source": []
    },
    {
      "cell_type": "code",
      "execution_count": 34,
      "metadata": {
        "colab": {
          "base_uri": "https://localhost:8080/"
        },
        "id": "GQNk8qb8CBk9",
        "outputId": "dc801dd6-0f47-473b-fd71-f3927a2e535d"
      },
      "outputs": [
        {
          "name": "stdout",
          "output_type": "stream",
          "text": [
            "+-------------------+-------------------+------------------+--------------------+-----------------+----------------------+---------------------+------------------+----------+-------------------+-------------------+------------+\n",
            "|   chegada_prevista|       chegada_real|codigo_autorizacao|codigo_justificativa|codigo_tipo_linha|icao_aerodromo_destino|icao_aerodromo_origem|icao_empresa_aerea|numero_voo|   partida_prevista|       partida_real|situacao_voo|\n",
            "+-------------------+-------------------+------------------+--------------------+-----------------+----------------------+---------------------+------------------+----------+-------------------+-------------------+------------+\n",
            "|2021-11-12 08:30:00|2021-11-12 08:30:00|                 0|                 N/A|                X|                  KORD|                 SBGR|               UAL|       844|2021-11-11 22:00:00|2021-11-11 22:14:00|   REALIZADO|\n",
            "|2021-11-15 08:30:00|2021-11-15 08:30:00|                 0|                 N/A|                X|                  KORD|                 SBGR|               UAL|       844|2021-11-14 22:00:00|2021-11-14 21:59:00|   REALIZADO|\n",
            "|2021-11-22 08:30:00|2021-11-22 08:30:00|                 0|                 N/A|                X|                  KORD|                 SBGR|               UAL|       844|2021-11-21 22:00:00|2021-11-21 22:00:00|   REALIZADO|\n",
            "|2021-11-19 08:30:00|2021-11-19 08:30:00|                 0|                 N/A|                X|                  KORD|                 SBGR|               UAL|       844|2021-11-18 22:00:00|2021-11-18 22:01:00|   REALIZADO|\n",
            "|2021-11-21 08:30:00|2021-11-21 08:30:00|                 0|                 N/A|                X|                  KORD|                 SBGR|               UAL|       844|2021-11-20 22:00:00|2021-11-20 22:02:00|   REALIZADO|\n",
            "+-------------------+-------------------+------------------+--------------------+-----------------+----------------------+---------------------+------------------+----------+-------------------+-------------------+------------+\n",
            "only showing top 5 rows\n",
            "\n",
            "\n",
            "+---------------------+\n",
            "|icao_aerodromo_origem|\n",
            "+---------------------+\n",
            "|                 LFPG|\n",
            "|                 SBPS|\n",
            "|                 KATL|\n",
            "|                 SBIH|\n",
            "|                 EDDK|\n",
            "|                 SSSC|\n",
            "|                 SBSJ|\n",
            "|                 OTHH|\n",
            "|                 SBCH|\n",
            "|                 SCCF|\n",
            "|                 FYWH|\n",
            "|                 SBCR|\n",
            "|                 UCFM|\n",
            "|                 SNEE|\n",
            "|                 SDWQ|\n",
            "|                 PANC|\n",
            "|                 ZHHH|\n",
            "|                 SBUG|\n",
            "|                 SWPH|\n",
            "|                 OMAA|\n",
            "+---------------------+\n",
            "only showing top 20 rows\n",
            "\n"
          ]
        }
      ],
      "source": [
        "import os\n",
        "import sys\n",
        "import re\n",
        "import json\n",
        "from dotenv import load_dotenv\n",
        "import requests\n",
        "from pyspark.sql import SparkSession\n",
        "from pyspark.sql.types import *\n",
        "from pyspark.sql.functions import *\n",
        "\n",
        "\n",
        "# Access the API key\n",
        "api_key = os.getenv(\"API_KEY\")\n",
        "\n",
        "# Initialize SparkSession\n",
        "spark = SparkSession.builder.appName(\"API Data Extraction\").getOrCreate()\n",
        "\n",
        "# Step 1: Read data from the Parquet file\n",
        "df_vra = spark.read.parquet(\"/content/VRA\")\n",
        "df_vra.show(5)\n",
        "\n",
        "# Step 2: Read data from the DataFrame\n",
        "\n",
        "unique_codes = (\n",
        "    df_vra.select(\"icao_aerodromo_origem\")\n",
        "    .union(df_vra.select(\"icao_aerodromo_destino\"))\n",
        "    .distinct()\n",
        ")\n",
        "# unique_codes = unique_codes.withColumnRenamed(\"icao_aerodromo_origem\", \"icao\")\n",
        "# unique_codes.show(5)\n",
        "\n",
        "df_vra_origem = df_vra.select(\"icao_aerodromo_origem\").distinct()\n",
        "print()\n",
        "df_vra_destino = df_vra.select(\"icao_aerodromo_destino\").distinct()\n",
        "\n",
        "\n",
        "unique_codes = unique_codes.withColumnRenamed(\"icao_aerodromo_origem\", \"icao\")\n",
        "unique_codes = df_vra_origem.union(df_vra_destino)\n",
        "unique_codes.show()"
      ]
    },
    {
      "cell_type": "code",
      "execution_count": 35,
      "metadata": {
        "id": "eiekdMqMFveB"
      },
      "outputs": [],
      "source": [
        "# Define the schema for the DataFrame\n",
        "schema = StructType([\n",
        "    StructField(\"icao_code\", StringType(), True),\n",
        "    StructField(\"api_response\", StringType(), True)\n",
        "])"
      ]
    },
    {
      "cell_type": "code",
      "execution_count": 43,
      "metadata": {
        "id": "A-DUqD3wEywm"
      },
      "outputs": [],
      "source": [
        "# Function to fetch data from the API\n",
        "def fetch_data(code, use_iata=False, use_icao=False):\n",
        "    api_url = f'https://airport-info.p.rapidapi.com/airport?icao={icao_code}'\n",
        "    headers = {\n",
        "        \"X-RapidAPI-Host\": \"active-api.p.rapidapi.com\",\n",
        "        \"X-RapidAPI-Key\": api_key,  # Replace with your RapidAPI key\n",
        "    }\n",
        "    params = {}\n",
        "\n",
        "    # if use_iata:\n",
        "    #     params[\"iata\"] = code\n",
        "\n",
        "    if use_icao:\n",
        "        params[\"icao\"] = code\n",
        "\n",
        "    response = requests.get(api_url, headers=headers, params=params)\n",
        "\n",
        "    if response.status_code == 200:\n",
        "        return response.json()\n",
        "    else:\n",
        "        return None"
      ]
    },
    {
      "cell_type": "code",
      "execution_count": 37,
      "metadata": {
        "id": "T28h2ndrFLvK"
      },
      "outputs": [],
      "source": [
        "# Step 2: Send requests to the API for each unique code and create a new DataFrame\n",
        "#api_responses = unique_codes.rdd.map(lambda row: (row[0], fetch_data(row[0], use_iata=True, use_icao=True))).toDF(schema)\n",
        "api_responses = unique_codes.rdd.map(lambda row: (row[0], fetch_data(row[0], use_icao=True))).toDF(schema)"
      ]
    },
    {
      "cell_type": "code",
      "execution_count": 38,
      "metadata": {
        "colab": {
          "base_uri": "https://localhost:8080/"
        },
        "id": "Jmo9i8BSGskY",
        "outputId": "e9864df8-db09-42ed-c8e6-5f8d7bfff609"
      },
      "outputs": [
        {
          "name": "stdout",
          "output_type": "stream",
          "text": [
            "+---------+------------+\n",
            "|icao_code|api_response|\n",
            "+---------+------------+\n",
            "|     LFPG|        NULL|\n",
            "|     SBPS|        NULL|\n",
            "|     KATL|        NULL|\n",
            "|     SBIH|        NULL|\n",
            "|     EDDK|        NULL|\n",
            "|     SSSC|        NULL|\n",
            "|     SBSJ|        NULL|\n",
            "|     OTHH|        NULL|\n",
            "|     SBCH|        NULL|\n",
            "|     SCCF|        NULL|\n",
            "|     FYWH|        NULL|\n",
            "|     SBCR|        NULL|\n",
            "|     UCFM|        NULL|\n",
            "|     SNEE|        NULL|\n",
            "|     SDWQ|        NULL|\n",
            "|     PANC|        NULL|\n",
            "|     ZHHH|        NULL|\n",
            "|     SBUG|        NULL|\n",
            "|     SWPH|        NULL|\n",
            "|     OMAA|        NULL|\n",
            "+---------+------------+\n",
            "only showing top 20 rows\n",
            "\n"
          ]
        }
      ],
      "source": [
        "api_responses.show()"
      ]
    },
    {
      "cell_type": "code",
      "execution_count": 26,
      "metadata": {
        "id": "8jBG9nInCX_P"
      },
      "outputs": [],
      "source": [
        "\n",
        "# Step 3: Create a DataFrame from the successful API responses\n",
        "api_dataframe = api_responses.filter(api_responses[\"api_response\"].isNotNull())"
      ]
    },
    {
      "cell_type": "code",
      "execution_count": 27,
      "metadata": {
        "colab": {
          "base_uri": "https://localhost:8080/"
        },
        "id": "xwdT1XFFF9pV",
        "outputId": "b860de41-bba4-46f1-bb1a-5a5dfc85beca"
      },
      "outputs": [
        {
          "name": "stdout",
          "output_type": "stream",
          "text": [
            "+---------+------------+\n",
            "|icao_code|api_response|\n",
            "+---------+------------+\n",
            "+---------+------------+\n",
            "\n"
          ]
        }
      ],
      "source": [
        "api_dataframe.show(truncate=False)"
      ]
    },
    {
      "cell_type": "markdown",
      "metadata": {
        "id": "rQ3ACoJFHBf8"
      },
      "source": [
        "#Teste 2"
      ]
    },
    {
      "cell_type": "code",
      "execution_count": 4,
      "metadata": {
        "id": "LC9an9N5HDgt"
      },
      "outputs": [],
      "source": [
        "spark.stop()"
      ]
    },
    {
      "cell_type": "code",
      "execution_count": 42,
      "metadata": {
        "id": "ALJA79wgHa8t"
      },
      "outputs": [],
      "source": [
        "import http.client\n",
        "conn = http.client.HTTPSConnection(\"airport-info.p.rapidapi.com\")\n",
        "headers = {\n",
        "    'x-rapidapi-key': api_key,\n",
        "    'x-rapidapi-host': \"airport-info.p.rapidapi.com\"\n",
        "    }\n",
        "conn.request(\"GET\", \"/airport?icao={icao_code}\", headers=headers)\n",
        "res = conn.getresponse()\n",
        "data = res.read()\n",
        "print(data.decode(\"utf-8\"))"
      ]
    },
    {
      "cell_type": "code",
      "execution_count": 45,
      "metadata": {
        "colab": {
          "base_uri": "https://localhost:8080/"
        },
        "id": "HPoBPAgFLlvX",
        "outputId": "629bfb84-8caa-4912-d4d3-de12f86f8e80"
      },
      "outputs": [
        {
          "name": "stdout",
          "output_type": "stream",
          "text": [
            "{\"id\":3406,\"iata\":\"JFK\",\"icao\":\"KJFK\",\"name\":\"John F. Kennedy International Airport\",\"location\":\"New York City, New York, United States\",\"street_number\":\"\",\"street\":\"\",\"city\":\"\",\"county\":\"Queens County\",\"state\":\"New York\",\"country_iso\":\"US\",\"country\":\"United States\",\"postal_code\":\"11430\",\"phone\":\"+1 718-244-4444\",\"latitude\":40.64131,\"longitude\":-73.77814,\"uct\":-240,\"website\":\"https://www.jfkairport.com/\"}\n",
            "\n"
          ]
        }
      ],
      "source": [
        "import http.client\n",
        "\n",
        "# Define a function to fetch data from the API\n",
        "def fetch_data(icao_code):\n",
        "    # Define the connection to the API\n",
        "    conn = http.client.HTTPSConnection(\"airport-info.p.rapidapi.com\")\n",
        "\n",
        "    # Define headers\n",
        "    headers = {\n",
        "        'x-rapidapi-key': api_key,\n",
        "        'x-rapidapi-host': \"airport-info.p.rapidapi.com\"\n",
        "    }\n",
        "\n",
        "    # Build the API request URL with the icao_code\n",
        "    url = f\"/airport?icao={icao_code}\"\n",
        "\n",
        "    # Send a GET request to the API\n",
        "    conn.request(\"GET\", url, headers=headers)\n",
        "\n",
        "    # Get the response\n",
        "    res = conn.getresponse()\n",
        "\n",
        "    if res.status == 200:\n",
        "        # Read and decode the response data\n",
        "        data = res.read().decode(\"utf-8\")\n",
        "        return data\n",
        "    else:\n",
        "        return None\n",
        "\n",
        "# Example usage\n",
        "icao_code = \"KJFK\"  # Replace with the desired icao_code\n",
        "api_response = fetch_data(icao_code)\n",
        "\n",
        "if api_response is not None:\n",
        "    print(api_response)\n",
        "else:\n",
        "    print(\"API request failed.\")\n"
      ]
    },
    {
      "cell_type": "code",
      "execution_count": 15,
      "metadata": {
        "colab": {
          "base_uri": "https://localhost:8080/"
        },
        "id": "KYBEm9YCL2m1",
        "outputId": "eaca3bab-932f-4d0f-9e4e-07cf4ebd1f3d"
      },
      "outputs": [
        {
          "name": "stdout",
          "output_type": "stream",
          "text": [
            "+-------------------+-------------------+------------------+--------------------+-----------------+----------------------+---------------------+------------------+----------+-------------------+-------------------+------------+\n",
            "|   chegada_prevista|       chegada_real|codigo_autorizacao|codigo_justificativa|codigo_tipo_linha|icao_aerodromo_destino|icao_aerodromo_origem|icao_empresa_aerea|numero_voo|   partida_prevista|       partida_real|situacao_voo|\n",
            "+-------------------+-------------------+------------------+--------------------+-----------------+----------------------+---------------------+------------------+----------+-------------------+-------------------+------------+\n",
            "|2021-11-12 08:30:00|2021-11-12 08:30:00|                 0|                 N/A|                X|                  KORD|                 SBGR|               UAL|       844|2021-11-11 22:00:00|2021-11-11 22:14:00|   REALIZADO|\n",
            "|2021-11-15 08:30:00|2021-11-15 08:30:00|                 0|                 N/A|                X|                  KORD|                 SBGR|               UAL|       844|2021-11-14 22:00:00|2021-11-14 21:59:00|   REALIZADO|\n",
            "|2021-11-22 08:30:00|2021-11-22 08:30:00|                 0|                 N/A|                X|                  KORD|                 SBGR|               UAL|       844|2021-11-21 22:00:00|2021-11-21 22:00:00|   REALIZADO|\n",
            "|2021-11-19 08:30:00|2021-11-19 08:30:00|                 0|                 N/A|                X|                  KORD|                 SBGR|               UAL|       844|2021-11-18 22:00:00|2021-11-18 22:01:00|   REALIZADO|\n",
            "|2021-11-21 08:30:00|2021-11-21 08:30:00|                 0|                 N/A|                X|                  KORD|                 SBGR|               UAL|       844|2021-11-20 22:00:00|2021-11-20 22:02:00|   REALIZADO|\n",
            "+-------------------+-------------------+------------------+--------------------+-----------------+----------------------+---------------------+------------------+----------+-------------------+-------------------+------------+\n",
            "only showing top 5 rows\n",
            "\n",
            "+----+----+----+----+--------+-------------+------+----+------+-----+-----------+-------+-----------+-----+--------+---------+----+---------------------------------------------------------------------------------------------------------------------------------------------------------------------------------------------------------------------------------------------------------------------------------------------------------------------------------------------------------------------------------------------------------------------------------------------------------------------------------------------------------------------------------+----------------+\n",
            "|id  |iata|icao|name|location|street_number|street|city|county|state|country_iso|country|postal_code|phone|latitude|longitude|uct |website                                                                                                                                                                                                                                                                                                                                                                                                                                                                                                                          |icao_code_source|\n",
            "+----+----+----+----+--------+-------------+------+----+------+-----+-----------+-------+-----------+-----+--------+---------+----+---------------------------------------------------------------------------------------------------------------------------------------------------------------------------------------------------------------------------------------------------------------------------------------------------------------------------------------------------------------------------------------------------------------------------------------------------------------------------------------------------------------------------------+----------------+\n",
            "|NULL|NULL|LFPG|NULL|NULL    |NULL         |NULL  |NULL|NULL  |NULL |NULL       |NULL   |NULL       |NULL |NULL    |NULL     |NULL|{\"id\":1213,\"iata\":\"CDG\",\"icao\":\"LFPG\",\"name\":\"Charles de Gaulle Airport (Roissy Airport)\",\"location\":\"Paris, Île-de-France, France\",\"street_number\":\"\",\"street\":\"\",\"city\":\"Roissy-en-France\",\"county\":\"\",\"state\":\"Île-de-France\",\"country_iso\":\"FR\",\"country\":\"France\",\"postal_code\":\"95700\",\"phone\":\"+33 1 70 36 39 50\",\"latitude\":49.00969,\"longitude\":2.5479245,\"uct\":120,\"website\":\"http://www.parisaeroport.fr/\"}\\n                                                                                                         |icao_code       |\n",
            "|NULL|NULL|SBPS|NULL|NULL    |NULL         |NULL  |NULL|NULL  |NULL |NULL       |NULL   |NULL       |NULL |NULL    |NULL     |NULL|{\"id\":908,\"iata\":\"BPS\",\"icao\":\"SBPS\",\"name\":\"Porto Seguro Airport\",\"location\":\"Porto Seguro, Bahia, Brazil\",\"street_number\":\"68\",\"street\":\"Rua Primeiro de Maio\",\"city\":\"\",\"county\":\"Porto Seguro\",\"state\":\"Bahia\",\"country_iso\":\"BR\",\"country\":\"Brazil\",\"postal_code\":\"45810-000\",\"phone\":\"+55 73 3288-1880\",\"latitude\":-16.439308,\"longitude\":-39.081562,\"uct\":-180,\"website\":\"http://www.aeroportoseguro.com.br/\"}\\n                                                                                                          |icao_code       |\n",
            "|NULL|NULL|KATL|NULL|NULL    |NULL         |NULL  |NULL|NULL  |NULL |NULL       |NULL   |NULL       |NULL |NULL    |NULL     |NULL|{\"id\":410,\"iata\":\"ATL\",\"icao\":\"KATL\",\"name\":\"Hartsfield–Jackson Atlanta International Airport\",\"location\":\"Atlanta, Georgia, United States\",\"street_number\":\"6000\",\"street\":\"North Terminal Parkway\",\"city\":\"Atlanta\",\"county\":\"\",\"state\":\"Georgia\",\"country_iso\":\"US\",\"country\":\"United States\",\"postal_code\":\"30320\",\"phone\":\"+1 800-897-1910\",\"latitude\":33.640728,\"longitude\":-84.427704,\"uct\":-240,\"website\":\"http://www.atl.com/\"}\\n                                                                                       |icao_code       |\n",
            "|NULL|NULL|SBIH|NULL|NULL    |NULL         |NULL  |NULL|NULL  |NULL |NULL       |NULL   |NULL       |NULL |NULL    |NULL     |NULL|{\"id\":3301,\"iata\":\"ITB\",\"icao\":\"SBIH\",\"name\":\"Itaituba Airport\",\"location\":\"Itaituba, Pará, Brazil\",\"street_number\":\"\",\"street\":\"\",\"city\":\"\",\"county\":\"Itaituba\",\"state\":\"State of Pará\",\"country_iso\":\"BR\",\"country\":\"Brazil\",\"postal_code\":\"\",\"phone\":\"\",\"latitude\":-4.245743,\"longitude\":-56.006847,\"uct\":-180,\"website\":\"\"}\\n                                                                                                                                                                                                |icao_code       |\n",
            "|NULL|NULL|EDDK|NULL|NULL    |NULL         |NULL  |NULL|NULL  |NULL |NULL       |NULL   |NULL       |NULL |NULL    |NULL     |NULL|{\"id\":1284,\"iata\":\"CGN\",\"icao\":\"EDDK\",\"name\":\"Cologne Bonn Airport\",\"location\":\"Cologne / Bonn, North Rhine-Westphalia, Germany\",\"street_number\":\"\",\"street\":\"Kennedystraße\",\"city\":\"Köln\",\"county\":\"Köln\",\"state\":\"Nordrhein-Westfalen\",\"country_iso\":\"DE\",\"country\":\"Germany\",\"postal_code\":\"51147\",\"phone\":\"+49 2203 404001\",\"latitude\":50.870716,\"longitude\":7.140734,\"uct\":120,\"website\":\"https://www.koeln-bonn-airport.de/\"}\\n                                                                                            |icao_code       |\n",
            "|NULL|NULL|SSSC|NULL|NULL    |NULL         |NULL  |NULL|NULL  |NULL |NULL       |NULL   |NULL       |NULL |NULL    |NULL     |NULL|{\"error\":{\"text\":\"No airport found\"}}\\n                                                                                                                                                                                                                                                                                                                                                                                                                                                                                          |icao_code       |\n",
            "|NULL|NULL|SBSJ|NULL|NULL    |NULL         |NULL  |NULL|NULL  |NULL |NULL       |NULL   |NULL       |NULL |NULL    |NULL     |NULL|{\"id\":6811,\"iata\":\"SJK\",\"icao\":\"SBSJ\",\"name\":\"Professor Urbano Ernesto Stumpf Airport\",\"location\":\"São José dos Campos, São Paulo, Brazil\",\"street_number\":\"1941\",\"street\":\"Avenida Brigadeiro Faria Lima\",\"city\":\"\",\"county\":\"São José dos Campos\",\"state\":\"São Paulo\",\"country_iso\":\"BR\",\"country\":\"Brazil\",\"postal_code\":\"12227-000\",\"phone\":\"+55 12 3946-3000\",\"latitude\":-23.225304,\"longitude\":-45.861576,\"uct\":-180,\"website\":\"http://www.infraero.gov.br/\"}\\n                                                            |icao_code       |\n",
            "|NULL|NULL|OTHH|NULL|NULL    |NULL         |NULL  |NULL|NULL  |NULL |NULL       |NULL   |NULL       |NULL |NULL    |NULL     |NULL|{\"id\":1857,\"iata\":\"DOH\",\"icao\":\"OTHH\",\"name\":\"Hamad International Airport\",\"location\":\"Doha, Qatar\",\"street_number\":\"\",\"street\":\"\",\"city\":\"Doha\",\"county\":\"\",\"state\":\"Doha\",\"country_iso\":\"QA\",\"country\":\"Qatar\",\"postal_code\":\"\",\"phone\":\"+974 4010 6666\",\"latitude\":25.260595,\"longitude\":51.613766,\"uct\":180,\"website\":\"http://www.dohahamadairport.com/\"}\\n                                                                                                                                                                  |icao_code       |\n",
            "|NULL|NULL|SBCH|NULL|NULL    |NULL         |NULL  |NULL|NULL  |NULL |NULL       |NULL   |NULL       |NULL |NULL    |NULL     |NULL|{\"id\":8322,\"iata\":\"XAP\",\"icao\":\"SBCH\",\"name\":\"Serafin Enoss Bertaso Airport\",\"location\":\"Chapecó, Santa Catarina, Brazil\",\"street_number\":\"4535D\",\"street\":\"Acesso Florenal Ribeiro\",\"city\":\"\",\"county\":\"Chapecó\",\"state\":\"Santa Catarina\",\"country_iso\":\"BR\",\"country\":\"Brazil\",\"postal_code\":\"89815-900\",\"phone\":\"+55 49 3322-1034\",\"latitude\":-27.134077,\"longitude\":-52.66066,\"uct\":-180,\"website\":\"http://www.chapeco.sc.gov.br/\"}\\n                                                                                        |icao_code       |\n",
            "|NULL|NULL|SCCF|NULL|NULL    |NULL         |NULL  |NULL|NULL  |NULL |NULL       |NULL   |NULL       |NULL |NULL    |NULL     |NULL|{\"id\":1343,\"iata\":\"CJC\",\"icao\":\"SCCF\",\"name\":\"El Loa Airport\",\"location\":\"Calama, Chile\",\"street_number\":\"\",\"street\":\"\",\"city\":\"Calama\",\"county\":\"El Loa\",\"state\":\"Región de Antofagasta\",\"country_iso\":\"CL\",\"country\":\"Chile\",\"postal_code\":\"\",\"phone\":\"\",\"latitude\":-22.49511,\"longitude\":-68.907906,\"uct\":-180,\"website\":\"http://www.avis.cl/sucursal/calama\"}\\n                                                                                                                                                              |icao_code       |\n",
            "|NULL|NULL|FYWH|NULL|NULL    |NULL         |NULL  |NULL|NULL  |NULL |NULL       |NULL   |NULL       |NULL |NULL    |NULL     |NULL|{\"id\":8132,\"iata\":\"WDH\",\"icao\":\"FYWH\",\"name\":\"Hosea Kutako International Airport\",\"location\":\"Windhoek, Namibia\",\"street_number\":\"\",\"street\":\"\",\"city\":\"\",\"county\":\"\",\"state\":\"Khomas Region\",\"country_iso\":\"NA\",\"country\":\"Namibia\",\"postal_code\":\"\",\"phone\":\"+264 61 295 5600\",\"latitude\":-22.484776,\"longitude\":17.470316,\"uct\":120,\"website\":\"http://www.airports.com.na/airports/hosea-kutako-international-airport/12/\"}\\n                                                                                                 |icao_code       |\n",
            "|NULL|NULL|SBCR|NULL|NULL    |NULL         |NULL  |NULL|NULL  |NULL |NULL       |NULL   |NULL       |NULL |NULL    |NULL     |NULL|{\"id\":1404,\"iata\":\"CMG\",\"icao\":\"SBCR\",\"name\":\"Corumbá International Airport\",\"location\":\"Corumbá, Mato Grosso do Sul, Brazil\",\"street_number\":\"S/n\",\"street\":\"Rua Santos Dumont\",\"city\":\"\",\"county\":\"Corumbá\",\"state\":\"Mato Grosso do Sul\",\"country_iso\":\"BR\",\"country\":\"Brazil\",\"postal_code\":\"79332-150\",\"phone\":\"+55 67 3231-3322\",\"latitude\":-19.013786,\"longitude\":-57.66343,\"uct\":-240,\"website\":\"http://www4.infraero.gov.br/aeroportos/aeroporto-internacional-de-corumba/\"}\\n                                           |icao_code       |\n",
            "|NULL|NULL|UCFM|NULL|NULL    |NULL         |NULL  |NULL|NULL  |NULL |NULL       |NULL   |NULL       |NULL |NULL    |NULL     |NULL|{\"error\":{\"text\":\"No airport found\"}}\\n                                                                                                                                                                                                                                                                                                                                                                                                                                                                                          |icao_code       |\n",
            "|NULL|NULL|SNEE|NULL|NULL    |NULL         |NULL  |NULL|NULL  |NULL |NULL       |NULL   |NULL       |NULL |NULL    |NULL     |NULL|{\"error\":{\"text\":\"No airport found\"}}\\n                                                                                                                                                                                                                                                                                                                                                                                                                                                                                          |icao_code       |\n",
            "|NULL|NULL|SDWQ|NULL|NULL    |NULL         |NULL  |NULL|NULL  |NULL |NULL       |NULL   |NULL       |NULL |NULL    |NULL     |NULL|{\"id\":8981,\"iata\":\"ALT\",\"icao\":\"SDWQ\",\"name\":\"Alenquer Airport\",\"location\":\"Alenquer, Pará, Brazil\",\"street_number\":\"\",\"street\":\"Alameda das Comunidades Portuguesas\",\"city\":\"Alenquer\",\"county\":\"\",\"state\":\"Pará\",\"country_iso\":\"BR\",\"country\":\"Brazil\",\"postal_code\":\"\",\"phone\":\"\",\"latitude\":-1.93889,\"longitude\":-54.7472,\"uct\":-240,\"website\":\"\"}\\n                                                                                                                                                                         |icao_code       |\n",
            "|NULL|NULL|PANC|NULL|NULL    |NULL         |NULL  |NULL|NULL  |NULL |NULL       |NULL   |NULL       |NULL |NULL    |NULL     |NULL|{\"id\":277,\"iata\":\"ANC\",\"icao\":\"PANC\",\"name\":\"Ted Stevens Anchorage International Airport\",\"location\":\"Anchorage, Alaska, United States\",\"street_number\":\"5000\",\"street\":\"West International Airport Road\",\"city\":\"Anchorage\",\"county\":\"Anchorage\",\"state\":\"Alaska\",\"country_iso\":\"US\",\"country\":\"United States\",\"postal_code\":\"99502\",\"phone\":\"+1 907-266-2526\",\"latitude\":61.175888,\"longitude\":-149.99008,\"uct\":-480,\"website\":\"http://dot.state.ak.us/anc/\"}\\n                                                                |icao_code       |\n",
            "|NULL|NULL|ZHHH|NULL|NULL    |NULL         |NULL  |NULL|NULL  |NULL |NULL       |NULL   |NULL       |NULL |NULL    |NULL     |NULL|{\"id\":8291,\"iata\":\"WUH\",\"icao\":\"ZHHH\",\"name\":\"Wuhan Tianhe International Airport\",\"location\":\"Wuhan, Hubei, China\",\"street_number\":\"\",\"street\":\"\",\"city\":\"Wuhan\",\"county\":\"\",\"state\":\"Hubei\",\"country_iso\":\"CN\",\"country\":\"China\",\"postal_code\":\"\",\"phone\":\"+86 27 96577\",\"latitude\":30.776617,\"longitude\":114.21245,\"uct\":480,\"website\":\"\"}\\n                                                                                                                                                                                   |icao_code       |\n",
            "|NULL|NULL|SBUG|NULL|NULL    |NULL         |NULL  |NULL|NULL  |NULL |NULL       |NULL   |NULL       |NULL |NULL    |NULL     |NULL|{\"id\":7845,\"iata\":\"URG\",\"icao\":\"SBUG\",\"name\":\"Rubem Berta International Airport\",\"location\":\"Uruguaiana, Rio Grande do Sul, Brazil\",\"street_number\":\"s/n\",\"street\":\"Acesso Marechal Setembrino de Carvalho\",\"city\":\"\",\"county\":\"Uruguaiana\",\"state\":\"Rio Grande do Sul\",\"country_iso\":\"BR\",\"country\":\"Brazil\",\"postal_code\":\"97513-780\",\"phone\":\"+55 55 3413-1314\",\"latitude\":-29.783995,\"longitude\":-57.0357,\"uct\":-180,\"website\":\"http://www4.infraero.gov.br/aeroportos/aeroporto-internacional-de-uruguaiana-rubem-berta/\"}\\n|icao_code       |\n",
            "|NULL|NULL|SWPH|NULL|NULL    |NULL         |NULL  |NULL|NULL  |NULL |NULL       |NULL   |NULL       |NULL |NULL    |NULL     |NULL|{\"error\":{\"text\":\"No airport found\"}}\\n                                                                                                                                                                                                                                                                                                                                                                                                                                                                                          |icao_code       |\n",
            "|NULL|NULL|OMAA|NULL|NULL    |NULL         |NULL  |NULL|NULL  |NULL |NULL       |NULL   |NULL       |NULL |NULL    |NULL     |NULL|{\"id\":431,\"iata\":\"AUH\",\"icao\":\"OMAA\",\"name\":\"Abu Dhabi International Airport\",\"location\":\"Abu Dhabi, United Arab Emirates\",\"street_number\":\"\",\"street\":\"\",\"city\":\"Abu Dhabi\",\"county\":\"\",\"state\":\"Abu Dhabi\",\"country_iso\":\"AE\",\"country\":\"United Arab Emirates\",\"postal_code\":\"\",\"phone\":\"+971 2 505 5555\",\"latitude\":24.441938,\"longitude\":54.650074,\"uct\":240,\"website\":\"http://www.abudhabiairport.ae/\"}\\n                                                                                                                   |icao_code       |\n",
            "+----+----+----+----+--------+-------------+------+----+------+-----+-----------+-------+-----------+-----+--------+---------+----+---------------------------------------------------------------------------------------------------------------------------------------------------------------------------------------------------------------------------------------------------------------------------------------------------------------------------------------------------------------------------------------------------------------------------------------------------------------------------------------------------------------------------------+----------------+\n",
            "only showing top 20 rows\n",
            "\n"
          ]
        }
      ],
      "source": [
        "import http.client\n",
        "\n",
        "from pyspark.sql import SparkSession\n",
        "from pyspark.sql.functions import *\n",
        "from pyspark.sql.types import *\n",
        "\n",
        "\n",
        "# Define a function to fetch data from the API\n",
        "def fetch_data(icao_code):\n",
        "    # Define the connection to the API\n",
        "    conn = http.client.HTTPSConnection(\"airport-info.p.rapidapi.com\")\n",
        "\n",
        "    # Define headers\n",
        "    headers = {\n",
        "        'x-rapidapi-key': api_key,\n",
        "        'x-rapidapi-host': \"airport-info.p.rapidapi.com\"\n",
        "    }\n",
        "\n",
        "    # Build the API request URL with the icao_code\n",
        "    url = f\"/airport?icao={icao_code}\"\n",
        "\n",
        "    # Send a GET request to the API\n",
        "    conn.request(\"GET\", url, headers=headers)\n",
        "\n",
        "    # Get the response\n",
        "    res = conn.getresponse()\n",
        "\n",
        "    if res.status == 200:\n",
        "        # Read and decode the response data\n",
        "        data = res.read().decode(\"utf-8\")\n",
        "        return data\n",
        "    else:\n",
        "        return None\n",
        "\n",
        "\n",
        "\n",
        "# Initialize SparkSession\n",
        "spark = SparkSession.builder.appName(\"API Data Extraction\").getOrCreate()\n",
        "\n",
        "# Step 1: Read data from the Parquet file\n",
        "df_vra = spark.read.parquet(\"/content/VRA\")\n",
        "df_vra.show(5)\n",
        "\n",
        "# Step 2: Read data from the DataFrame\n",
        "\n",
        "unique_codes = (\n",
        "    df_vra.select(\"icao_aerodromo_origem\")\n",
        "    .union(df_vra.select(\"icao_aerodromo_destino\"))\n",
        "    .distinct()\n",
        ")\n",
        "\n",
        "# Rename the column to \"icao\"\n",
        "unique_codes = unique_codes.withColumnRenamed(\"icao_aerodromo_origem\", \"icao\")\n",
        "\n",
        "# Define a schema that covers all possible keys in the JSON-like responses\n",
        "schema = StructType([\n",
        "    StructField(\"id\", IntegerType(), True),\n",
        "    StructField(\"iata\", StringType(), True),\n",
        "    StructField(\"icao\", StringType(), True),\n",
        "    StructField(\"name\", StringType(), True),\n",
        "    StructField(\"location\", StringType(), True),\n",
        "    StructField(\"street_number\", StringType(), True),\n",
        "    StructField(\"street\", StringType(), True),\n",
        "    StructField(\"city\", StringType(), True),\n",
        "    StructField(\"county\", StringType(), True),\n",
        "    StructField(\"state\", StringType(), True),\n",
        "    StructField(\"country_iso\", StringType(), True),\n",
        "    StructField(\"country\", StringType(), True),\n",
        "    StructField(\"postal_code\", StringType(), True),\n",
        "    StructField(\"phone\", StringType(), True),\n",
        "    StructField(\"latitude\", DoubleType(), True),\n",
        "    StructField(\"longitude\", DoubleType(), True),\n",
        "    StructField(\"uct\", IntegerType(), True),\n",
        "    StructField(\"website\", StringType(), True)\n",
        "])\n",
        "\n",
        "# Create an empty DataFrame to hold the API responses\n",
        "api_dataframe = spark.createDataFrame([], schema=schema)\n",
        "\n",
        "# Fetch data for each unique code and add it to the DataFrame\n",
        "for row in unique_codes.collect():\n",
        "    icao_code = row[\"icao\"]\n",
        "    api_response = fetch_data(icao_code)\n",
        "    if api_response:\n",
        "        api_dataframe = api_dataframe.union(spark.createDataFrame([[None, None, icao_code, None, None, None, None, None, None, None, None, None, None, None, None, None, None, api_response]], schema=schema))\n",
        "\n",
        "# Add a column to indicate the source icao_code for each record\n",
        "api_dataframe = api_dataframe.withColumn(\"icao_code_source\", lit(\"icao_code\"))\n",
        "\n",
        "# Print the DataFrame to view the results\n",
        "api_dataframe.show(truncate=False)\n",
        "\n",
        "# Stop the SparkSession when done\n",
        "#spark.stop()\n"
      ]
    },
    {
      "cell_type": "markdown",
      "metadata": {
        "id": "pzzi9wlfOjzH"
      },
      "source": [
        "readjust the columns"
      ]
    },
    {
      "cell_type": "code",
      "execution_count": 16,
      "metadata": {
        "colab": {
          "base_uri": "https://localhost:8080/"
        },
        "id": "zP2KBib-O4RO",
        "outputId": "cfbb4d75-0305-4546-9e7c-164c3251cd5f"
      },
      "outputs": [
        {
          "name": "stdout",
          "output_type": "stream",
          "text": [
            "+----+----+----+----------------------------------------------------------------------+-----------------------------------------------+-------------+--------------------------------------+-----------------+-----------------------+-----------------------+-----------+--------------------+-----------+-----------------+----------+----------+----+-----------------------------------------------------------------------------------------+----------------+\n",
            "|id  |iata|icao|name                                                                  |location                                       |street_number|street                                |city             |county                 |state                  |country_iso|country             |postal_code|phone            |latitude  |longitude |uct |website                                                                                  |icao_code_source|\n",
            "+----+----+----+----------------------------------------------------------------------+-----------------------------------------------+-------------+--------------------------------------+-----------------+-----------------------+-----------------------+-----------+--------------------+-----------+-----------------+----------+----------+----+-----------------------------------------------------------------------------------------+----------------+\n",
            "|1213|CDG |LFPG|Charles de Gaulle Airport (Roissy Airport)                            |Paris, Île-de-France, France                   |             |                                      |Roissy-en-France |                       |Île-de-France          |FR         |France              |95700      |+33 1 70 36 39 50|49.00969  |2.5479245 |120 |http://www.parisaeroport.fr/                                                             |icao_code       |\n",
            "|908 |BPS |SBPS|Porto Seguro Airport                                                  |Porto Seguro, Bahia, Brazil                    |68           |Rua Primeiro de Maio                  |                 |Porto Seguro           |Bahia                  |BR         |Brazil              |45810-000  |+55 73 3288-1880 |-16.439308|-39.081562|-180|http://www.aeroportoseguro.com.br/                                                       |icao_code       |\n",
            "|410 |ATL |KATL|Hartsfield–Jackson Atlanta International Airport                      |Atlanta, Georgia, United States                |6000         |North Terminal Parkway                |Atlanta          |                       |Georgia                |US         |United States       |30320      |+1 800-897-1910  |33.640728 |-84.427704|-240|http://www.atl.com/                                                                      |icao_code       |\n",
            "|3301|ITB |SBIH|Itaituba Airport                                                      |Itaituba, Pará, Brazil                         |             |                                      |                 |Itaituba               |State of Pará          |BR         |Brazil              |           |                 |-4.245743 |-56.006847|-180|                                                                                         |icao_code       |\n",
            "|1284|CGN |EDDK|Cologne Bonn Airport                                                  |Cologne / Bonn, North Rhine-Westphalia, Germany|             |Kennedystraße                         |Köln             |Köln                   |Nordrhein-Westfalen    |DE         |Germany             |51147      |+49 2203 404001  |50.870716 |7.140734  |120 |https://www.koeln-bonn-airport.de/                                                       |icao_code       |\n",
            "|6811|SJK |SBSJ|Professor Urbano Ernesto Stumpf Airport                               |São José dos Campos, São Paulo, Brazil         |1941         |Avenida Brigadeiro Faria Lima         |                 |São José dos Campos    |São Paulo              |BR         |Brazil              |12227-000  |+55 12 3946-3000 |-23.225304|-45.861576|-180|http://www.infraero.gov.br/                                                              |icao_code       |\n",
            "|1857|DOH |OTHH|Hamad International Airport                                           |Doha, Qatar                                    |             |                                      |Doha             |                       |Doha                   |QA         |Qatar               |           |+974 4010 6666   |25.260595 |51.613766 |180 |http://www.dohahamadairport.com/                                                         |icao_code       |\n",
            "|8322|XAP |SBCH|Serafin Enoss Bertaso Airport                                         |Chapecó, Santa Catarina, Brazil                |4535D        |Acesso Florenal Ribeiro               |                 |Chapecó                |Santa Catarina         |BR         |Brazil              |89815-900  |+55 49 3322-1034 |-27.134077|-52.66066 |-180|http://www.chapeco.sc.gov.br/                                                            |icao_code       |\n",
            "|1343|CJC |SCCF|El Loa Airport                                                        |Calama, Chile                                  |             |                                      |Calama           |El Loa                 |Región de Antofagasta  |CL         |Chile               |           |                 |-22.49511 |-68.907906|-180|http://www.avis.cl/sucursal/calama                                                       |icao_code       |\n",
            "|8132|WDH |FYWH|Hosea Kutako International Airport                                    |Windhoek, Namibia                              |             |                                      |                 |                       |Khomas Region          |NA         |Namibia             |           |+264 61 295 5600 |-22.484776|17.470316 |120 |http://www.airports.com.na/airports/hosea-kutako-international-airport/12/               |icao_code       |\n",
            "|1404|CMG |SBCR|Corumbá International Airport                                         |Corumbá, Mato Grosso do Sul, Brazil            |S/n          |Rua Santos Dumont                     |                 |Corumbá                |Mato Grosso do Sul     |BR         |Brazil              |79332-150  |+55 67 3231-3322 |-19.013786|-57.66343 |-240|http://www4.infraero.gov.br/aeroportos/aeroporto-internacional-de-corumba/               |icao_code       |\n",
            "|8981|ALT |SDWQ|Alenquer Airport                                                      |Alenquer, Pará, Brazil                         |             |Alameda das Comunidades Portuguesas   |Alenquer         |                       |Pará                   |BR         |Brazil              |           |                 |-1.93889  |-54.7472  |-240|                                                                                         |icao_code       |\n",
            "|277 |ANC |PANC|Ted Stevens Anchorage International Airport                           |Anchorage, Alaska, United States               |5000         |West International Airport Road       |Anchorage        |Anchorage              |Alaska                 |US         |United States       |99502      |+1 907-266-2526  |61.175888 |-149.99008|-480|http://dot.state.ak.us/anc/                                                              |icao_code       |\n",
            "|8291|WUH |ZHHH|Wuhan Tianhe International Airport                                    |Wuhan, Hubei, China                            |             |                                      |Wuhan            |                       |Hubei                  |CN         |China               |           |+86 27 96577     |30.776617 |114.21245 |480 |                                                                                         |icao_code       |\n",
            "|7845|URG |SBUG|Rubem Berta International Airport                                     |Uruguaiana, Rio Grande do Sul, Brazil          |s/n          |Acesso Marechal Setembrino de Carvalho|                 |Uruguaiana             |Rio Grande do Sul      |BR         |Brazil              |97513-780  |+55 55 3413-1314 |-29.783995|-57.0357  |-180|http://www4.infraero.gov.br/aeroportos/aeroporto-internacional-de-uruguaiana-rubem-berta/|icao_code       |\n",
            "|431 |AUH |OMAA|Abu Dhabi International Airport                                       |Abu Dhabi, United Arab Emirates                |             |                                      |Abu Dhabi        |                       |Abu Dhabi              |AE         |United Arab Emirates|           |+971 2 505 5555  |24.441938 |54.650074 |240 |http://www.abudhabiairport.ae/                                                           |icao_code       |\n",
            "|8988|NAT |SBSG|São Gonçalo do Amarante–Governador Aluízio Alves International Airport|Natal, Rio Grande do Norte, Brazil             |             |                                      |                 |São Gonçalo do Amarante|Rio Grande do Norte    |BR         |Brazil              |59290-000  |+55 84 3343-6060 |-5.7679067|-35.364033|-180|http://www.natal.aero/                                                                   |icao_code       |\n",
            "|6992|SQX |SSOE|Hélio Wasum Airport                                                   |São Miguel do Oeste, Santa Catarina, Brazil    |             |                                      |                 |São Miguel do Oeste    |State of Santa Catarina|BR         |Brazil              |89900-000  |                 |-26.778214|-53.50558 |-180|                                                                                         |icao_code       |\n",
            "|128 |AGA |GMAD|Agadir–Al Massira Airport                                             |Agadir, Morocco                                |             |                                      |Agadir Al Massira|إنزكان-أيت ملول        |جهة سوس ماسة           |MA         |Morocco             |80000      |+212 5288-39152  |30.327028 |-9.4128895|60  |http://www.agadir-airport.com/                                                           |icao_code       |\n",
            "|2279|FEN |SBFN|Fernando de Noronha Airport (Gov. Carlos Wilson Airport)              |Fernando de Noronha, Pernambuco, Brazil        |             |                                      |                 |Fernando de Noronha    |State of Pernambuco    |BR         |Brazil              |53990-000  |                 |-3.8546145|-32.424385|-120|                                                                                         |icao_code       |\n",
            "+----+----+----+----------------------------------------------------------------------+-----------------------------------------------+-------------+--------------------------------------+-----------------+-----------------------+-----------------------+-----------+--------------------+-----------+-----------------+----------+----------+----+-----------------------------------------------------------------------------------------+----------------+\n",
            "only showing top 20 rows\n",
            "\n"
          ]
        }
      ],
      "source": [
        "\n",
        "\n",
        "# Assuming api_dataframe contains the original data\n",
        "\n",
        "# Define a schema for the JSON data within the \"website\" column\n",
        "json_schema = StructType([\n",
        "    StructField(\"id\", IntegerType()),\n",
        "    StructField(\"iata\", StringType()),\n",
        "    StructField(\"icao\", StringType()),\n",
        "    StructField(\"name\", StringType()),\n",
        "    StructField(\"location\", StringType()),\n",
        "    StructField(\"street_number\", StringType()),\n",
        "    StructField(\"street\", StringType()),\n",
        "    StructField(\"city\", StringType()),\n",
        "    StructField(\"county\", StringType()),\n",
        "    StructField(\"state\", StringType()),\n",
        "    StructField(\"country_iso\", StringType()),\n",
        "    StructField(\"country\", StringType()),\n",
        "    StructField(\"postal_code\", StringType()),\n",
        "    StructField(\"phone\", StringType()),\n",
        "    StructField(\"latitude\", DoubleType()),\n",
        "    StructField(\"longitude\", DoubleType()),\n",
        "    StructField(\"uct\", IntegerType()),\n",
        "    StructField(\"website\", StringType())\n",
        "])\n",
        "\n",
        "# Extract JSON data and create a new DataFrame with expanded columns\n",
        "expanded_data = api_dataframe.withColumn(\"website_data\", from_json(col(\"website\"), json_schema))\n",
        "\n",
        "# Select the columns you need and filter out rows with \"NULL\" in the \"id\" column\n",
        "expanded_data = expanded_data.filter(col(\"website_data.id\").isNotNull())\n",
        "\n",
        "# Select the columns you need\n",
        "expanded_data = expanded_data.select(\n",
        "    \"website_data.id\",\n",
        "    \"website_data.iata\",\n",
        "    \"website_data.icao\",\n",
        "    \"website_data.name\",\n",
        "    \"website_data.location\",\n",
        "    \"website_data.street_number\",\n",
        "    \"website_data.street\",\n",
        "    \"website_data.city\",\n",
        "    \"website_data.county\",\n",
        "    \"website_data.state\",\n",
        "    \"website_data.country_iso\",\n",
        "    \"website_data.country\",\n",
        "    \"website_data.postal_code\",\n",
        "    \"website_data.phone\",\n",
        "    \"website_data.latitude\",\n",
        "    \"website_data.longitude\",\n",
        "    \"website_data.uct\",\n",
        "    \"website_data.website\",\n",
        "    \"icao_code_source\"\n",
        ")\n",
        "\n",
        "# Show the resulting DataFrame\n",
        "expanded_data.show(truncate=False)\n",
        "\n",
        "\n"
      ]
    },
    {
      "cell_type": "code",
      "execution_count": null,
      "metadata": {
        "id": "0JQG2uVPP8BY"
      },
      "outputs": [],
      "source": []
    },
    {
      "cell_type": "code",
      "execution_count": 17,
      "metadata": {
        "id": "P59Ptg76SJsS"
      },
      "outputs": [],
      "source": [
        "coalesced_data = expanded_data.coalesce(1)\n",
        "# Save the expanded_data DataFrame as a Parquet table\n",
        "coalesced_data.write.mode(\"overwrite\").parquet(\"/content/test/results.parquet\")\n",
        "\n",
        "# Save the expanded_data DataFrame as a JSON table\n",
        "coalesced_data.write.mode(\"overwrite\").json(\"/content/test/results.json\")"
      ]
    }
  ],
  "metadata": {
    "colab": {
      "provenance": []
    },
    "kernelspec": {
      "display_name": "Python 3",
      "name": "python3"
    },
    "language_info": {
      "name": "python"
    }
  },
  "nbformat": 4,
  "nbformat_minor": 0
}
